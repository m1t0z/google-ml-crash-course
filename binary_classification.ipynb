{
  "cells": [
    {
      "cell_type": "code",
      "execution_count": null,
      "metadata": {
        "cellView": "form",
        "colab": {},
        "colab_type": "code",
        "id": "wDlWLbfkJtvu"
      },
      "outputs": [],
      "source": [
        "#@title Copyright 2020 Google LLC. Double-click here for license information.\n",
        "# Licensed under the Apache License, Version 2.0 (the \"License\");\n",
        "# you may not use this file except in compliance with the License.\n",
        "# You may obtain a copy of the License at\n",
        "#\n",
        "# https://www.apache.org/licenses/LICENSE-2.0\n",
        "#\n",
        "# Unless required by applicable law or agreed to in writing, software\n",
        "# distributed under the License is distributed on an \"AS IS\" BASIS,\n",
        "# WITHOUT WARRANTIES OR CONDITIONS OF ANY KIND, either express or implied.\n",
        "# See the License for the specific language governing permissions and\n",
        "# limitations under the License."
      ]
    },
    {
      "cell_type": "markdown",
      "metadata": {
        "colab_type": "text",
        "id": "TL5y5fY9Jy_x"
      },
      "source": [
        "# Binary Classification\n",
        "\n",
        "So far, you've only created regression models. That is, you created models that produced floating-point predictions, such as, \"houses in this neighborhood costs N thousand dollars.\" In this Colab, you'll create and evaluate a binary [classification model](https://developers.google.com/machine-learning/glossary/#classification_model).  That is, you'll create a model that answers a binary question. In this exercise, the binary question will be, \"Are houses in this neighborhood above a certain price?\"\n",
        "\n",
        "\n",
        "\n"
      ]
    },
    {
      "cell_type": "markdown",
      "metadata": {
        "colab_type": "text",
        "id": "yuw8rRl9lNuL"
      },
      "source": [
        "## Learning Objectives:\n",
        "\n",
        "After doing this Colab, you'll know how to:\n",
        "\n",
        "  * Convert a regression question into a classification question.\n",
        "  * Modify the classification threshold and determine how that modification influences the model.\n",
        "  * Experiment with different classification metrics to determine your model's effectiveness."
      ]
    },
    {
      "cell_type": "markdown",
      "metadata": {
        "colab_type": "text",
        "id": "44OdC-OglN9D"
      },
      "source": [
        "## The Dataset\n",
        "  \n",
        "Like several of the previous Colabs, this Colab uses the [California Housing Dataset](https://developers.google.com/machine-learning/crash-course/california-housing-data-description)."
      ]
    },
    {
      "cell_type": "markdown",
      "metadata": {
        "colab_type": "text",
        "id": "xchnxAsaKKqO"
      },
      "source": [
        "## Use the right version of TensorFlow\n",
        "\n"
      ]
    },
    {
      "cell_type": "markdown",
      "metadata": {
        "colab_type": "text",
        "id": "BDWhxaj2OMSv"
      },
      "source": [
        "The following hidden code cell ensures that the Colab will run on TensorFlow 2.X."
      ]
    },
    {
      "cell_type": "code",
      "execution_count": 1,
      "metadata": {
        "cellView": "form",
        "colab": {},
        "colab_type": "code",
        "id": "qBpGi_GD14-p"
      },
      "outputs": [
        {
          "name": "stderr",
          "output_type": "stream",
          "text": [
            "UsageError: Line magic function `%tensorflow_version` not found.\n"
          ]
        }
      ],
      "source": [
        "#@title Run on TensorFlow 2.x\n",
        "%tensorflow_version 2.x"
      ]
    },
    {
      "cell_type": "markdown",
      "metadata": {
        "colab_type": "text",
        "id": "5iuw6-JOGf7I"
      },
      "source": [
        "## Call the import statements\n",
        "\n",
        "The following code imports the necessary modules."
      ]
    },
    {
      "cell_type": "code",
      "execution_count": 2,
      "metadata": {
        "cellView": "form",
        "colab": {},
        "colab_type": "code",
        "id": "9n9_cTveKmse"
      },
      "outputs": [
        {
          "name": "stdout",
          "output_type": "stream",
          "text": [
            "Ran the import statements.\n"
          ]
        }
      ],
      "source": [
        "#@title Load the imports\n",
        "\n",
        "# from __future__ import absolute_import, division, print_function, unicode_literals\n",
        "\n",
        "import numpy as np\n",
        "import pandas as pd\n",
        "import tensorflow as tf\n",
        "from tensorflow import feature_column\n",
        "from tensorflow.keras import layers\n",
        "from matplotlib import pyplot as plt\n",
        "\n",
        "# The following lines adjust the granularity of reporting.\n",
        "pd.options.display.max_rows = 10\n",
        "pd.options.display.float_format = \"{:.1f}\".format\n",
        "# tf.keras.backend.set_floatx('float32')\n",
        "\n",
        "print(\"Ran the import statements.\")"
      ]
    },
    {
      "cell_type": "markdown",
      "metadata": {
        "colab_type": "text",
        "id": "X_TaJhU4KcuY"
      },
      "source": [
        "## Load the datasets from the internet\n",
        "\n",
        "The following code cell loads the separate .csv files and creates the following two pandas DataFrames:\n",
        "\n",
        "* `train_df`, which contains the training set\n",
        "* `test_df`, which contains the test set"
      ]
    },
    {
      "cell_type": "code",
      "execution_count": 3,
      "metadata": {
        "colab": {},
        "colab_type": "code",
        "id": "JZlvdpyYKx7V"
      },
      "outputs": [],
      "source": [
        "train_df = pd.read_csv(\"https://download.mlcc.google.com/mledu-datasets/california_housing_train.csv\")\n",
        "test_df = pd.read_csv(\"https://download.mlcc.google.com/mledu-datasets/california_housing_test.csv\")\n",
        "train_df = train_df.reindex(np.random.permutation(train_df.index)) # shuffle the training set"
      ]
    },
    {
      "cell_type": "markdown",
      "metadata": {
        "colab_type": "text",
        "id": "q_vuAQq0Cvrp"
      },
      "source": [
        "Unlike some of the previous Colabs, the preceding code cell did not scale the label (`median_house_value`).  The following section (\"Normalize values\") provides an alternative approach."
      ]
    },
    {
      "cell_type": "markdown",
      "metadata": {
        "colab_type": "text",
        "id": "_G6y-XcEmk6r"
      },
      "source": [
        "## Normalize values\n",
        "\n",
        "When creating a model with multiple features, the values of each feature should cover roughly the same range.  For example, if one feature's range spans 500 to 100,000 and another feature's range spans 2 to 12, then the model will be difficult or impossible to train. Therefore, you should \n",
        "[normalize](https://developers.google.com/machine-learning/glossary/#normalization) features in a multi-feature model. \n",
        "\n",
        "The following code cell normalizes datasets by converting each raw value (including the label) to its Z-score. A **Z-score** is the number of standard deviations from the mean for a particular raw value. For example, consider a feature having the following characteristics:\n",
        "\n",
        "  * The mean is 60.\n",
        "  * The standard deviation is 10.\n",
        "\n",
        "The raw value 75 would have a Z-score of +1.5:\n",
        "\n",
        "```\n",
        "  Z-score = (75 - 60) / 10 = +1.5\n",
        "```\n",
        "\n",
        "The raw value 38 would have a Z-score of -2.2:\n",
        "\n",
        "```\n",
        "  Z-score = (38 - 60) / 10 = -2.2\n",
        "```"
      ]
    },
    {
      "cell_type": "code",
      "execution_count": 4,
      "metadata": {
        "colab": {},
        "colab_type": "code",
        "id": "n7nuAHoZIgVI"
      },
      "outputs": [
        {
          "data": {
            "text/html": [
              "<div>\n",
              "<style scoped>\n",
              "    .dataframe tbody tr th:only-of-type {\n",
              "        vertical-align: middle;\n",
              "    }\n",
              "\n",
              "    .dataframe tbody tr th {\n",
              "        vertical-align: top;\n",
              "    }\n",
              "\n",
              "    .dataframe thead th {\n",
              "        text-align: right;\n",
              "    }\n",
              "</style>\n",
              "<table border=\"1\" class=\"dataframe\">\n",
              "  <thead>\n",
              "    <tr style=\"text-align: right;\">\n",
              "      <th></th>\n",
              "      <th>longitude</th>\n",
              "      <th>latitude</th>\n",
              "      <th>housing_median_age</th>\n",
              "      <th>total_rooms</th>\n",
              "      <th>total_bedrooms</th>\n",
              "      <th>population</th>\n",
              "      <th>households</th>\n",
              "      <th>median_income</th>\n",
              "      <th>median_house_value</th>\n",
              "    </tr>\n",
              "  </thead>\n",
              "  <tbody>\n",
              "    <tr>\n",
              "      <th>10176</th>\n",
              "      <td>-0.1</td>\n",
              "      <td>0.5</td>\n",
              "      <td>-1.2</td>\n",
              "      <td>0.7</td>\n",
              "      <td>0.9</td>\n",
              "      <td>0.8</td>\n",
              "      <td>1.0</td>\n",
              "      <td>-0.5</td>\n",
              "      <td>-1.2</td>\n",
              "    </tr>\n",
              "    <tr>\n",
              "      <th>1345</th>\n",
              "      <td>1.2</td>\n",
              "      <td>-1.4</td>\n",
              "      <td>-0.1</td>\n",
              "      <td>-0.6</td>\n",
              "      <td>-0.2</td>\n",
              "      <td>-0.7</td>\n",
              "      <td>-0.1</td>\n",
              "      <td>-1.4</td>\n",
              "      <td>0.2</td>\n",
              "    </tr>\n",
              "    <tr>\n",
              "      <th>14396</th>\n",
              "      <td>-1.3</td>\n",
              "      <td>1.0</td>\n",
              "      <td>-0.2</td>\n",
              "      <td>0.6</td>\n",
              "      <td>-0.1</td>\n",
              "      <td>0.0</td>\n",
              "      <td>-0.0</td>\n",
              "      <td>2.0</td>\n",
              "      <td>1.8</td>\n",
              "    </tr>\n",
              "    <tr>\n",
              "      <th>870</th>\n",
              "      <td>1.2</td>\n",
              "      <td>-1.2</td>\n",
              "      <td>-0.9</td>\n",
              "      <td>2.7</td>\n",
              "      <td>5.0</td>\n",
              "      <td>4.9</td>\n",
              "      <td>4.6</td>\n",
              "      <td>-0.9</td>\n",
              "      <td>-0.8</td>\n",
              "    </tr>\n",
              "    <tr>\n",
              "      <th>4199</th>\n",
              "      <td>0.8</td>\n",
              "      <td>-0.9</td>\n",
              "      <td>-0.9</td>\n",
              "      <td>1.2</td>\n",
              "      <td>1.2</td>\n",
              "      <td>0.9</td>\n",
              "      <td>1.3</td>\n",
              "      <td>0.3</td>\n",
              "      <td>0.4</td>\n",
              "    </tr>\n",
              "  </tbody>\n",
              "</table>\n",
              "</div>"
            ],
            "text/plain": [
              "       longitude  latitude  housing_median_age  total_rooms  total_bedrooms  \\\n",
              "10176       -0.1       0.5                -1.2          0.7             0.9   \n",
              "1345         1.2      -1.4                -0.1         -0.6            -0.2   \n",
              "14396       -1.3       1.0                -0.2          0.6            -0.1   \n",
              "870          1.2      -1.2                -0.9          2.7             5.0   \n",
              "4199         0.8      -0.9                -0.9          1.2             1.2   \n",
              "\n",
              "       population  households  median_income  median_house_value  \n",
              "10176         0.8         1.0           -0.5                -1.2  \n",
              "1345         -0.7        -0.1           -1.4                 0.2  \n",
              "14396         0.0        -0.0            2.0                 1.8  \n",
              "870           4.9         4.6           -0.9                -0.8  \n",
              "4199          0.9         1.3            0.3                 0.4  "
            ]
          },
          "execution_count": 4,
          "metadata": {},
          "output_type": "execute_result"
        }
      ],
      "source": [
        "# Calculate the Z-scores of each column in the training set and\n",
        "# write those Z-scores into a new pandas DataFrame named train_df_norm.\n",
        "train_df_mean = train_df.mean()\n",
        "train_df_std = train_df.std()\n",
        "train_df_norm = (train_df - train_df_mean)/train_df_std\n",
        "\n",
        "# Examine some of the values of the normalized training set. Notice that most \n",
        "# Z-scores fall between -2 and +2.\n",
        "train_df_norm.head()"
      ]
    },
    {
      "cell_type": "code",
      "execution_count": 6,
      "metadata": {
        "colab": {},
        "colab_type": "code",
        "id": "QoW-59jVFF2I"
      },
      "outputs": [
        {
          "data": {
            "text/html": [
              "<div>\n",
              "<style scoped>\n",
              "    .dataframe tbody tr th:only-of-type {\n",
              "        vertical-align: middle;\n",
              "    }\n",
              "\n",
              "    .dataframe tbody tr th {\n",
              "        vertical-align: top;\n",
              "    }\n",
              "\n",
              "    .dataframe thead th {\n",
              "        text-align: right;\n",
              "    }\n",
              "</style>\n",
              "<table border=\"1\" class=\"dataframe\">\n",
              "  <thead>\n",
              "    <tr style=\"text-align: right;\">\n",
              "      <th></th>\n",
              "      <th>longitude</th>\n",
              "      <th>latitude</th>\n",
              "      <th>housing_median_age</th>\n",
              "      <th>total_rooms</th>\n",
              "      <th>total_bedrooms</th>\n",
              "      <th>population</th>\n",
              "      <th>households</th>\n",
              "      <th>median_income</th>\n",
              "      <th>median_house_value</th>\n",
              "    </tr>\n",
              "  </thead>\n",
              "  <tbody>\n",
              "    <tr>\n",
              "      <th>0</th>\n",
              "      <td>-1.2</td>\n",
              "      <td>0.8</td>\n",
              "      <td>-0.1</td>\n",
              "      <td>0.6</td>\n",
              "      <td>0.3</td>\n",
              "      <td>0.1</td>\n",
              "      <td>0.3</td>\n",
              "      <td>1.5</td>\n",
              "      <td>1.2</td>\n",
              "    </tr>\n",
              "    <tr>\n",
              "      <th>1</th>\n",
              "      <td>0.6</td>\n",
              "      <td>-0.6</td>\n",
              "      <td>1.1</td>\n",
              "      <td>-0.5</td>\n",
              "      <td>-0.5</td>\n",
              "      <td>-0.6</td>\n",
              "      <td>-0.6</td>\n",
              "      <td>-0.1</td>\n",
              "      <td>-0.3</td>\n",
              "    </tr>\n",
              "    <tr>\n",
              "      <th>2</th>\n",
              "      <td>0.9</td>\n",
              "      <td>-0.9</td>\n",
              "      <td>-0.1</td>\n",
              "      <td>0.5</td>\n",
              "      <td>-0.1</td>\n",
              "      <td>0.1</td>\n",
              "      <td>0.0</td>\n",
              "      <td>1.1</td>\n",
              "      <td>0.6</td>\n",
              "    </tr>\n",
              "    <tr>\n",
              "      <th>3</th>\n",
              "      <td>0.6</td>\n",
              "      <td>-0.9</td>\n",
              "      <td>-0.1</td>\n",
              "      <td>-1.2</td>\n",
              "      <td>-1.2</td>\n",
              "      <td>-1.3</td>\n",
              "      <td>-1.3</td>\n",
              "      <td>1.3</td>\n",
              "      <td>1.1</td>\n",
              "    </tr>\n",
              "    <tr>\n",
              "      <th>4</th>\n",
              "      <td>-0.0</td>\n",
              "      <td>0.3</td>\n",
              "      <td>-0.8</td>\n",
              "      <td>-0.6</td>\n",
              "      <td>-0.7</td>\n",
              "      <td>-0.5</td>\n",
              "      <td>-0.7</td>\n",
              "      <td>-0.5</td>\n",
              "      <td>-1.1</td>\n",
              "    </tr>\n",
              "  </tbody>\n",
              "</table>\n",
              "</div>"
            ],
            "text/plain": [
              "   longitude  latitude  housing_median_age  total_rooms  total_bedrooms  \\\n",
              "0       -1.2       0.8                -0.1          0.6             0.3   \n",
              "1        0.6      -0.6                 1.1         -0.5            -0.5   \n",
              "2        0.9      -0.9                -0.1          0.5            -0.1   \n",
              "3        0.6      -0.9                -0.1         -1.2            -1.2   \n",
              "4       -0.0       0.3                -0.8         -0.6            -0.7   \n",
              "\n",
              "   population  households  median_income  median_house_value  \n",
              "0         0.1         0.3            1.5                 1.2  \n",
              "1        -0.6        -0.6           -0.1                -0.3  \n",
              "2         0.1         0.0            1.1                 0.6  \n",
              "3        -1.3        -1.3            1.3                 1.1  \n",
              "4        -0.5        -0.7           -0.5                -1.1  "
            ]
          },
          "execution_count": 6,
          "metadata": {},
          "output_type": "execute_result"
        }
      ],
      "source": [
        "# Calculate the Z-scores of each column in the test set and\n",
        "# write those Z-scores into a new pandas DataFrame named test_df_norm.\n",
        "test_df_mean = test_df.mean()\n",
        "test_df_std  = test_df.std()\n",
        "test_df_norm = (test_df - test_df_mean)/test_df_std\n",
        "test_df_norm.head()"
      ]
    },
    {
      "cell_type": "markdown",
      "metadata": {
        "colab_type": "text",
        "id": "-swmXtWnZGis"
      },
      "source": [
        "## Task 1: Create a binary label\n",
        "\n",
        "In classification problems, the label for every example must be either 0 or 1. Unfortunately, the natural label in the California Housing Dataset, `median_house_value`, contains floating-point values like 80,100 or 85,700 rather than 0s and 1s, while the normalized version of `median_house_values` contains floating-point values primarily between -3 and +3.\n",
        "\n",
        "Your task is to create a new column named `median_house_value_is_high` in both the training set and the test set . If the `median_house_value` is higher than a certain arbitrary value (defined by `threshold`), then set `median_house_value_is_high` to 1. Otherwise, set `median_house_value_is_high` to 0. \n",
        "\n",
        "**Hint:** The cells in the `median_house_value_is_high` column must each hold `1` and `0`, not `True` and `False`. To convert `True` and `False` to  `1` and `0`, call the pandas DataFrame function `astype(float)`. "
      ]
    },
    {
      "cell_type": "code",
      "execution_count": 13,
      "metadata": {
        "colab": {},
        "colab_type": "code",
        "id": "d4kWfWA8bhKW"
      },
      "outputs": [
        {
          "data": {
            "text/plain": [
              "10176   0.0\n",
              "1345    0.0\n",
              "14396   1.0\n",
              "870     0.0\n",
              "4199    0.0\n",
              "         ..\n",
              "9507    0.0\n",
              "8018    0.0\n",
              "11587   0.0\n",
              "10456   0.0\n",
              "5612    0.0\n",
              "Name: median_house_value_is_high, Length: 8000, dtype: float64"
            ]
          },
          "execution_count": 13,
          "metadata": {},
          "output_type": "execute_result"
        }
      ],
      "source": [
        "threshold = 265000 # This is the 75th percentile for median house values.\n",
        "train_df_norm[\"median_house_value_is_high\"] = (train_df[\"median_house_value\"] > threshold).astype(float)\n",
        "test_df_norm[\"median_house_value_is_high\"] = (test_df[\"median_house_value\"] > threshold).astype(float)\n",
        "\n",
        "# Print out a few example cells from the beginning and \n",
        "# middle of the training set, just to make sure that\n",
        "# your code created only 0s and 1s in the newly created\n",
        "# median_house_value_is_high column\n",
        "train_df_norm[\"median_house_value_is_high\"].head(8000)\n"
      ]
    },
    {
      "cell_type": "markdown",
      "metadata": {
        "colab_type": "text",
        "id": "8kir8UTUXSV8"
      },
      "source": [
        "## Represent features in feature columns\n",
        "\n",
        "This code cell specifies the features that you'll ultimately train the model on and how each of those features will be represented. The transformations (collected in `feature_layer`) don't actually get applied until you pass a DataFrame to it, which will happen when we train the model. "
      ]
    },
    {
      "cell_type": "code",
      "execution_count": 14,
      "metadata": {
        "colab": {},
        "colab_type": "code",
        "id": "3tmmZIDw4JEC"
      },
      "outputs": [
        {
          "data": {
            "text/plain": [
              "<tf.Tensor: shape=(17000, 2), dtype=float32, numpy=\n",
              "array([[-0.48585013,  0.703382  ],\n",
              "       [-1.3713645 , -0.6416048 ],\n",
              "       [ 1.985226  ,  0.6442063 ],\n",
              "       ...,\n",
              "       [-1.6009054 , -0.43150792],\n",
              "       [-0.01104632, -0.70995504],\n",
              "       [ 0.54430646,  4.1855764 ]], dtype=float32)>"
            ]
          },
          "execution_count": 14,
          "metadata": {},
          "output_type": "execute_result"
        }
      ],
      "source": [
        "# Create an empty list that will eventually hold all created feature columns.\n",
        "feature_columns = []\n",
        "\n",
        "# Create a numerical feature column to represent median_income.\n",
        "median_income = tf.feature_column.numeric_column(\"median_income\")\n",
        "feature_columns.append(median_income)\n",
        "\n",
        "# Create a numerical feature column to represent total_rooms.\n",
        "tr = tf.feature_column.numeric_column(\"total_rooms\")\n",
        "feature_columns.append(tr)\n",
        "\n",
        "# Convert the list of feature columns into a layer that will later be fed into\n",
        "# the model. \n",
        "feature_layer = layers.DenseFeatures(feature_columns)\n",
        "\n",
        "# Print the first 3 and last 3 rows of the feature_layer's output when applied\n",
        "# to train_df_norm:\n",
        "feature_layer(dict(train_df_norm))"
      ]
    },
    {
      "cell_type": "markdown",
      "metadata": {
        "colab_type": "text",
        "id": "3014ezH3C7jT"
      },
      "source": [
        "## Define functions that build and train a model\n",
        "\n",
        "The following code cell defines two functions:\n",
        "\n",
        "  * `create_model(my_learning_rate, feature_layer, my_metrics)`, which defines the model's\n",
        "    topography.\n",
        "  * `train_model(model, dataset, epochs, label_name, batch_size, shuffle)`, uses input features and labels to train the model.\n",
        "\n",
        "Prior exercises used [ReLU](https://developers.google.com/machine-learning/glossary#ReLU) as the [activation function](https://developers.google.com/machine-learning/glossary#activation_function). By contrast, this exercise uses [sigmoid](https://developers.google.com/machine-learning/glossary#sigmoid_function) as the activation function. "
      ]
    },
    {
      "cell_type": "code",
      "execution_count": 15,
      "metadata": {
        "cellView": "form",
        "colab": {},
        "colab_type": "code",
        "id": "pedD5GhlDC-y"
      },
      "outputs": [
        {
          "name": "stdout",
          "output_type": "stream",
          "text": [
            "Defined the create_model and train_model functions.\n"
          ]
        }
      ],
      "source": [
        "#@title Define the functions that create and train a model.\n",
        "def create_model(my_learning_rate, feature_layer, my_metrics):\n",
        "  \"\"\"Create and compile a simple classification model.\"\"\"\n",
        "  # Most simple tf.keras models are sequential.\n",
        "  model = tf.keras.models.Sequential()\n",
        "\n",
        "  # Add the feature layer (the list of features and how they are represented)\n",
        "  # to the model.\n",
        "  model.add(feature_layer)\n",
        "\n",
        "  # Funnel the regression value through a sigmoid function.\n",
        "  model.add(tf.keras.layers.Dense(units=1, input_shape=(1,),\n",
        "                                  activation=tf.sigmoid),)\n",
        "\n",
        "  # Call the compile method to construct the layers into a model that\n",
        "  # TensorFlow can execute.  Notice that we're using a different loss\n",
        "  # function for classification than for regression.    \n",
        "  model.compile(optimizer=tf.keras.optimizers.RMSprop(lr=my_learning_rate),                                                   \n",
        "                loss=tf.keras.losses.BinaryCrossentropy(),\n",
        "                metrics=my_metrics)\n",
        "\n",
        "  return model        \n",
        "\n",
        "\n",
        "def train_model(model, dataset, epochs, label_name,\n",
        "                batch_size=None, shuffle=True):\n",
        "  \"\"\"Feed a dataset into the model in order to train it.\"\"\"\n",
        "\n",
        "  # The x parameter of tf.keras.Model.fit can be a list of arrays, where\n",
        "  # each array contains the data for one feature.  Here, we're passing\n",
        "  # every column in the dataset. Note that the feature_layer will filter\n",
        "  # away most of those columns, leaving only the desired columns and their\n",
        "  # representations as features.\n",
        "  features = {name:np.array(value) for name, value in dataset.items()}\n",
        "  label = np.array(features.pop(label_name)) \n",
        "  history = model.fit(x=features, y=label, batch_size=batch_size,\n",
        "                      epochs=epochs, shuffle=shuffle)\n",
        "  \n",
        "  # The list of epochs is stored separately from the rest of history.\n",
        "  epochs = history.epoch\n",
        "\n",
        "  # Isolate the classification metric for each epoch.\n",
        "  hist = pd.DataFrame(history.history)\n",
        "\n",
        "  return epochs, hist  \n",
        "\n",
        "print(\"Defined the create_model and train_model functions.\")   "
      ]
    },
    {
      "cell_type": "markdown",
      "metadata": {
        "colab_type": "text",
        "id": "Ak_TMAzGOIFq"
      },
      "source": [
        "## Define a plotting function\n",
        "\n",
        "The following [matplotlib](https://developers.google.com/machine-learning/glossary/#matplotlib) function plots one or more curves, showing how various classification metrics change with each epoch."
      ]
    },
    {
      "cell_type": "code",
      "execution_count": 16,
      "metadata": {
        "cellView": "form",
        "colab": {},
        "colab_type": "code",
        "id": "QF0BFRXTOeR3"
      },
      "outputs": [
        {
          "name": "stdout",
          "output_type": "stream",
          "text": [
            "Defined the plot_curve function.\n"
          ]
        }
      ],
      "source": [
        "#@title Define the plotting function.\n",
        "def plot_curve(epochs, hist, list_of_metrics):\n",
        "  \"\"\"Plot a curve of one or more classification metrics vs. epoch.\"\"\"  \n",
        "  # list_of_metrics should be one of the names shown in:\n",
        "  # https://www.tensorflow.org/tutorials/structured_data/imbalanced_data#define_the_model_and_metrics  \n",
        "\n",
        "  plt.figure()\n",
        "  plt.xlabel(\"Epoch\")\n",
        "  plt.ylabel(\"Value\")\n",
        "\n",
        "  for m in list_of_metrics:\n",
        "    x = hist[m]\n",
        "    plt.plot(epochs[1:], x[1:], label=m)\n",
        "\n",
        "  plt.legend()\n",
        "\n",
        "print(\"Defined the plot_curve function.\")"
      ]
    },
    {
      "cell_type": "markdown",
      "metadata": {
        "colab_type": "text",
        "id": "D-IXYVfvM4gD"
      },
      "source": [
        "## Invoke the creating, training, and plotting functions\n",
        "\n",
        "The following code cell calls specify the hyperparameters, and then invokes the \n",
        "functions to create and train the model, and then to plot the results."
      ]
    },
    {
      "cell_type": "code",
      "execution_count": 17,
      "metadata": {
        "cellView": "both",
        "colab": {},
        "colab_type": "code",
        "id": "nj3v5EKQFY8s"
      },
      "outputs": [
        {
          "name": "stdout",
          "output_type": "stream",
          "text": [
            "Epoch 1/20\n",
            "WARNING:tensorflow:Layers in a Sequential model should only have a single input tensor, but we receive a <class 'dict'> input: {'longitude': <tf.Tensor 'ExpandDims_3:0' shape=(100, 1) dtype=float32>, 'latitude': <tf.Tensor 'ExpandDims_2:0' shape=(100, 1) dtype=float32>, 'housing_median_age': <tf.Tensor 'ExpandDims_1:0' shape=(100, 1) dtype=float32>, 'total_rooms': <tf.Tensor 'ExpandDims_8:0' shape=(100, 1) dtype=float32>, 'total_bedrooms': <tf.Tensor 'ExpandDims_7:0' shape=(100, 1) dtype=float32>, 'population': <tf.Tensor 'ExpandDims_6:0' shape=(100, 1) dtype=float32>, 'households': <tf.Tensor 'ExpandDims:0' shape=(100, 1) dtype=float32>, 'median_income': <tf.Tensor 'ExpandDims_5:0' shape=(100, 1) dtype=float32>, 'median_house_value': <tf.Tensor 'ExpandDims_4:0' shape=(100, 1) dtype=float32>}\n",
            "Consider rewriting this model with the Functional API.\n"
          ]
        },
        {
          "name": "stderr",
          "output_type": "stream",
          "text": [
            "/home/sonya/.local/lib/python3.8/site-packages/keras/optimizer_v2/optimizer_v2.py:355: UserWarning: The `lr` argument is deprecated, use `learning_rate` instead.\n",
            "  warnings.warn(\n"
          ]
        },
        {
          "name": "stdout",
          "output_type": "stream",
          "text": [
            "WARNING:tensorflow:Layers in a Sequential model should only have a single input tensor, but we receive a <class 'dict'> input: {'longitude': <tf.Tensor 'ExpandDims_3:0' shape=(100, 1) dtype=float32>, 'latitude': <tf.Tensor 'ExpandDims_2:0' shape=(100, 1) dtype=float32>, 'housing_median_age': <tf.Tensor 'ExpandDims_1:0' shape=(100, 1) dtype=float32>, 'total_rooms': <tf.Tensor 'ExpandDims_8:0' shape=(100, 1) dtype=float32>, 'total_bedrooms': <tf.Tensor 'ExpandDims_7:0' shape=(100, 1) dtype=float32>, 'population': <tf.Tensor 'ExpandDims_6:0' shape=(100, 1) dtype=float32>, 'households': <tf.Tensor 'ExpandDims:0' shape=(100, 1) dtype=float32>, 'median_income': <tf.Tensor 'ExpandDims_5:0' shape=(100, 1) dtype=float32>, 'median_house_value': <tf.Tensor 'ExpandDims_4:0' shape=(100, 1) dtype=float32>}\n",
            "Consider rewriting this model with the Functional API.\n",
            "170/170 [==============================] - 1s 946us/step - loss: 1.1602 - accuracy: 0.2101\n",
            "Epoch 2/20\n",
            "170/170 [==============================] - 0s 994us/step - loss: 1.0263 - accuracy: 0.2168\n",
            "Epoch 3/20\n",
            "170/170 [==============================] - 0s 894us/step - loss: 0.9081 - accuracy: 0.2298\n",
            "Epoch 4/20\n",
            "170/170 [==============================] - 0s 1ms/step - loss: 0.8078 - accuracy: 0.2596\n",
            "Epoch 5/20\n",
            "170/170 [==============================] - 0s 1ms/step - loss: 0.7273 - accuracy: 0.3419\n",
            "Epoch 6/20\n",
            "170/170 [==============================] - 0s 1ms/step - loss: 0.6630 - accuracy: 0.5433\n",
            "Epoch 7/20\n",
            "170/170 [==============================] - 0s 941us/step - loss: 0.6123 - accuracy: 0.7034\n",
            "Epoch 8/20\n",
            "170/170 [==============================] - 0s 905us/step - loss: 0.5685 - accuracy: 0.7317\n",
            "Epoch 9/20\n",
            "170/170 [==============================] - 0s 811us/step - loss: 0.5317 - accuracy: 0.7524\n",
            "Epoch 10/20\n",
            "170/170 [==============================] - 0s 1ms/step - loss: 0.4998 - accuracy: 0.7915\n",
            "Epoch 11/20\n",
            "170/170 [==============================] - 0s 1ms/step - loss: 0.4736 - accuracy: 0.8177\n",
            "Epoch 12/20\n",
            "170/170 [==============================] - 0s 851us/step - loss: 0.4526 - accuracy: 0.8252\n",
            "Epoch 13/20\n",
            "170/170 [==============================] - 0s 909us/step - loss: 0.4360 - accuracy: 0.8234\n",
            "Epoch 14/20\n",
            "170/170 [==============================] - 0s 987us/step - loss: 0.4231 - accuracy: 0.8202\n",
            "Epoch 15/20\n",
            "170/170 [==============================] - 0s 1ms/step - loss: 0.4135 - accuracy: 0.8168\n",
            "Epoch 16/20\n",
            "170/170 [==============================] - 0s 1ms/step - loss: 0.4068 - accuracy: 0.8144\n",
            "Epoch 17/20\n",
            "170/170 [==============================] - 0s 1ms/step - loss: 0.4024 - accuracy: 0.8118\n",
            "Epoch 18/20\n",
            "170/170 [==============================] - 0s 1ms/step - loss: 0.3997 - accuracy: 0.8104\n",
            "Epoch 19/20\n",
            "170/170 [==============================] - 0s 952us/step - loss: 0.3982 - accuracy: 0.8088\n",
            "Epoch 20/20\n",
            "170/170 [==============================] - 0s 1ms/step - loss: 0.3974 - accuracy: 0.8096\n"
          ]
        },
        {
          "data": {
            "image/png": "[encoded data removed]",
            "text/plain": [
              "<Figure size 432x288 with 1 Axes>"
            ]
          },
          "metadata": {
            "needs_background": "light"
          },
          "output_type": "display_data"
        }
      ],
      "source": [
        "# The following variables are the hyperparameters.\n",
        "learning_rate = 0.001\n",
        "epochs = 20\n",
        "batch_size = 100\n",
        "label_name = \"median_house_value_is_high\"\n",
        "classification_threshold = 0.35\n",
        "\n",
        "# Establish the metrics the model will measure.\n",
        "METRICS = [\n",
        "           tf.keras.metrics.BinaryAccuracy(name='accuracy', \n",
        "                                           threshold=classification_threshold),\n",
        "          ]\n",
        "\n",
        "# Establish the model's topography.\n",
        "my_model = create_model(learning_rate, feature_layer, METRICS)\n",
        "\n",
        "# Train the model on the training set.\n",
        "epochs, hist = train_model(my_model, train_df_norm, epochs, \n",
        "                           label_name, batch_size)\n",
        "\n",
        "# Plot a graph of the metric(s) vs. epochs.\n",
        "list_of_metrics_to_plot = ['accuracy'] \n",
        "\n",
        "plot_curve(epochs, hist, list_of_metrics_to_plot)"
      ]
    },
    {
      "cell_type": "markdown",
      "metadata": {
        "colab_type": "text",
        "id": "FF64TpqkbOpn"
      },
      "source": [
        "Accuracy should gradually improve during training (until it can \n",
        "improve no more)."
      ]
    },
    {
      "cell_type": "markdown",
      "metadata": {
        "colab_type": "text",
        "id": "1xNqWWos_zyk"
      },
      "source": [
        "## Evaluate the model against the test set\n",
        "\n",
        "At the end of model training, you ended up with a certain accuracy against the *training set*. Invoke the following code cell to determine your model's accuracy against the *test set*."
      ]
    },
    {
      "cell_type": "code",
      "execution_count": 18,
      "metadata": {
        "colab": {},
        "colab_type": "code",
        "id": "eJorkMlDmtHf"
      },
      "outputs": [
        {
          "name": "stdout",
          "output_type": "stream",
          "text": [
            "WARNING:tensorflow:Layers in a Sequential model should only have a single input tensor, but we receive a <class 'dict'> input: {'longitude': <tf.Tensor 'ExpandDims_3:0' shape=(100, 1) dtype=float32>, 'latitude': <tf.Tensor 'ExpandDims_2:0' shape=(100, 1) dtype=float32>, 'housing_median_age': <tf.Tensor 'ExpandDims_1:0' shape=(100, 1) dtype=float32>, 'total_rooms': <tf.Tensor 'ExpandDims_8:0' shape=(100, 1) dtype=float32>, 'total_bedrooms': <tf.Tensor 'ExpandDims_7:0' shape=(100, 1) dtype=float32>, 'population': <tf.Tensor 'ExpandDims_6:0' shape=(100, 1) dtype=float32>, 'households': <tf.Tensor 'ExpandDims:0' shape=(100, 1) dtype=float32>, 'median_income': <tf.Tensor 'ExpandDims_5:0' shape=(100, 1) dtype=float32>, 'median_house_value': <tf.Tensor 'ExpandDims_4:0' shape=(100, 1) dtype=float32>}\n",
            "Consider rewriting this model with the Functional API.\n",
            "30/30 [==============================] - 0s 1ms/step - loss: 0.4069 - accuracy: 0.8000\n"
          ]
        },
        {
          "data": {
            "text/plain": [
              "[0.40686580538749695, 0.800000011920929]"
            ]
          },
          "execution_count": 18,
          "metadata": {},
          "output_type": "execute_result"
        }
      ],
      "source": [
        "features = {name:np.array(value) for name, value in test_df_norm.items()}\n",
        "label = np.array(features.pop(label_name))\n",
        "\n",
        "my_model.evaluate(x = features, y = label, batch_size=batch_size)"
      ]
    },
    {
      "cell_type": "markdown",
      "metadata": {
        "colab_type": "text",
        "id": "q7cHkFXalXV5"
      },
      "source": [
        "## Task 2: How accurate is your model really?\n",
        "\n",
        "Is your model valuable?"
      ]
    },
    {
      "cell_type": "code",
      "execution_count": null,
      "metadata": {
        "cellView": "form",
        "colab": {},
        "colab_type": "code",
        "id": "rUvCrQkulwjV"
      },
      "outputs": [],
      "source": [
        "#@title Double-click for a possible answer to Task 2.\n",
        "\n",
        "# A perfect model would make 100% accurate predictions.\n",
        "# Our model makes 80% accurate predictions. 80% sounds\n",
        "# good, but note that a model that always guesses \n",
        "# \"median_house_value_is_high is False\" would be 75% \n",
        "# accurate. "
      ]
    },
    {
      "cell_type": "markdown",
      "metadata": {
        "colab_type": "text",
        "id": "C8crSCCVf6gm"
      },
      "source": [
        "## Task 3: Add precision and recall as metrics\n",
        "\n",
        "Relying solely on accuracy, particularly for a class-imbalanced data set (like ours), can be a poor way to judge a classification model.  Modify the code in the following code cell to enable the model to measure not only accuracy but also precision and recall. We have\n",
        "added accuracy and precision; your task is to add recall. See the [TensorFlow Reference](https://www.tensorflow.org/api_docs/python/tf/keras/metrics/Recall) for details.\n",
        "\n"
      ]
    },
    {
      "cell_type": "code",
      "execution_count": 21,
      "metadata": {
        "colab": {},
        "colab_type": "code",
        "id": "r-k1MD2XArmO"
      },
      "outputs": [
        {
          "name": "stdout",
          "output_type": "stream",
          "text": [
            "Epoch 1/20\n",
            "WARNING:tensorflow:Layers in a Sequential model should only have a single input tensor, but we receive a <class 'dict'> input: {'longitude': <tf.Tensor 'ExpandDims_3:0' shape=(100, 1) dtype=float32>, 'latitude': <tf.Tensor 'ExpandDims_2:0' shape=(100, 1) dtype=float32>, 'housing_median_age': <tf.Tensor 'ExpandDims_1:0' shape=(100, 1) dtype=float32>, 'total_rooms': <tf.Tensor 'ExpandDims_8:0' shape=(100, 1) dtype=float32>, 'total_bedrooms': <tf.Tensor 'ExpandDims_7:0' shape=(100, 1) dtype=float32>, 'population': <tf.Tensor 'ExpandDims_6:0' shape=(100, 1) dtype=float32>, 'households': <tf.Tensor 'ExpandDims:0' shape=(100, 1) dtype=float32>, 'median_income': <tf.Tensor 'ExpandDims_5:0' shape=(100, 1) dtype=float32>, 'median_house_value': <tf.Tensor 'ExpandDims_4:0' shape=(100, 1) dtype=float32>}\n",
            "Consider rewriting this model with the Functional API.\n"
          ]
        },
        {
          "name": "stderr",
          "output_type": "stream",
          "text": [
            "/home/sonya/.local/lib/python3.8/site-packages/keras/optimizer_v2/optimizer_v2.py:355: UserWarning: The `lr` argument is deprecated, use `learning_rate` instead.\n",
            "  warnings.warn(\n"
          ]
        },
        {
          "name": "stdout",
          "output_type": "stream",
          "text": [
            "WARNING:tensorflow:Layers in a Sequential model should only have a single input tensor, but we receive a <class 'dict'> input: {'longitude': <tf.Tensor 'ExpandDims_3:0' shape=(100, 1) dtype=float32>, 'latitude': <tf.Tensor 'ExpandDims_2:0' shape=(100, 1) dtype=float32>, 'housing_median_age': <tf.Tensor 'ExpandDims_1:0' shape=(100, 1) dtype=float32>, 'total_rooms': <tf.Tensor 'ExpandDims_8:0' shape=(100, 1) dtype=float32>, 'total_bedrooms': <tf.Tensor 'ExpandDims_7:0' shape=(100, 1) dtype=float32>, 'population': <tf.Tensor 'ExpandDims_6:0' shape=(100, 1) dtype=float32>, 'households': <tf.Tensor 'ExpandDims:0' shape=(100, 1) dtype=float32>, 'median_income': <tf.Tensor 'ExpandDims_5:0' shape=(100, 1) dtype=float32>, 'median_house_value': <tf.Tensor 'ExpandDims_4:0' shape=(100, 1) dtype=float32>}\n",
            "Consider rewriting this model with the Functional API.\n",
            "170/170 [==============================] - 1s 1ms/step - loss: 0.6685 - accuracy: 0.3417 - precision: 0.2586 - recall: 0.8759\n",
            "Epoch 2/20\n",
            "170/170 [==============================] - 0s 1ms/step - loss: 0.5857 - accuracy: 0.4472 - precision: 0.2939 - recall: 0.8646\n",
            "Epoch 3/20\n",
            "170/170 [==============================] - 0s 2ms/step - loss: 0.5210 - accuracy: 0.6015 - precision: 0.3670 - recall: 0.8215\n",
            "Epoch 4/20\n",
            "170/170 [==============================] - 0s 1ms/step - loss: 0.4740 - accuracy: 0.6986 - precision: 0.4414 - recall: 0.7773\n",
            "Epoch 5/20\n",
            "170/170 [==============================] - 0s 1ms/step - loss: 0.4414 - accuracy: 0.7471 - precision: 0.4958 - recall: 0.7311\n",
            "Epoch 6/20\n",
            "170/170 [==============================] - 0s 1ms/step - loss: 0.4210 - accuracy: 0.7729 - precision: 0.5350 - recall: 0.6963\n",
            "Epoch 7/20\n",
            "170/170 [==============================] - 0s 1ms/step - loss: 0.4093 - accuracy: 0.7876 - precision: 0.5625 - recall: 0.6734\n",
            "Epoch 8/20\n",
            "170/170 [==============================] - 0s 1ms/step - loss: 0.4029 - accuracy: 0.7970 - precision: 0.5836 - recall: 0.6539\n",
            "Epoch 9/20\n",
            "170/170 [==============================] - 0s 1ms/step - loss: 0.3997 - accuracy: 0.8026 - precision: 0.5988 - recall: 0.6367\n",
            "Epoch 10/20\n",
            "170/170 [==============================] - 0s 1ms/step - loss: 0.3981 - accuracy: 0.8058 - precision: 0.6074 - recall: 0.6299\n",
            "Epoch 11/20\n",
            "170/170 [==============================] - 0s 1ms/step - loss: 0.3974 - accuracy: 0.8075 - precision: 0.6137 - recall: 0.6190\n",
            "Epoch 12/20\n",
            "170/170 [==============================] - 0s 1ms/step - loss: 0.3970 - accuracy: 0.8072 - precision: 0.6136 - recall: 0.6167\n",
            "Epoch 13/20\n",
            "170/170 [==============================] - 0s 2ms/step - loss: 0.3968 - accuracy: 0.8078 - precision: 0.6151 - recall: 0.6164\n",
            "Epoch 14/20\n",
            "170/170 [==============================] - 0s 1ms/step - loss: 0.3967 - accuracy: 0.8081 - precision: 0.6160 - recall: 0.6160\n",
            "Epoch 15/20\n",
            "170/170 [==============================] - 0s 1ms/step - loss: 0.3967 - accuracy: 0.8089 - precision: 0.6181 - recall: 0.6150\n",
            "Epoch 16/20\n",
            "170/170 [==============================] - 0s 1ms/step - loss: 0.3966 - accuracy: 0.8092 - precision: 0.6190 - recall: 0.6141\n",
            "Epoch 17/20\n",
            "170/170 [==============================] - 0s 928us/step - loss: 0.3966 - accuracy: 0.8095 - precision: 0.6201 - recall: 0.6129\n",
            "Epoch 18/20\n",
            "170/170 [==============================] - 0s 965us/step - loss: 0.3966 - accuracy: 0.8088 - precision: 0.6180 - recall: 0.6146\n",
            "Epoch 19/20\n",
            "170/170 [==============================] - 0s 934us/step - loss: 0.3966 - accuracy: 0.8094 - precision: 0.6194 - recall: 0.6143\n",
            "Epoch 20/20\n",
            "170/170 [==============================] - 0s 905us/step - loss: 0.3966 - accuracy: 0.8089 - precision: 0.6182 - recall: 0.6146\n"
          ]
        },
        {
          "data": {
            "image/png": "[encoded data removed]",
            "text/plain": [
              "<Figure size 432x288 with 1 Axes>"
            ]
          },
          "metadata": {
            "needs_background": "light"
          },
          "output_type": "display_data"
        }
      ],
      "source": [
        "# The following variables are the hyperparameters.\n",
        "learning_rate = 0.001\n",
        "epochs = 20\n",
        "batch_size = 100\n",
        "classification_threshold = 0.35\n",
        "label_name = \"median_house_value_is_high\"\n",
        "\n",
        "# Modify the following definition of METRICS to generate\n",
        "# not only accuracy and precision, but also recall:\n",
        "METRICS = [\n",
        "      tf.keras.metrics.BinaryAccuracy(name='accuracy', \n",
        "                                      threshold=classification_threshold),\n",
        "      tf.keras.metrics.Precision(thresholds=classification_threshold,\n",
        "                                 name='precision' \n",
        "                                 ),\n",
        "      tf.keras.metrics.Recall(thresholds=classification_threshold, name='recall')\n",
        "]\n",
        "\n",
        "# Establish the model's topography.\n",
        "my_model = create_model(learning_rate, feature_layer, METRICS)\n",
        "\n",
        "# Train the model on the training set.\n",
        "epochs, hist = train_model(my_model, train_df_norm, epochs, \n",
        "                           label_name, batch_size)\n",
        "\n",
        "# Plot metrics vs. epochs\n",
        "list_of_metrics_to_plot = ['accuracy', 'precision', 'recall'] \n",
        "plot_curve(epochs, hist, list_of_metrics_to_plot)"
      ]
    },
    {
      "cell_type": "markdown",
      "metadata": {
        "colab_type": "text",
        "id": "cAsB85iKSXLe"
      },
      "source": [
        "## Task 4: Experiment with the classification threshold (if time permits)\n",
        "\n",
        "Experiment with different values for `classification_threshold` in the code cell within \"Invoke the creating, training, and plotting functions.\"  What value of `classification_threshold` produces the highest accuracy?"
      ]
    },
    {
      "cell_type": "code",
      "execution_count": 24,
      "metadata": {
        "cellView": "form",
        "colab": {},
        "colab_type": "code",
        "id": "FLPDYI7Sphnj"
      },
      "outputs": [
        {
          "name": "stdout",
          "output_type": "stream",
          "text": [
            "Epoch 1/20\n",
            "WARNING:tensorflow:Layers in a Sequential model should only have a single input tensor, but we receive a <class 'dict'> input: {'longitude': <tf.Tensor 'ExpandDims_3:0' shape=(100, 1) dtype=float32>, 'latitude': <tf.Tensor 'ExpandDims_2:0' shape=(100, 1) dtype=float32>, 'housing_median_age': <tf.Tensor 'ExpandDims_1:0' shape=(100, 1) dtype=float32>, 'total_rooms': <tf.Tensor 'ExpandDims_8:0' shape=(100, 1) dtype=float32>, 'total_bedrooms': <tf.Tensor 'ExpandDims_7:0' shape=(100, 1) dtype=float32>, 'population': <tf.Tensor 'ExpandDims_6:0' shape=(100, 1) dtype=float32>, 'households': <tf.Tensor 'ExpandDims:0' shape=(100, 1) dtype=float32>, 'median_income': <tf.Tensor 'ExpandDims_5:0' shape=(100, 1) dtype=float32>, 'median_house_value': <tf.Tensor 'ExpandDims_4:0' shape=(100, 1) dtype=float32>}\n",
            "Consider rewriting this model with the Functional API.\n"
          ]
        },
        {
          "name": "stderr",
          "output_type": "stream",
          "text": [
            "/home/sonya/.local/lib/python3.8/site-packages/keras/optimizer_v2/optimizer_v2.py:355: UserWarning: The `lr` argument is deprecated, use `learning_rate` instead.\n",
            "  warnings.warn(\n"
          ]
        },
        {
          "name": "stdout",
          "output_type": "stream",
          "text": [
            "WARNING:tensorflow:Layers in a Sequential model should only have a single input tensor, but we receive a <class 'dict'> input: {'longitude': <tf.Tensor 'ExpandDims_3:0' shape=(100, 1) dtype=float32>, 'latitude': <tf.Tensor 'ExpandDims_2:0' shape=(100, 1) dtype=float32>, 'housing_median_age': <tf.Tensor 'ExpandDims_1:0' shape=(100, 1) dtype=float32>, 'total_rooms': <tf.Tensor 'ExpandDims_8:0' shape=(100, 1) dtype=float32>, 'total_bedrooms': <tf.Tensor 'ExpandDims_7:0' shape=(100, 1) dtype=float32>, 'population': <tf.Tensor 'ExpandDims_6:0' shape=(100, 1) dtype=float32>, 'households': <tf.Tensor 'ExpandDims:0' shape=(100, 1) dtype=float32>, 'median_income': <tf.Tensor 'ExpandDims_5:0' shape=(100, 1) dtype=float32>, 'median_house_value': <tf.Tensor 'ExpandDims_4:0' shape=(100, 1) dtype=float32>}\n",
            "Consider rewriting this model with the Functional API.\n",
            "170/170 [==============================] - 1s 1ms/step - loss: 0.9738 - accuracy: 0.3348 - precision: 0.0793 - recall: 0.1566\n",
            "Epoch 2/20\n",
            "170/170 [==============================] - 0s 2ms/step - loss: 0.8518 - accuracy: 0.4403 - precision: 0.0589 - recall: 0.0829\n",
            "Epoch 3/20\n",
            "170/170 [==============================] - 0s 1ms/step - loss: 0.7490 - accuracy: 0.6464 - precision: 0.0425 - recall: 0.0193\n",
            "Epoch 4/20\n",
            "170/170 [==============================] - 0s 1ms/step - loss: 0.6647 - accuracy: 0.7501 - precision: 0.3750 - recall: 7.0638e-04\n",
            "Epoch 5/20\n",
            "170/170 [==============================] - 0s 1ms/step - loss: 0.6009 - accuracy: 0.7489 - precision: 0.2308 - recall: 0.0021 \n",
            "Epoch 6/20\n",
            "170/170 [==============================] - 0s 1ms/step - loss: 0.5514 - accuracy: 0.7493 - precision: 0.4157 - recall: 0.0087 \n",
            "Epoch 7/20\n",
            "170/170 [==============================] - 0s 2ms/step - loss: 0.5132 - accuracy: 0.7544 - precision: 0.7045 - recall: 0.0292\n",
            "Epoch 8/20\n",
            "170/170 [==============================] - 0s 1ms/step - loss: 0.4836 - accuracy: 0.7694 - precision: 0.8829 - recall: 0.0888\n",
            "Epoch 9/20\n",
            "170/170 [==============================] - 0s 1ms/step - loss: 0.4601 - accuracy: 0.7855 - precision: 0.9155 - recall: 0.1556\n",
            "Epoch 10/20\n",
            "170/170 [==============================] - 0s 1ms/step - loss: 0.4417 - accuracy: 0.8023 - precision: 0.9260 - recall: 0.2267\n",
            "Epoch 11/20\n",
            "170/170 [==============================] - 0s 1ms/step - loss: 0.4273 - accuracy: 0.8158 - precision: 0.9182 - recall: 0.2882\n",
            "Epoch 12/20\n",
            "170/170 [==============================] - 0s 1ms/step - loss: 0.4167 - accuracy: 0.8266 - precision: 0.8929 - recall: 0.3475\n",
            "Epoch 13/20\n",
            "170/170 [==============================] - 0s 990us/step - loss: 0.4090 - accuracy: 0.8327 - precision: 0.8644 - recall: 0.3918\n",
            "Epoch 14/20\n",
            "170/170 [==============================] - 0s 1ms/step - loss: 0.4038 - accuracy: 0.8338 - precision: 0.8337 - recall: 0.4179\n",
            "Epoch 15/20\n",
            "170/170 [==============================] - 0s 970us/step - loss: 0.4006 - accuracy: 0.8352 - precision: 0.8187 - recall: 0.4370\n",
            "Epoch 16/20\n",
            "170/170 [==============================] - 0s 915us/step - loss: 0.3987 - accuracy: 0.8361 - precision: 0.8091 - recall: 0.4502\n",
            "Epoch 17/20\n",
            "170/170 [==============================] - 0s 962us/step - loss: 0.3977 - accuracy: 0.8353 - precision: 0.7979 - recall: 0.4563\n",
            "Epoch 18/20\n",
            "170/170 [==============================] - 0s 1ms/step - loss: 0.3972 - accuracy: 0.8364 - precision: 0.7969 - recall: 0.4629\n",
            "Epoch 19/20\n",
            "170/170 [==============================] - 0s 1ms/step - loss: 0.3969 - accuracy: 0.8367 - precision: 0.7929 - recall: 0.4688\n",
            "Epoch 20/20\n",
            "170/170 [==============================] - 0s 1ms/step - loss: 0.3967 - accuracy: 0.8365 - precision: 0.7896 - recall: 0.4709\n"
          ]
        },
        {
          "data": {
            "image/png": "[encoded data removed]",
            "text/plain": [
              "<Figure size 432x288 with 1 Axes>"
            ]
          },
          "metadata": {
            "needs_background": "light"
          },
          "output_type": "display_data"
        }
      ],
      "source": [
        "#@title Double-click to view the solution for Task 4.\n",
        "\n",
        "# The following variables are the hyperparameters.\n",
        "learning_rate = 0.001\n",
        "epochs = 20\n",
        "batch_size = 100\n",
        "classification_threshold = 0.52\n",
        "label_name = \"median_house_value_is_high\"\n",
        "\n",
        "# Here is the updated definition of METRICS:\n",
        "METRICS = [\n",
        "      tf.keras.metrics.BinaryAccuracy(name='accuracy', \n",
        "                                      threshold=classification_threshold),\n",
        "      tf.keras.metrics.Precision(thresholds=classification_threshold,\n",
        "                                 name='precision' \n",
        "                                 ),\n",
        "      tf.keras.metrics.Recall(thresholds=classification_threshold,\n",
        "                              name=\"recall\"),\n",
        "]\n",
        "\n",
        "# Establish the model's topography.\n",
        "my_model = create_model(learning_rate, feature_layer, METRICS)\n",
        "\n",
        "# Train the model on the training set.\n",
        "epochs, hist = train_model(my_model, train_df_norm, epochs, \n",
        "                           label_name, batch_size)\n",
        "\n",
        "# Plot metrics vs. epochs\n",
        "list_of_metrics_to_plot = ['accuracy', \"precision\", \"recall\"] \n",
        "plot_curve(epochs, hist, list_of_metrics_to_plot)\n",
        "\n",
        "# A `classification_threshold` of slightly over 0.5\n",
        "# appears to produce the highest accuracy (about 83%).\n",
        "# Raising the `classification_threshold` to 0.9 drops \n",
        "# accuracy by about 5%.  Lowering the \n",
        "# `classification_threshold` to 0.3 drops accuracy by \n",
        "# about 3%. "
      ]
    },
    {
      "cell_type": "markdown",
      "metadata": {
        "colab_type": "text",
        "id": "XBGRS0Ndduus"
      },
      "source": [
        "## Task 5: Summarize model performance (if time permits)\n",
        "\n",
        "If time permits, add one more metric that attempts to summarize the model's overall performance. "
      ]
    },
    {
      "cell_type": "code",
      "execution_count": 25,
      "metadata": {
        "cellView": "form",
        "colab": {},
        "colab_type": "code",
        "id": "vwNE6syoFvWe"
      },
      "outputs": [
        {
          "name": "stdout",
          "output_type": "stream",
          "text": [
            "Epoch 1/20\n",
            "WARNING:tensorflow:Layers in a Sequential model should only have a single input tensor, but we receive a <class 'dict'> input: {'longitude': <tf.Tensor 'ExpandDims_3:0' shape=(100, 1) dtype=float32>, 'latitude': <tf.Tensor 'ExpandDims_2:0' shape=(100, 1) dtype=float32>, 'housing_median_age': <tf.Tensor 'ExpandDims_1:0' shape=(100, 1) dtype=float32>, 'total_rooms': <tf.Tensor 'ExpandDims_8:0' shape=(100, 1) dtype=float32>, 'total_bedrooms': <tf.Tensor 'ExpandDims_7:0' shape=(100, 1) dtype=float32>, 'population': <tf.Tensor 'ExpandDims_6:0' shape=(100, 1) dtype=float32>, 'households': <tf.Tensor 'ExpandDims:0' shape=(100, 1) dtype=float32>, 'median_income': <tf.Tensor 'ExpandDims_5:0' shape=(100, 1) dtype=float32>, 'median_house_value': <tf.Tensor 'ExpandDims_4:0' shape=(100, 1) dtype=float32>}\n",
            "Consider rewriting this model with the Functional API.\n"
          ]
        },
        {
          "name": "stderr",
          "output_type": "stream",
          "text": [
            "/home/sonya/.local/lib/python3.8/site-packages/keras/optimizer_v2/optimizer_v2.py:355: UserWarning: The `lr` argument is deprecated, use `learning_rate` instead.\n",
            "  warnings.warn(\n"
          ]
        },
        {
          "name": "stdout",
          "output_type": "stream",
          "text": [
            "WARNING:tensorflow:Layers in a Sequential model should only have a single input tensor, but we receive a <class 'dict'> input: {'longitude': <tf.Tensor 'ExpandDims_3:0' shape=(100, 1) dtype=float32>, 'latitude': <tf.Tensor 'ExpandDims_2:0' shape=(100, 1) dtype=float32>, 'housing_median_age': <tf.Tensor 'ExpandDims_1:0' shape=(100, 1) dtype=float32>, 'total_rooms': <tf.Tensor 'ExpandDims_8:0' shape=(100, 1) dtype=float32>, 'total_bedrooms': <tf.Tensor 'ExpandDims_7:0' shape=(100, 1) dtype=float32>, 'population': <tf.Tensor 'ExpandDims_6:0' shape=(100, 1) dtype=float32>, 'households': <tf.Tensor 'ExpandDims:0' shape=(100, 1) dtype=float32>, 'median_income': <tf.Tensor 'ExpandDims_5:0' shape=(100, 1) dtype=float32>, 'median_house_value': <tf.Tensor 'ExpandDims_4:0' shape=(100, 1) dtype=float32>}\n",
            "Consider rewriting this model with the Functional API.\n",
            "170/170 [==============================] - 1s 1ms/step - loss: 0.5869 - auc: 0.8081\n",
            "Epoch 2/20\n",
            "170/170 [==============================] - 0s 1ms/step - loss: 0.5389 - auc: 0.8154\n",
            "Epoch 3/20\n",
            "170/170 [==============================] - 0s 1ms/step - loss: 0.4984 - auc: 0.8209\n",
            "Epoch 4/20\n",
            "170/170 [==============================] - 0s 962us/step - loss: 0.4655 - auc: 0.8258\n",
            "Epoch 5/20\n",
            "170/170 [==============================] - 0s 1ms/step - loss: 0.4389 - auc: 0.8303\n",
            "Epoch 6/20\n",
            "170/170 [==============================] - 0s 873us/step - loss: 0.4204 - auc: 0.8333\n",
            "Epoch 7/20\n",
            "170/170 [==============================] - 0s 917us/step - loss: 0.4089 - auc: 0.8350\n",
            "Epoch 8/20\n",
            "170/170 [==============================] - 0s 932us/step - loss: 0.4023 - auc: 0.8362\n",
            "Epoch 9/20\n",
            "170/170 [==============================] - 0s 868us/step - loss: 0.3991 - auc: 0.8364\n",
            "Epoch 10/20\n",
            "170/170 [==============================] - 0s 886us/step - loss: 0.3978 - auc: 0.8366\n",
            "Epoch 11/20\n",
            "170/170 [==============================] - 0s 942us/step - loss: 0.3972 - auc: 0.8368\n",
            "Epoch 12/20\n",
            "170/170 [==============================] - 0s 931us/step - loss: 0.3969 - auc: 0.8368\n",
            "Epoch 13/20\n",
            "170/170 [==============================] - 0s 943us/step - loss: 0.3967 - auc: 0.8367\n",
            "Epoch 14/20\n",
            "170/170 [==============================] - 0s 958us/step - loss: 0.3967 - auc: 0.8368\n",
            "Epoch 15/20\n",
            "170/170 [==============================] - 0s 1ms/step - loss: 0.3966 - auc: 0.8369\n",
            "Epoch 16/20\n",
            "170/170 [==============================] - 0s 1ms/step - loss: 0.3966 - auc: 0.8370\n",
            "Epoch 17/20\n",
            "170/170 [==============================] - 0s 953us/step - loss: 0.3966 - auc: 0.8369\n",
            "Epoch 18/20\n",
            "170/170 [==============================] - 0s 1ms/step - loss: 0.3966 - auc: 0.8369\n",
            "Epoch 19/20\n",
            "170/170 [==============================] - 0s 876us/step - loss: 0.3966 - auc: 0.8370\n",
            "Epoch 20/20\n",
            "170/170 [==============================] - 0s 906us/step - loss: 0.3966 - auc: 0.8369\n"
          ]
        },
        {
          "data": {
            "image/png": "[encoded data removed]",
            "text/plain": [
              "<Figure size 432x288 with 1 Axes>"
            ]
          },
          "metadata": {
            "needs_background": "light"
          },
          "output_type": "display_data"
        }
      ],
      "source": [
        "#@title Double-click to view the solution for Task 5.\n",
        "\n",
        "# The following variables are the hyperparameters.\n",
        "learning_rate = 0.001\n",
        "epochs = 20\n",
        "batch_size = 100\n",
        "label_name = \"median_house_value_is_high\"\n",
        "\n",
        "# AUC is a reasonable \"summary\" metric for \n",
        "# classification models.\n",
        "# Here is the updated definition of METRICS to \n",
        "# measure AUC:\n",
        "METRICS = [\n",
        "      tf.keras.metrics.AUC(num_thresholds=100, name='auc'),\n",
        "]\n",
        "\n",
        "# Establish the model's topography.\n",
        "my_model = create_model(learning_rate, feature_layer, METRICS)\n",
        "\n",
        "# Train the model on the training set.\n",
        "epochs, hist = train_model(my_model, train_df_norm, epochs, \n",
        "                           label_name, batch_size)\n",
        "\n",
        "# Plot metrics vs. epochs\n",
        "list_of_metrics_to_plot = ['auc'] \n",
        "plot_curve(epochs, hist, list_of_metrics_to_plot)"
      ]
    }
  ],
  "metadata": {
    "colab": {
      "collapsed_sections": [],
      "name": "Binary Classification.ipynb",
      "private_outputs": true,
      "provenance": []
    },
    "kernelspec": {
      "display_name": "Python 3",
      "name": "python3"
    },
    "language_info": {
      "codemirror_mode": {
        "name": "ipython",
        "version": 3
      },
      "file_extension": ".py",
      "mimetype": "text/x-python",
      "name": "python",
      "nbconvert_exporter": "python",
      "pygments_lexer": "ipython3",
      "version": "3.8.10"
    }
  },
  "nbformat": 4,
  "nbformat_minor": 0
}
