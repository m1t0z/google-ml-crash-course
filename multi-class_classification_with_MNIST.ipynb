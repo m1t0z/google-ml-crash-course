{
  "cells": [
    {
      "cell_type": "code",
      "execution_count": null,
      "metadata": {
        "cellView": "form",
        "colab": {},
        "colab_type": "code",
        "id": "wDlWLbfkJtvu"
      },
      "outputs": [],
      "source": [
        "#@title Copyright 2020 Google LLC. Double-click here for license information.\n",
        "# Licensed under the Apache License, Version 2.0 (the \"License\");\n",
        "# you may not use this file except in compliance with the License.\n",
        "# You may obtain a copy of the License at\n",
        "#\n",
        "# https://www.apache.org/licenses/LICENSE-2.0\n",
        "#\n",
        "# Unless required by applicable law or agreed to in writing, software\n",
        "# distributed under the License is distributed on an \"AS IS\" BASIS,\n",
        "# WITHOUT WARRANTIES OR CONDITIONS OF ANY KIND, either express or implied.\n",
        "# See the License for the specific language governing permissions and\n",
        "# limitations under the License.\n",
        "\n",
        "# Yann LeCun and Corinna Cortes hold the copyright of MNIST dataset,\n",
        "# which is a derivative work from original NIST datasets. \n",
        "# MNIST dataset is made available under the terms of the \n",
        "# Creative Commons Attribution-Share Alike 3.0 license."
      ]
    },
    {
      "cell_type": "markdown",
      "metadata": {
        "colab_type": "text",
        "id": "TL5y5fY9Jy_x"
      },
      "source": [
        "# Multi-Class Classification\n",
        "\n",
        "This Colab explore multi-class classification problems through the classic MNIST dataset."
      ]
    },
    {
      "cell_type": "markdown",
      "metadata": {
        "colab_type": "text",
        "id": "XuKlphuImFSN"
      },
      "source": [
        "## Learning Objectives:\n",
        "\n",
        "After doing this Colab, you'll know how to do the following:\n",
        "\n",
        "  * Understand the classic MNIST problem.\n",
        "  * Create a deep neural network that performs multi-class classification.\n",
        "  * Tune the deep neural network.\n",
        "\n",
        "This exercise introduces image classification with machine learning."
      ]
    },
    {
      "cell_type": "markdown",
      "metadata": {
        "colab_type": "text",
        "id": "cxj8yVh4mFl5"
      },
      "source": [
        "## The Dataset\n",
        "  \n",
        "This MNIST dataset contains a lot of examples:\n",
        "\n",
        "* The MNIST training set contains 60,000 examples.\n",
        "* The MNIST test set contains 10,000 examples.\n",
        "\n",
        "Each example contains a pixel map showing how a person wrote a digit. For example, the following images shows how a person wrote the digit `1` and how that digit might be represented in a 14x14 pixel map (after the input data is normalized). \n",
        "\n",
        "![Two images. The first image shows a somewhat fuzzy digit one. The second image shows a 14x14 floating-point array in which most of the cells contain 0 but a few cells contain values between 0.0 and 1.0. The pattern of nonzero values corresponds to the image of the fuzzy digit in the first image.](https://www.tensorflow.org/images/MNIST-Matrix.png)\n",
        "\n",
        "Each example in the MNIST dataset consists of:\n",
        "\n",
        "* A label specified by a [rater](https://developers.google.com/machine-learning/glossary/#rater).  Each label must be an integer from 0 to 9.  For example, in the preceding image, the rater would almost certainly assign the label `1` to the example.\n",
        "* A 28x28 pixel map, where each pixel is an integer between 0 and 255. The pixel values are on a gray scale in which 0 represents white, 255 represents black, and values between 0 and 255 represent various shades of gray.  \n",
        "\n",
        "This is a multi-class classification problem with 10 output classes, one for each digit."
      ]
    },
    {
      "cell_type": "markdown",
      "metadata": {
        "colab_type": "text",
        "id": "tX_umRMMsa3z"
      },
      "source": [
        "## Use the right version of TensorFlow\n",
        "\n",
        "The following hidden code cell ensures that the Colab will run on TensorFlow 2.X."
      ]
    },
    {
      "cell_type": "code",
      "execution_count": 1,
      "metadata": {
        "cellView": "form",
        "colab": {},
        "colab_type": "code",
        "id": "lM75uNH-sTv2"
      },
      "outputs": [
        {
          "name": "stderr",
          "output_type": "stream",
          "text": [
            "UsageError: Line magic function `%tensorflow_version` not found.\n"
          ]
        }
      ],
      "source": [
        "#@title Run on TensorFlow 2.x\n",
        "%tensorflow_version 2.x\n",
        "from __future__ import absolute_import, division, print_function, unicode_literals"
      ]
    },
    {
      "cell_type": "markdown",
      "metadata": {
        "colab_type": "text",
        "id": "xchnxAsaKKqO"
      },
      "source": [
        "## Import relevant modules\n",
        "\n",
        "The following hidden code cell imports the necessary code to run the code in the rest of this Colaboratory."
      ]
    },
    {
      "cell_type": "code",
      "execution_count": 2,
      "metadata": {
        "cellView": "form",
        "colab": {},
        "colab_type": "code",
        "id": "9n9_cTveKmse"
      },
      "outputs": [],
      "source": [
        "#@title Import relevant modules\n",
        "import numpy as np\n",
        "import pandas as pd\n",
        "import tensorflow as tf\n",
        "from tensorflow.keras import layers\n",
        "from matplotlib import pyplot as plt\n",
        "\n",
        "# The following lines adjust the granularity of reporting. \n",
        "pd.options.display.max_rows = 10\n",
        "pd.options.display.float_format = \"{:.1f}\".format\n",
        "\n",
        "# The following line improves formatting when ouputting NumPy arrays.\n",
        "np.set_printoptions(linewidth = 200)"
      ]
    },
    {
      "cell_type": "markdown",
      "metadata": {
        "colab_type": "text",
        "id": "X_TaJhU4KcuY"
      },
      "source": [
        "## Load the dataset\n",
        "\n",
        "`tf.keras` provides a set of convenience functions for loading well-known datasets. Each of these convenience functions does the following:\n",
        "\n",
        "* Loads both the training set and the test set.\n",
        "* Separates each set into features and labels.\n",
        "\n",
        "The relevant convenience function for MNIST is called `mnist.load_data()`:"
      ]
    },
    {
      "cell_type": "code",
      "execution_count": 3,
      "metadata": {
        "colab": {},
        "colab_type": "code",
        "id": "JZlvdpyYKx7V"
      },
      "outputs": [],
      "source": [
        "(x_train, y_train),(x_test, y_test) = tf.keras.datasets.mnist.load_data()\n"
      ]
    },
    {
      "cell_type": "markdown",
      "metadata": {
        "colab_type": "text",
        "id": "SfQkr3hxJGXU"
      },
      "source": [
        "Notice that `mnist.load_data()` returned four separate values:\n",
        "\n",
        "* `x_train` contains the training set's features.\n",
        "* `y_train` contains the training set's labels.\n",
        "* `x_test` contains the test set's features.\n",
        "* `y_test` contains the test set's labels.\n",
        "\n",
        "**Note:** The MNIST .csv training set is already shuffled."
      ]
    },
    {
      "cell_type": "markdown",
      "metadata": {
        "colab_type": "text",
        "id": "71vsSUM7pdmu"
      },
      "source": [
        "## View the dataset\n",
        "\n",
        "The .csv file for the California Housing Dataset contains column names (for example, `latitude`, `longitude`, `population`). By contrast, the .csv file for MNIST does not contain column names. Instead of column names, you use ordinal numbers to access different subsets of the MNIST dataset. In fact, it is probably best to think of `x_train` and `x_test` as three-dimensional NumPy arrays:  \n",
        "\n"
      ]
    },
    {
      "cell_type": "code",
      "execution_count": 4,
      "metadata": {
        "colab": {},
        "colab_type": "code",
        "id": "IoOhpjkeCL8Q"
      },
      "outputs": [
        {
          "data": {
            "text/plain": [
              "array([[  0,   0,   0,   0,   0,   0,   0,   0,   0,   0,   0,   0,   0,   0,   0,   0,   0,   0,   0,   0,   0,   0,   0,   0,   0,   0,   0,   0],\n",
              "       [  0,   0,   0,   0,   0,   0,   0,   0,   0,   0,   0,   0,   0,   0,   0,   0,   0,   0,   0,   0,   0,   0,   0,   0,   0,   0,   0,   0],\n",
              "       [  0,   0,   0,   0,   0,   0,   0,   0,   0,   0,   0,   0,   0,   0,   0,   0,   0,   0,   0,   0,   0,   0,   0,   0,   0,   0,   0,   0],\n",
              "       [  0,   0,   0,   0,   0,   0,   0,   0,   0,   0,   0,   0,   0,   0,   0,   0,   0,   0,   0,   0,   0,   0,   0,   0,   0,   0,   0,   0],\n",
              "       [  0,   0,   0,   0,   0,   0,   0,   0,   0,   0,   0,   0,   0,   0,   0,   0,   0,   0,   0,   0,   0,   0,   0,   0,   0,   0,   0,   0],\n",
              "       [  0,   0,   0,   0,   0,   0,   0,   0,   0,   0,   0,   0,   0,   0,   0,   0,   0,   0,   0,   0,   0,   0,   0,   0,   0,   0,   0,   0],\n",
              "       [  0,   0,   0,   0,   0,   0,   0,   0, 127, 100, 156, 239, 224, 177, 213, 159,  70,  13,   0,   0,   0,   0,   0,   0,   0,   0,   0,   0],\n",
              "       [  0,   0,   0,   0,   0,   0,   0, 110, 250, 254, 254, 254, 254, 254, 254, 254, 254, 184,  10,   0,   0,   0,   0,   0,   0,   0,   0,   0],\n",
              "       [  0,   0,   0,   0,   0,   0,   0, 216, 254, 254, 254, 254, 254, 254, 254, 254, 254, 251,  54,   0,   0,   0,   0,   0,   0,   0,   0,   0],\n",
              "       [  0,   0,   0,   0,   0,   0,   0,   3, 131, 197,  68, 137, 101,  83,  41,  70, 221, 254, 108,   0,   0,   0,   0,   0,   0,   0,   0,   0],\n",
              "       [  0,   0,   0,   0,   0,   0,   0,   0,   0,   0,   0,   0,   0,   0,   0,   0,  58, 254, 216,  11,   0,   0,   0,   0,   0,   0,   0,   0],\n",
              "       [  0,   0,   0,   0,   0,   0,   0,   0,   0,   0,   0,   0,   0,   0,   0,   0, 110, 254, 254,  24,   0,   0,   0,   0,   0,   0,   0,   0],\n",
              "       [  0,   0,   0,   0,   0,   0,   0,   0,   0,   0,   0,   0,   0,   0,   4,  83, 247, 254, 192,  10,   0,   0,   0,   0,   0,   0,   0,   0],\n",
              "       [  0,   0,   0,   0,   0,   0,   0,   0,   0,   0,   0,   0,   0,  37, 124, 254, 254, 250,  47,   0,   0,   0,   0,   0,   0,   0,   0,   0],\n",
              "       [  0,   0,   0,   0,   0,   0,   0,   0,   0,   0,   0, 113, 178, 250, 254, 254, 254, 252, 178, 128,  50,   0,   0,   0,   0,   0,   0,   0],\n",
              "       [  0,   0,   0,   0,   0,   0,   0,   0,   0,   0,  69, 252, 254, 254, 254, 254, 254, 254, 254, 254, 153,   0,   0,   0,   0,   0,   0,   0],\n",
              "       [  0,   0,   0,   0,   0,   0,   0,   0,   0,   0, 141, 252, 254, 241, 241, 254, 247, 252, 254, 254, 153,   0,   0,   0,   0,   0,   0,   0],\n",
              "       [  0,   0,   0,   0,   0,   0,   0,   0,   0,   0,   0,  68,  82,   5,   5,  82,  37,  65, 167, 254, 190,   0,   0,   0,   0,   0,   0,   0],\n",
              "       [  0,   0,   0,   0,   0,   0,   0,   0,   0,   0,   0,   0,   0,   0,   0,   0,   0,   0, 162, 254, 153,   0,   0,   0,   0,   0,   0,   0],\n",
              "       [  0,   0,   0,   0,   0,   0,   0,   0,   0,   0,   0,   0,   0,   0,   0,   0,   0,   1, 172, 253,  75,   0,   0,   0,   0,   0,   0,   0],\n",
              "       [  0,   0,   0,   0,   0,   0,   0,   0,   0,   0,   0,   0,   0,   0,   0,   0,   0, 102, 254, 152,   0,   0,   0,   0,   0,   0,   0,   0],\n",
              "       [  0,   0,   0,   0,   0,   0,   0,   0,   0,   0,   0,   0,   0,   0,   0,   0,  38, 230, 216,  20,   0,   0,   0,   0,   0,   0,   0,   0],\n",
              "       [  0,   0,   0,   0,   0,   0,   0,   0,   0,   0,   0,   0,   0,   0,   1,  71, 222, 254, 142,   0,   0,   0,   0,   0,   0,   0,   0,   0],\n",
              "       [  0,   0,   0,   0,   0,   0,   0,   0,   0,   0,   0,   0,   0,   0,  66, 254, 254, 157,   0,   0,   0,   0,   0,   0,   0,   0,   0,   0],\n",
              "       [  0,   0,   0,   0,   0,   0,   0,   0,   4,  34,  34,  78, 161, 226, 249, 254, 154,   6,   0,   0,   0,   0,   0,   0,   0,   0,   0,   0],\n",
              "       [  0,   0,   0,   0,   0,   0,   0,  96, 184, 254, 254, 254, 254, 254, 249,  93,   5,   0,   0,   0,   0,   0,   0,   0,   0,   0,   0,   0],\n",
              "       [  0,   0,   0,   0,   0,   0,   0,   0,   0,   0,   0,   0,   0,   0,   0,   0,   0,   0,   0,   0,   0,   0,   0,   0,   0,   0,   0,   0],\n",
              "       [  0,   0,   0,   0,   0,   0,   0,   0,   0,   0,   0,   0,   0,   0,   0,   0,   0,   0,   0,   0,   0,   0,   0,   0,   0,   0,   0,   0]], dtype=uint8)"
            ]
          },
          "execution_count": 4,
          "metadata": {},
          "output_type": "execute_result"
        }
      ],
      "source": [
        "# Output example #2917 of the training set.\n",
        "x_train[2917]"
      ]
    },
    {
      "cell_type": "markdown",
      "metadata": {
        "colab_type": "text",
        "id": "LNJrJKUwvZMR"
      },
      "source": [
        "Alternatively, you can call `matplotlib.pyplot.imshow` to interpret the preceding numeric array as an image. "
      ]
    },
    {
      "cell_type": "code",
      "execution_count": 5,
      "metadata": {
        "colab": {},
        "colab_type": "code",
        "id": "siRC8a1hJvmq"
      },
      "outputs": [
        {
          "data": {
            "text/plain": [
              "<matplotlib.image.AxesImage at 0x7f2e6cc3a1c0>"
            ]
          },
          "execution_count": 5,
          "metadata": {},
          "output_type": "execute_result"
        },
        {
          "data": {
            "image/png": "[encoded data removed]",
            "text/plain": [
              "<Figure size 432x288 with 1 Axes>"
            ]
          },
          "metadata": {
            "needs_background": "light"
          },
          "output_type": "display_data"
        }
      ],
      "source": [
        "# Use false colors to visualize the array.\n",
        "plt.imshow(x_train[2917])"
      ]
    },
    {
      "cell_type": "code",
      "execution_count": 6,
      "metadata": {
        "colab": {},
        "colab_type": "code",
        "id": "V-he9IcihDxb"
      },
      "outputs": [
        {
          "data": {
            "text/plain": [
              "array([  0,   0,   0,   0,   0,   0,   0,   0,   0,   0,   0,   0,   0,   0,   0,   0,  58, 254, 216,  11,   0,   0,   0,   0,   0,   0,   0,   0], dtype=uint8)"
            ]
          },
          "execution_count": 6,
          "metadata": {},
          "output_type": "execute_result"
        }
      ],
      "source": [
        "# Output row #10 of example #2917.\n",
        "x_train[2917][10]"
      ]
    },
    {
      "cell_type": "code",
      "execution_count": 7,
      "metadata": {
        "colab": {},
        "colab_type": "code",
        "id": "DUEWipalhQ8J"
      },
      "outputs": [
        {
          "data": {
            "text/plain": [
              "58"
            ]
          },
          "execution_count": 7,
          "metadata": {},
          "output_type": "execute_result"
        }
      ],
      "source": [
        "# Output pixel #16 of row #10 of example #2900.\n",
        "x_train[2917][10][16]"
      ]
    },
    {
      "cell_type": "markdown",
      "metadata": {
        "colab_type": "text",
        "id": "8ldP-5z1B2vL"
      },
      "source": [
        "## Task 1: Normalize feature values\n",
        "\n",
        "Complete the following code cell to map each feature value from its current representation (an integer between 0 and 255) to a floating-point value between 0 and 1.0. Store the floating-point values in `x_train_normalized` and `x_test_normalized`."
      ]
    },
    {
      "cell_type": "code",
      "execution_count": 9,
      "metadata": {
        "colab": {},
        "colab_type": "code",
        "id": "4YQljE-wizDw"
      },
      "outputs": [
        {
          "name": "stdout",
          "output_type": "stream",
          "text": [
            "[0.         0.         0.         0.         0.         0.         0.         0.55294118 1.         0.66666667 0.11372549 0.         0.         0.         0.         0.         0.         0.\n",
            " 0.         0.         0.         0.         0.         0.         0.         0.         0.         0.        ]\n"
          ]
        }
      ],
      "source": [
        "x_train_normalized = x_train / 255.0\n",
        "x_test_normalized = x_test / 255.0\n",
        "print(x_train_normalized[2900][10]) # Output a normalized row"
      ]
    },
    {
      "cell_type": "markdown",
      "metadata": {
        "colab_type": "text",
        "id": "ZBWRF6CStuNA"
      },
      "source": [
        "## Define a plotting function\n",
        "\n",
        "The following function plots an accuracy curve:"
      ]
    },
    {
      "cell_type": "code",
      "execution_count": 10,
      "metadata": {
        "cellView": "form",
        "colab": {},
        "colab_type": "code",
        "id": "QF0BFRXTOeR3"
      },
      "outputs": [
        {
          "name": "stdout",
          "output_type": "stream",
          "text": [
            "Loaded the plot_curve function.\n"
          ]
        }
      ],
      "source": [
        "#@title Define the plotting function\n",
        "def plot_curve(epochs, hist, list_of_metrics):\n",
        "  \"\"\"Plot a curve of one or more classification metrics vs. epoch.\"\"\"  \n",
        "  # list_of_metrics should be one of the names shown in:\n",
        "  # https://www.tensorflow.org/tutorials/structured_data/imbalanced_data#define_the_model_and_metrics  \n",
        "\n",
        "  plt.figure()\n",
        "  plt.xlabel(\"Epoch\")\n",
        "  plt.ylabel(\"Value\")\n",
        "\n",
        "  for m in list_of_metrics:\n",
        "    x = hist[m]\n",
        "    plt.plot(epochs[1:], x[1:], label=m)\n",
        "\n",
        "  plt.legend()\n",
        "\n",
        "print(\"Loaded the plot_curve function.\")"
      ]
    },
    {
      "cell_type": "markdown",
      "metadata": {
        "colab_type": "text",
        "id": "3014ezH3C7jT"
      },
      "source": [
        "## Create a deep neural net model\n",
        "\n",
        "The `create_model` function defines the topography of the deep neural net, specifying the following:\n",
        "\n",
        "* The number of [layers](https://developers.google.com/machine-learning/glossary/#layer) in the deep neural net.\n",
        "* The number of [nodes](https://developers.google.com/machine-learning/glossary/#node) in each layer.\n",
        "* Any [regularization](https://developers.google.com/machine-learning/glossary/#regularization) layers.\n",
        "\n",
        "The `create_model` function also defines the [activation function](https://developers.google.com/machine-learning/glossary/#activation_function) of each layer.  The activation function of the output layer is [softmax](https://developers.google.com/machine-learning/glossary/#softmax), which will yield 10 different outputs for each example. Each of the 10 outputs provides the probability that the input example is a certain digit.\n",
        "\n",
        "**Note:** Unlike several of the recent Colabs, this exercise does not define feature columns or a feature layer.  Instead, the model will train on the NumPy array."
      ]
    },
    {
      "cell_type": "code",
      "execution_count": 11,
      "metadata": {
        "cellView": "both",
        "colab": {},
        "colab_type": "code",
        "id": "pedD5GhlDC-y"
      },
      "outputs": [],
      "source": [
        "def create_model(my_learning_rate):\n",
        "  \"\"\"Create and compile a deep neural net.\"\"\"\n",
        "  \n",
        "  # All models in this course are sequential.\n",
        "  model = tf.keras.models.Sequential()\n",
        "\n",
        "  # The features are stored in a two-dimensional 28X28 array. \n",
        "  # Flatten that two-dimensional array into a a one-dimensional \n",
        "  # 784-element array.\n",
        "  model.add(tf.keras.layers.Flatten(input_shape=(28, 28)))\n",
        "\n",
        "  # Define the first hidden layer.   \n",
        "  model.add(tf.keras.layers.Dense(units=32, activation='relu'))\n",
        "  \n",
        "  # Define a dropout regularization layer. \n",
        "  model.add(tf.keras.layers.Dropout(rate=0.2))\n",
        "\n",
        "  # Define the output layer. The units parameter is set to 10 because\n",
        "  # the model must choose among 10 possible output values (representing\n",
        "  # the digits from 0 to 9, inclusive).\n",
        "  #\n",
        "  # Don't change this layer.\n",
        "  model.add(tf.keras.layers.Dense(units=10, activation='softmax'))     \n",
        "                           \n",
        "  # Construct the layers into a model that TensorFlow can execute.  \n",
        "  # Notice that the loss function for multi-class classification\n",
        "  # is different than the loss function for binary classification.  \n",
        "  model.compile(optimizer=tf.keras.optimizers.Adam(lr=my_learning_rate),\n",
        "                loss=\"sparse_categorical_crossentropy\",\n",
        "                metrics=['accuracy'])\n",
        "  \n",
        "  return model    \n",
        "\n",
        "\n",
        "def train_model(model, train_features, train_label, epochs,\n",
        "                batch_size=None, validation_split=0.1):\n",
        "  \"\"\"Train the model by feeding it data.\"\"\"\n",
        "\n",
        "  history = model.fit(x=train_features, y=train_label, batch_size=batch_size,\n",
        "                      epochs=epochs, shuffle=True, \n",
        "                      validation_split=validation_split)\n",
        " \n",
        "  # To track the progression of training, gather a snapshot\n",
        "  # of the model's metrics at each epoch. \n",
        "  epochs = history.epoch\n",
        "  hist = pd.DataFrame(history.history)\n",
        "\n",
        "  return epochs, hist    "
      ]
    },
    {
      "cell_type": "markdown",
      "metadata": {
        "colab_type": "text",
        "id": "D-IXYVfvM4gD"
      },
      "source": [
        "## Invoke the previous functions\n",
        "\n",
        "Run the following code cell to invoke the preceding functions and actually train the model on the training set. \n",
        "\n",
        "**Note:** Due to several factors (for example, more examples and a more complex neural network) training MNIST might take longer than training the California Housing Dataset. Be patient."
      ]
    },
    {
      "cell_type": "code",
      "execution_count": 12,
      "metadata": {
        "cellView": "both",
        "colab": {},
        "colab_type": "code",
        "id": "nj3v5EKQFY8s"
      },
      "outputs": [
        {
          "name": "stderr",
          "output_type": "stream",
          "text": [
            "/home/sonya/.local/lib/python3.8/site-packages/keras/optimizer_v2/optimizer_v2.py:355: UserWarning: The `lr` argument is deprecated, use `learning_rate` instead.\n",
            "  warnings.warn(\n"
          ]
        },
        {
          "name": "stdout",
          "output_type": "stream",
          "text": [
            "Epoch 1/50\n",
            "12/12 [==============================] - 1s 33ms/step - loss: 1.6486 - accuracy: 0.4737 - val_loss: 0.8744 - val_accuracy: 0.7944\n",
            "Epoch 2/50\n",
            "12/12 [==============================] - 0s 17ms/step - loss: 0.8410 - accuracy: 0.7426 - val_loss: 0.5040 - val_accuracy: 0.8689\n",
            "Epoch 3/50\n",
            "12/12 [==============================] - 0s 17ms/step - loss: 0.6062 - accuracy: 0.8160 - val_loss: 0.3988 - val_accuracy: 0.8922\n",
            "Epoch 4/50\n",
            "12/12 [==============================] - 0s 17ms/step - loss: 0.5087 - accuracy: 0.8488 - val_loss: 0.3458 - val_accuracy: 0.9066\n",
            "Epoch 5/50\n",
            "12/12 [==============================] - 0s 19ms/step - loss: 0.4543 - accuracy: 0.8632 - val_loss: 0.3154 - val_accuracy: 0.9129\n",
            "Epoch 6/50\n",
            "12/12 [==============================] - 0s 18ms/step - loss: 0.4194 - accuracy: 0.8756 - val_loss: 0.2942 - val_accuracy: 0.9197\n",
            "Epoch 7/50\n",
            "12/12 [==============================] - 0s 20ms/step - loss: 0.3956 - accuracy: 0.8838 - val_loss: 0.2791 - val_accuracy: 0.9239\n",
            "Epoch 8/50\n",
            "12/12 [==============================] - 0s 19ms/step - loss: 0.3707 - accuracy: 0.8903 - val_loss: 0.2655 - val_accuracy: 0.9262\n",
            "Epoch 9/50\n",
            "12/12 [==============================] - 0s 16ms/step - loss: 0.3561 - accuracy: 0.8948 - val_loss: 0.2540 - val_accuracy: 0.9303\n",
            "Epoch 10/50\n",
            "12/12 [==============================] - 0s 18ms/step - loss: 0.3428 - accuracy: 0.8989 - val_loss: 0.2441 - val_accuracy: 0.9317\n",
            "Epoch 11/50\n",
            "12/12 [==============================] - 0s 21ms/step - loss: 0.3301 - accuracy: 0.9030 - val_loss: 0.2352 - val_accuracy: 0.9349\n",
            "Epoch 12/50\n",
            "12/12 [==============================] - 0s 20ms/step - loss: 0.3189 - accuracy: 0.9064 - val_loss: 0.2279 - val_accuracy: 0.9361\n",
            "Epoch 13/50\n",
            "12/12 [==============================] - 0s 19ms/step - loss: 0.3092 - accuracy: 0.9099 - val_loss: 0.2214 - val_accuracy: 0.9385\n",
            "Epoch 14/50\n",
            "12/12 [==============================] - 0s 21ms/step - loss: 0.2998 - accuracy: 0.9116 - val_loss: 0.2138 - val_accuracy: 0.9408\n",
            "Epoch 15/50\n",
            "12/12 [==============================] - 0s 23ms/step - loss: 0.2938 - accuracy: 0.9134 - val_loss: 0.2082 - val_accuracy: 0.9420\n",
            "Epoch 16/50\n",
            "12/12 [==============================] - 0s 18ms/step - loss: 0.2853 - accuracy: 0.9165 - val_loss: 0.2027 - val_accuracy: 0.9434\n",
            "Epoch 17/50\n",
            "12/12 [==============================] - 0s 15ms/step - loss: 0.2758 - accuracy: 0.9186 - val_loss: 0.1984 - val_accuracy: 0.9448\n",
            "Epoch 18/50\n",
            "12/12 [==============================] - 0s 15ms/step - loss: 0.2721 - accuracy: 0.9194 - val_loss: 0.1932 - val_accuracy: 0.9471\n",
            "Epoch 19/50\n",
            "12/12 [==============================] - 0s 19ms/step - loss: 0.2649 - accuracy: 0.9215 - val_loss: 0.1890 - val_accuracy: 0.9475\n",
            "Epoch 20/50\n",
            "12/12 [==============================] - 0s 16ms/step - loss: 0.2621 - accuracy: 0.9224 - val_loss: 0.1858 - val_accuracy: 0.9489\n",
            "Epoch 21/50\n",
            "12/12 [==============================] - 0s 15ms/step - loss: 0.2542 - accuracy: 0.9241 - val_loss: 0.1811 - val_accuracy: 0.9497\n",
            "Epoch 22/50\n",
            "12/12 [==============================] - 0s 20ms/step - loss: 0.2512 - accuracy: 0.9253 - val_loss: 0.1788 - val_accuracy: 0.9501\n",
            "Epoch 23/50\n",
            "12/12 [==============================] - 0s 23ms/step - loss: 0.2466 - accuracy: 0.9265 - val_loss: 0.1750 - val_accuracy: 0.9507\n",
            "Epoch 24/50\n",
            "12/12 [==============================] - 0s 20ms/step - loss: 0.2413 - accuracy: 0.9297 - val_loss: 0.1732 - val_accuracy: 0.9514\n",
            "Epoch 25/50\n",
            "12/12 [==============================] - 0s 20ms/step - loss: 0.2376 - accuracy: 0.9294 - val_loss: 0.1698 - val_accuracy: 0.9523\n",
            "Epoch 26/50\n",
            "12/12 [==============================] - 0s 19ms/step - loss: 0.2332 - accuracy: 0.9316 - val_loss: 0.1657 - val_accuracy: 0.9538\n",
            "Epoch 27/50\n",
            "12/12 [==============================] - 0s 15ms/step - loss: 0.2304 - accuracy: 0.9317 - val_loss: 0.1642 - val_accuracy: 0.9541\n",
            "Epoch 28/50\n",
            "12/12 [==============================] - 0s 16ms/step - loss: 0.2237 - accuracy: 0.9330 - val_loss: 0.1617 - val_accuracy: 0.9545\n",
            "Epoch 29/50\n",
            "12/12 [==============================] - 0s 15ms/step - loss: 0.2228 - accuracy: 0.9337 - val_loss: 0.1585 - val_accuracy: 0.9555\n",
            "Epoch 30/50\n",
            "12/12 [==============================] - 0s 15ms/step - loss: 0.2167 - accuracy: 0.9347 - val_loss: 0.1545 - val_accuracy: 0.9571\n",
            "Epoch 31/50\n",
            "12/12 [==============================] - 0s 15ms/step - loss: 0.2142 - accuracy: 0.9359 - val_loss: 0.1532 - val_accuracy: 0.9575\n",
            "Epoch 32/50\n",
            "12/12 [==============================] - 0s 15ms/step - loss: 0.2119 - accuracy: 0.9374 - val_loss: 0.1507 - val_accuracy: 0.9587\n",
            "Epoch 33/50\n",
            "12/12 [==============================] - 0s 17ms/step - loss: 0.2047 - accuracy: 0.9401 - val_loss: 0.1484 - val_accuracy: 0.9583\n",
            "Epoch 34/50\n",
            "12/12 [==============================] - 0s 15ms/step - loss: 0.2022 - accuracy: 0.9400 - val_loss: 0.1472 - val_accuracy: 0.9575\n",
            "Epoch 35/50\n",
            "12/12 [==============================] - 0s 15ms/step - loss: 0.1985 - accuracy: 0.9408 - val_loss: 0.1454 - val_accuracy: 0.9583\n",
            "Epoch 36/50\n",
            "12/12 [==============================] - 0s 15ms/step - loss: 0.1956 - accuracy: 0.9415 - val_loss: 0.1427 - val_accuracy: 0.9601\n",
            "Epoch 37/50\n",
            "12/12 [==============================] - 0s 15ms/step - loss: 0.1924 - accuracy: 0.9424 - val_loss: 0.1426 - val_accuracy: 0.9594\n",
            "Epoch 38/50\n",
            "12/12 [==============================] - 0s 15ms/step - loss: 0.1894 - accuracy: 0.9442 - val_loss: 0.1403 - val_accuracy: 0.9607\n",
            "Epoch 39/50\n",
            "12/12 [==============================] - 0s 15ms/step - loss: 0.1862 - accuracy: 0.9452 - val_loss: 0.1378 - val_accuracy: 0.9608\n",
            "Epoch 40/50\n",
            "12/12 [==============================] - 0s 15ms/step - loss: 0.1861 - accuracy: 0.9453 - val_loss: 0.1373 - val_accuracy: 0.9617\n",
            "Epoch 41/50\n",
            "12/12 [==============================] - 0s 15ms/step - loss: 0.1849 - accuracy: 0.9432 - val_loss: 0.1373 - val_accuracy: 0.9613\n",
            "Epoch 42/50\n",
            "12/12 [==============================] - 0s 14ms/step - loss: 0.1841 - accuracy: 0.9441 - val_loss: 0.1359 - val_accuracy: 0.9618\n",
            "Epoch 43/50\n",
            "12/12 [==============================] - 0s 14ms/step - loss: 0.1811 - accuracy: 0.9447 - val_loss: 0.1348 - val_accuracy: 0.9628\n",
            "Epoch 44/50\n",
            "12/12 [==============================] - 0s 14ms/step - loss: 0.1794 - accuracy: 0.9458 - val_loss: 0.1319 - val_accuracy: 0.9628\n",
            "Epoch 45/50\n",
            "12/12 [==============================] - 0s 21ms/step - loss: 0.1765 - accuracy: 0.9459 - val_loss: 0.1318 - val_accuracy: 0.9630\n",
            "Epoch 46/50\n",
            "12/12 [==============================] - 0s 16ms/step - loss: 0.1757 - accuracy: 0.9459 - val_loss: 0.1306 - val_accuracy: 0.9642\n",
            "Epoch 47/50\n",
            "12/12 [==============================] - 0s 15ms/step - loss: 0.1714 - accuracy: 0.9482 - val_loss: 0.1300 - val_accuracy: 0.9639\n",
            "Epoch 48/50\n",
            "12/12 [==============================] - 0s 18ms/step - loss: 0.1700 - accuracy: 0.9489 - val_loss: 0.1286 - val_accuracy: 0.9641\n",
            "Epoch 49/50\n",
            "12/12 [==============================] - 0s 15ms/step - loss: 0.1691 - accuracy: 0.9489 - val_loss: 0.1287 - val_accuracy: 0.9638\n",
            "Epoch 50/50\n",
            "12/12 [==============================] - 0s 14ms/step - loss: 0.1694 - accuracy: 0.9476 - val_loss: 0.1278 - val_accuracy: 0.9637\n",
            "\n",
            " Evaluate the new model against the test set:\n",
            "3/3 [==============================] - 0s 4ms/step - loss: 0.1317 - accuracy: 0.9609\n"
          ]
        },
        {
          "data": {
            "text/plain": [
              "[0.13165131211280823, 0.9609000086784363]"
            ]
          },
          "execution_count": 12,
          "metadata": {},
          "output_type": "execute_result"
        },
        {
          "data": {
            "image/png": "[encoded data removed]",
            "text/plain": [
              "<Figure size 432x288 with 1 Axes>"
            ]
          },
          "metadata": {
            "needs_background": "light"
          },
          "output_type": "display_data"
        }
      ],
      "source": [
        "# The following variables are the hyperparameters.\n",
        "learning_rate = 0.003\n",
        "epochs = 50\n",
        "batch_size = 4000\n",
        "validation_split = 0.2\n",
        "\n",
        "# Establish the model's topography.\n",
        "my_model = create_model(learning_rate)\n",
        "\n",
        "# Train the model on the normalized training set.\n",
        "epochs, hist = train_model(my_model, x_train_normalized, y_train, \n",
        "                           epochs, batch_size, validation_split)\n",
        "\n",
        "# Plot a graph of the metric vs. epochs.\n",
        "list_of_metrics_to_plot = ['accuracy']\n",
        "plot_curve(epochs, hist, list_of_metrics_to_plot)\n",
        "\n",
        "# Evaluate against the test set.\n",
        "print(\"\\n Evaluate the new model against the test set:\")\n",
        "my_model.evaluate(x=x_test_normalized, y=y_test, batch_size=batch_size)"
      ]
    },
    {
      "cell_type": "markdown",
      "metadata": {
        "colab_type": "text",
        "id": "Y5IKmk7D49_n"
      },
      "source": [
        "## Task 2: Optimize the model\n",
        "\n",
        "Experiment with the following:\n",
        "\n",
        "* number of hidden layers \n",
        "* number of nodes in each layer\n",
        "* dropout regularization rate\n",
        "\n",
        "What trends did you discover?  Can you reach at least 98% accuracy against the test set? \n",
        "\n",
        "\n"
      ]
    },
    {
      "cell_type": "code",
      "execution_count": 23,
      "metadata": {},
      "outputs": [
        {
          "name": "stderr",
          "output_type": "stream",
          "text": [
            "/home/sonya/.local/lib/python3.8/site-packages/keras/optimizer_v2/optimizer_v2.py:355: UserWarning: The `lr` argument is deprecated, use `learning_rate` instead.\n",
            "  warnings.warn(\n"
          ]
        },
        {
          "name": "stdout",
          "output_type": "stream",
          "text": [
            "Epoch 1/60\n",
            "12/12 [==============================] - 1s 65ms/step - loss: 0.9231 - accuracy: 0.7152 - val_loss: 0.3555 - val_accuracy: 0.8926\n",
            "Epoch 2/60\n",
            "12/12 [==============================] - 0s 37ms/step - loss: 0.3272 - accuracy: 0.9014 - val_loss: 0.2217 - val_accuracy: 0.9349\n",
            "Epoch 3/60\n",
            "12/12 [==============================] - 0s 38ms/step - loss: 0.2248 - accuracy: 0.9327 - val_loss: 0.1707 - val_accuracy: 0.9498\n",
            "Epoch 4/60\n",
            "12/12 [==============================] - 0s 37ms/step - loss: 0.1756 - accuracy: 0.9475 - val_loss: 0.1427 - val_accuracy: 0.9572\n",
            "Epoch 5/60\n",
            "12/12 [==============================] - 0s 37ms/step - loss: 0.1435 - accuracy: 0.9570 - val_loss: 0.1274 - val_accuracy: 0.9606\n",
            "Epoch 6/60\n",
            "12/12 [==============================] - 0s 37ms/step - loss: 0.1197 - accuracy: 0.9641 - val_loss: 0.1181 - val_accuracy: 0.9644\n",
            "Epoch 7/60\n",
            "12/12 [==============================] - 0s 37ms/step - loss: 0.1019 - accuracy: 0.9695 - val_loss: 0.1056 - val_accuracy: 0.9683\n",
            "Epoch 8/60\n",
            "12/12 [==============================] - 0s 38ms/step - loss: 0.0879 - accuracy: 0.9737 - val_loss: 0.0977 - val_accuracy: 0.9693\n",
            "Epoch 9/60\n",
            "12/12 [==============================] - 0s 38ms/step - loss: 0.0778 - accuracy: 0.9771 - val_loss: 0.0934 - val_accuracy: 0.9722\n",
            "Epoch 10/60\n",
            "12/12 [==============================] - 1s 45ms/step - loss: 0.0682 - accuracy: 0.9792 - val_loss: 0.0901 - val_accuracy: 0.9721\n",
            "Epoch 11/60\n",
            "12/12 [==============================] - 1s 44ms/step - loss: 0.0626 - accuracy: 0.9804 - val_loss: 0.0853 - val_accuracy: 0.9750\n",
            "Epoch 12/60\n",
            "12/12 [==============================] - 0s 39ms/step - loss: 0.0544 - accuracy: 0.9837 - val_loss: 0.0836 - val_accuracy: 0.9745\n",
            "Epoch 13/60\n",
            "12/12 [==============================] - 0s 39ms/step - loss: 0.0489 - accuracy: 0.9852 - val_loss: 0.0853 - val_accuracy: 0.9758\n",
            "Epoch 14/60\n",
            "12/12 [==============================] - 0s 40ms/step - loss: 0.0450 - accuracy: 0.9859 - val_loss: 0.0795 - val_accuracy: 0.9778\n",
            "Epoch 15/60\n",
            "12/12 [==============================] - 1s 46ms/step - loss: 0.0386 - accuracy: 0.9884 - val_loss: 0.0794 - val_accuracy: 0.9773\n",
            "Epoch 16/60\n",
            "12/12 [==============================] - 1s 41ms/step - loss: 0.0359 - accuracy: 0.9888 - val_loss: 0.0811 - val_accuracy: 0.9778\n",
            "Epoch 17/60\n",
            "12/12 [==============================] - 0s 40ms/step - loss: 0.0338 - accuracy: 0.9896 - val_loss: 0.0784 - val_accuracy: 0.9787\n",
            "Epoch 18/60\n",
            "12/12 [==============================] - 0s 41ms/step - loss: 0.0304 - accuracy: 0.9904 - val_loss: 0.0817 - val_accuracy: 0.9782\n",
            "Epoch 19/60\n",
            "12/12 [==============================] - 1s 47ms/step - loss: 0.0283 - accuracy: 0.9909 - val_loss: 0.0804 - val_accuracy: 0.9780\n",
            "Epoch 20/60\n",
            "12/12 [==============================] - 0s 40ms/step - loss: 0.0245 - accuracy: 0.9925 - val_loss: 0.0780 - val_accuracy: 0.9787\n",
            "Epoch 21/60\n",
            "12/12 [==============================] - 0s 40ms/step - loss: 0.0218 - accuracy: 0.9934 - val_loss: 0.0800 - val_accuracy: 0.9780\n",
            "Epoch 22/60\n",
            "12/12 [==============================] - 0s 42ms/step - loss: 0.0220 - accuracy: 0.9930 - val_loss: 0.0807 - val_accuracy: 0.9788\n",
            "Epoch 23/60\n",
            "12/12 [==============================] - 0s 40ms/step - loss: 0.0208 - accuracy: 0.9938 - val_loss: 0.0802 - val_accuracy: 0.9790\n",
            "Epoch 24/60\n",
            "12/12 [==============================] - 0s 40ms/step - loss: 0.0187 - accuracy: 0.9939 - val_loss: 0.0828 - val_accuracy: 0.9787\n",
            "Epoch 25/60\n",
            "12/12 [==============================] - 0s 41ms/step - loss: 0.0178 - accuracy: 0.9945 - val_loss: 0.0801 - val_accuracy: 0.9794\n",
            "Epoch 26/60\n",
            "12/12 [==============================] - 0s 41ms/step - loss: 0.0163 - accuracy: 0.9953 - val_loss: 0.0801 - val_accuracy: 0.9800\n",
            "Epoch 27/60\n",
            "12/12 [==============================] - 1s 42ms/step - loss: 0.0156 - accuracy: 0.9951 - val_loss: 0.0821 - val_accuracy: 0.9791\n",
            "Epoch 28/60\n",
            "12/12 [==============================] - 1s 42ms/step - loss: 0.0145 - accuracy: 0.9956 - val_loss: 0.0817 - val_accuracy: 0.9798\n",
            "Epoch 29/60\n",
            "12/12 [==============================] - 1s 46ms/step - loss: 0.0141 - accuracy: 0.9955 - val_loss: 0.0831 - val_accuracy: 0.9799\n",
            "Epoch 30/60\n",
            "12/12 [==============================] - 1s 43ms/step - loss: 0.0134 - accuracy: 0.9958 - val_loss: 0.0834 - val_accuracy: 0.9793\n",
            "Epoch 31/60\n",
            "12/12 [==============================] - 0s 40ms/step - loss: 0.0117 - accuracy: 0.9968 - val_loss: 0.0857 - val_accuracy: 0.9795\n",
            "Epoch 32/60\n",
            "12/12 [==============================] - 0s 40ms/step - loss: 0.0133 - accuracy: 0.9958 - val_loss: 0.0886 - val_accuracy: 0.9789\n",
            "Epoch 33/60\n",
            "12/12 [==============================] - 0s 39ms/step - loss: 0.0114 - accuracy: 0.9963 - val_loss: 0.0869 - val_accuracy: 0.9801\n",
            "Epoch 34/60\n",
            "12/12 [==============================] - 1s 43ms/step - loss: 0.0111 - accuracy: 0.9966 - val_loss: 0.0868 - val_accuracy: 0.9796\n",
            "Epoch 35/60\n",
            "12/12 [==============================] - 0s 40ms/step - loss: 0.0106 - accuracy: 0.9966 - val_loss: 0.0894 - val_accuracy: 0.9803\n",
            "Epoch 36/60\n",
            "12/12 [==============================] - 0s 40ms/step - loss: 0.0107 - accuracy: 0.9969 - val_loss: 0.0895 - val_accuracy: 0.9799\n",
            "Epoch 37/60\n",
            "12/12 [==============================] - 1s 49ms/step - loss: 0.0105 - accuracy: 0.9967 - val_loss: 0.0882 - val_accuracy: 0.9795\n",
            "Epoch 38/60\n",
            "12/12 [==============================] - 1s 54ms/step - loss: 0.0089 - accuracy: 0.9972 - val_loss: 0.0889 - val_accuracy: 0.9796\n",
            "Epoch 39/60\n",
            "12/12 [==============================] - 1s 60ms/step - loss: 0.0091 - accuracy: 0.9974 - val_loss: 0.0904 - val_accuracy: 0.9795\n",
            "Epoch 40/60\n",
            "12/12 [==============================] - 1s 53ms/step - loss: 0.0088 - accuracy: 0.9970 - val_loss: 0.0919 - val_accuracy: 0.9794\n",
            "Epoch 41/60\n",
            "12/12 [==============================] - 1s 52ms/step - loss: 0.0089 - accuracy: 0.9970 - val_loss: 0.0933 - val_accuracy: 0.9797\n",
            "Epoch 42/60\n",
            "12/12 [==============================] - 1s 56ms/step - loss: 0.0079 - accuracy: 0.9978 - val_loss: 0.0924 - val_accuracy: 0.9790\n",
            "Epoch 43/60\n",
            "12/12 [==============================] - 1s 48ms/step - loss: 0.0081 - accuracy: 0.9977 - val_loss: 0.0887 - val_accuracy: 0.9809\n",
            "Epoch 44/60\n",
            "12/12 [==============================] - 1s 49ms/step - loss: 0.0073 - accuracy: 0.9978 - val_loss: 0.0942 - val_accuracy: 0.9793\n",
            "Epoch 45/60\n",
            "12/12 [==============================] - 1s 55ms/step - loss: 0.0078 - accuracy: 0.9976 - val_loss: 0.0950 - val_accuracy: 0.9807\n",
            "Epoch 46/60\n",
            "12/12 [==============================] - 1s 48ms/step - loss: 0.0072 - accuracy: 0.9976 - val_loss: 0.0951 - val_accuracy: 0.9797\n",
            "Epoch 47/60\n",
            "12/12 [==============================] - 1s 53ms/step - loss: 0.0063 - accuracy: 0.9980 - val_loss: 0.0965 - val_accuracy: 0.9797\n",
            "Epoch 48/60\n",
            "12/12 [==============================] - 1s 53ms/step - loss: 0.0075 - accuracy: 0.9977 - val_loss: 0.0951 - val_accuracy: 0.9814\n",
            "Epoch 49/60\n",
            "12/12 [==============================] - 1s 51ms/step - loss: 0.0074 - accuracy: 0.9979 - val_loss: 0.0979 - val_accuracy: 0.9800\n",
            "Epoch 50/60\n",
            "12/12 [==============================] - 1s 46ms/step - loss: 0.0076 - accuracy: 0.9978 - val_loss: 0.1002 - val_accuracy: 0.9800\n",
            "Epoch 51/60\n",
            "12/12 [==============================] - 1s 49ms/step - loss: 0.0078 - accuracy: 0.9974 - val_loss: 0.1005 - val_accuracy: 0.9797\n",
            "Epoch 52/60\n",
            "12/12 [==============================] - 1s 68ms/step - loss: 0.0062 - accuracy: 0.9979 - val_loss: 0.0975 - val_accuracy: 0.9809\n",
            "Epoch 53/60\n",
            "12/12 [==============================] - 1s 55ms/step - loss: 0.0056 - accuracy: 0.9982 - val_loss: 0.0990 - val_accuracy: 0.9805\n",
            "Epoch 54/60\n",
            "12/12 [==============================] - 1s 55ms/step - loss: 0.0057 - accuracy: 0.9985 - val_loss: 0.0968 - val_accuracy: 0.9806\n",
            "Epoch 55/60\n",
            "12/12 [==============================] - 1s 62ms/step - loss: 0.0054 - accuracy: 0.9983 - val_loss: 0.1052 - val_accuracy: 0.9800\n",
            "Epoch 56/60\n",
            "12/12 [==============================] - 1s 57ms/step - loss: 0.0061 - accuracy: 0.9980 - val_loss: 0.1021 - val_accuracy: 0.9810\n",
            "Epoch 57/60\n",
            "12/12 [==============================] - 1s 53ms/step - loss: 0.0066 - accuracy: 0.9982 - val_loss: 0.1021 - val_accuracy: 0.9801\n",
            "Epoch 58/60\n",
            "12/12 [==============================] - 1s 57ms/step - loss: 0.0062 - accuracy: 0.9982 - val_loss: 0.1061 - val_accuracy: 0.9796\n",
            "Epoch 59/60\n",
            "12/12 [==============================] - 1s 63ms/step - loss: 0.0053 - accuracy: 0.9984 - val_loss: 0.1042 - val_accuracy: 0.9804\n",
            "Epoch 60/60\n",
            "12/12 [==============================] - 1s 51ms/step - loss: 0.0062 - accuracy: 0.9981 - val_loss: 0.1081 - val_accuracy: 0.9795\n",
            "\n",
            " Evaluate the new model against the test set:\n",
            "3/3 [==============================] - 0s 12ms/step - loss: 0.0876 - accuracy: 0.9810\n"
          ]
        },
        {
          "data": {
            "text/plain": [
              "[0.08756083250045776, 0.9810000061988831]"
            ]
          },
          "execution_count": 23,
          "metadata": {},
          "output_type": "execute_result"
        },
        {
          "data": {
            "image/png": "[encoded data removed]",
            "text/plain": [
              "<Figure size 432x288 with 1 Axes>"
            ]
          },
          "metadata": {
            "needs_background": "light"
          },
          "output_type": "display_data"
        }
      ],
      "source": [
        "def create_model(my_learning_rate):\n",
        "  \"\"\"Create and compile a deep neural net.\"\"\"\n",
        "  \n",
        "  # All models in this course are sequential.\n",
        "  model = tf.keras.models.Sequential()\n",
        "\n",
        "  # The features are stored in a two-dimensional 28X28 array. \n",
        "  # Flatten that two-dimensional array into a a one-dimensional \n",
        "  # 784-element array.\n",
        "  model.add(tf.keras.layers.Flatten(input_shape=(28, 28)))\n",
        "\n",
        "  # Define the first hidden layer.   \n",
        "  model.add(tf.keras.layers.Dense(units=256, activation='relu'))\n",
        "  \n",
        "  # Define a dropout regularization layer. \n",
        "  model.add(tf.keras.layers.Dropout(rate=0.2))\n",
        "\n",
        "\n",
        "  # Define the first hidden layer.   \n",
        "  model.add(tf.keras.layers.Dense(units=128, activation='relu'))\n",
        "  \n",
        "\n",
        "  # Define the output layer. The units parameter is set to 10 because\n",
        "  # the model must choose among 10 possible output values (representing\n",
        "  # the digits from 0 to 9, inclusive).\n",
        "  #\n",
        "  # Don't change this layer.\n",
        "  model.add(tf.keras.layers.Dense(units=10, activation='softmax'))     \n",
        "                           \n",
        "  # Construct the layers into a model that TensorFlow can execute.  \n",
        "  # Notice that the loss function for multi-class classification\n",
        "  # is different than the loss function for binary classification.  \n",
        "  model.compile(optimizer=tf.keras.optimizers.Adam(lr=my_learning_rate),\n",
        "                loss=\"sparse_categorical_crossentropy\",\n",
        "                metrics=['accuracy'])\n",
        "  \n",
        "  return model    \n",
        "\n",
        "\n",
        "# The following variables are the hyperparameters.\n",
        "learning_rate = 0.005\n",
        "epochs = 60\n",
        "batch_size = 4000\n",
        "validation_split = 0.2\n",
        "\n",
        "# Establish the model's topography.\n",
        "my_model = create_model(learning_rate)\n",
        "\n",
        "# Train the model on the normalized training set.\n",
        "epochs, hist = train_model(my_model, x_train_normalized, y_train, \n",
        "                           epochs, batch_size, validation_split)\n",
        "\n",
        "# Plot a graph of the metric vs. epochs.\n",
        "list_of_metrics_to_plot = ['accuracy']\n",
        "plot_curve(epochs, hist, list_of_metrics_to_plot)\n",
        "\n",
        "# Evaluate against the test set.\n",
        "print(\"\\n Evaluate the new model against the test set:\")\n",
        "my_model.evaluate(x=x_test_normalized, y=y_test, batch_size=batch_size)"
      ]
    },
    {
      "cell_type": "code",
      "execution_count": null,
      "metadata": {
        "cellView": "form",
        "colab": {},
        "colab_type": "code",
        "id": "wYG5qXpP5a9n"
      },
      "outputs": [],
      "source": [
        "#@title Double-click to view some possible answers.\n",
        "\n",
        "# It would take much too long to experiment \n",
        "# fully with topography and dropout regularization \n",
        "# rate. In the real world, you would\n",
        "# also experiment with learning rate, batch size, \n",
        "# and number of epochs.  Since you only have a \n",
        "# few minutes, searching for trends can be helpful.\n",
        "# Here is what we discovered:\n",
        "#   * Adding more nodes (at least until 256 nodes) \n",
        "#     to the first hidden layer improved accuracy.\n",
        "#   * Adding a second hidden layer generally \n",
        "#     improved accuracy.\n",
        "#   * When the model contains a lot of nodes, \n",
        "#     the model overfits unless the dropout rate \n",
        "#     is at least 0.5. \n",
        "\n",
        "# We reached 98% test accuracy with the \n",
        "# following configuration:\n",
        "#   * One hidden layer of 256 nodes; no second \n",
        "      hidden layer.\n",
        "#   * dropout regularization rate of 0.4\n",
        "\n",
        "# We reached 98.2% test accuracy with the \n",
        "# following configuration:\n",
        "#   * First hidden layer of 256 nodes; \n",
        "#     second hidden layer of 128 nodes.\n",
        "#   * dropout regularization rate of 0.2\n"
      ]
    }
  ],
  "metadata": {
    "colab": {
      "collapsed_sections": [],
      "name": "Multi-class classification with MNIST.ipynb",
      "private_outputs": true,
      "provenance": []
    },
    "kernelspec": {
      "display_name": "Python 3",
      "name": "python3"
    },
    "language_info": {
      "codemirror_mode": {
        "name": "ipython",
        "version": 3
      },
      "file_extension": ".py",
      "mimetype": "text/x-python",
      "name": "python",
      "nbconvert_exporter": "python",
      "pygments_lexer": "ipython3",
      "version": "3.8.10"
    }
  },
  "nbformat": 4,
  "nbformat_minor": 0
}
