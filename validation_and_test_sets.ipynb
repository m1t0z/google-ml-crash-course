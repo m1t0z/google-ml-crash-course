{
  "cells": [
    {
      "cell_type": "code",
      "execution_count": null,
      "metadata": {
        "cellView": "form",
        "colab": {},
        "colab_type": "code",
        "id": "hMqWDc_m6rUC"
      },
      "outputs": [],
      "source": [
        "#@title Copyright 2020 Google LLC. Double-click here for license information.\n",
        "# Licensed under the Apache License, Version 2.0 (the \"License\");\n",
        "# you may not use this file except in compliance with the License.\n",
        "# You may obtain a copy of the License at\n",
        "#\n",
        "# https://www.apache.org/licenses/LICENSE-2.0\n",
        "#\n",
        "# Unless required by applicable law or agreed to in writing, software\n",
        "# distributed under the License is distributed on an \"AS IS\" BASIS,\n",
        "# WITHOUT WARRANTIES OR CONDITIONS OF ANY KIND, either express or implied.\n",
        "# See the License for the specific language governing permissions and\n",
        "# limitations under the License."
      ]
    },
    {
      "cell_type": "markdown",
      "metadata": {
        "colab_type": "text",
        "id": "4f3CKqFUqL2-"
      },
      "source": [
        "# Validation Sets and Test Sets\n",
        "\n",
        "The previous Colab exercises evaluated the trained model against the training set, which does not provide a strong signal about the quality of your model. In this Colab, you'll experiment with validation sets and test sets.\n",
        "\n",
        "\n",
        "\n",
        "\n"
      ]
    },
    {
      "cell_type": "markdown",
      "metadata": {
        "colab_type": "text",
        "id": "3spZH_kNkWWX"
      },
      "source": [
        "## Learning objectives\n",
        "\n",
        "After doing this Colab, you'll know how to do the following:\n",
        "\n",
        "  * Split a [training set](https://developers.google.com/machine-learning/glossary/#training_set) into a smaller training set and a [validation set](https://developers.google.com/machine-learning/glossary/#validation_set).\n",
        "  * Analyze deltas between training set and validation set results.\n",
        "  * Test the trained model with a [test set](https://developers.google.com/machine-learning/glossary/#test_set) to determine whether your trained model is [overfitting](https://developers.google.com/machine-learning/glossary/#overfitting).\n",
        "  * Detect and fix a common training problem."
      ]
    },
    {
      "cell_type": "markdown",
      "metadata": {
        "colab_type": "text",
        "id": "gV82DJO3kWpk"
      },
      "source": [
        "## The dataset\n",
        "\n",
        "As in the previous exercise, this exercise uses the [California Housing dataset](https://developers.google.com/machine-learning/crash-course/california-housing-data-description) to predict the `median_house_value` at the city block level.  Like many \"famous\" datasets, the California Housing Dataset actually consists of two separate datasets, each living in separate .csv files:\n",
        "\n",
        "* The training set is in `california_housing_train.csv`.\n",
        "* The test set is in `california_housing_test.csv`.\n",
        "\n",
        "You'll create the validation set by dividing the downloaded training set into two parts:\n",
        "\n",
        "* a smaller training set  \n",
        "* a validation set"
      ]
    },
    {
      "cell_type": "markdown",
      "metadata": {
        "colab_type": "text",
        "id": "u84mXopntPFZ"
      },
      "source": [
        "## Use the right version of TensorFlow\n",
        "\n",
        "The following hidden code cell ensures that the Colab will run on TensorFlow 2.X."
      ]
    },
    {
      "cell_type": "code",
      "execution_count": 1,
      "metadata": {
        "cellView": "form",
        "colab": {},
        "colab_type": "code",
        "id": "FBhNIdUatOU6"
      },
      "outputs": [
        {
          "name": "stderr",
          "output_type": "stream",
          "text": [
            "UsageError: Line magic function `%tensorflow_version` not found.\n"
          ]
        }
      ],
      "source": [
        "#@title Run on TensorFlow 2.x\n",
        "%tensorflow_version 2.x"
      ]
    },
    {
      "cell_type": "markdown",
      "metadata": {
        "colab_type": "text",
        "id": "S8gm6BpqRRuh"
      },
      "source": [
        "## Import relevant modules\n",
        "\n",
        "As before, this first code cell imports the necessary modules and sets a few display options."
      ]
    },
    {
      "cell_type": "code",
      "execution_count": 3,
      "metadata": {
        "cellView": "form",
        "colab": {},
        "colab_type": "code",
        "id": "9D8GgUovHbG0"
      },
      "outputs": [],
      "source": [
        "#@title Import modules\n",
        "import numpy as np\n",
        "import pandas as pd\n",
        "import tensorflow as tf\n",
        "from matplotlib import pyplot as plt\n",
        "\n",
        "pd.options.display.max_rows = 10\n",
        "pd.options.display.float_format = \"{:.1f}\".format"
      ]
    },
    {
      "cell_type": "markdown",
      "metadata": {
        "colab_type": "text",
        "id": "xjvrrClQeAJu"
      },
      "source": [
        "## Load the datasets from the internet\n",
        "\n",
        "The following code cell loads the separate .csv files and creates the following two pandas DataFrames:\n",
        "\n",
        "* `train_df`, which contains the training set.\n",
        "* `test_df`, which contains the test set.\n",
        "\n"
      ]
    },
    {
      "cell_type": "code",
      "execution_count": 4,
      "metadata": {
        "colab": {},
        "colab_type": "code",
        "id": "zUnTc_wfd_o3"
      },
      "outputs": [],
      "source": [
        "train_df = pd.read_csv(\"https://download.mlcc.google.com/mledu-datasets/california_housing_train.csv\")\n",
        "test_df = pd.read_csv(\"https://download.mlcc.google.com/mledu-datasets/california_housing_test.csv\")"
      ]
    },
    {
      "cell_type": "markdown",
      "metadata": {
        "colab_type": "text",
        "id": "P_KBdj2M_yjM"
      },
      "source": [
        "## Scale the label values\n",
        "\n",
        "The following code cell scales the `median_house_value`. \n",
        "See the previous Colab exercise for details."
      ]
    },
    {
      "cell_type": "code",
      "execution_count": 5,
      "metadata": {
        "colab": {},
        "colab_type": "code",
        "id": "3hc7QQhaAFXD"
      },
      "outputs": [],
      "source": [
        "scale_factor = 1000.0\n",
        "\n",
        "# Scale the training set's label.\n",
        "train_df[\"median_house_value\"] /= scale_factor \n",
        "\n",
        "# Scale the test set's label\n",
        "test_df[\"median_house_value\"] /= scale_factor"
      ]
    },
    {
      "cell_type": "markdown",
      "metadata": {
        "colab_type": "text",
        "id": "FhessIIV8VPc"
      },
      "source": [
        "## Load the functions that build and train a model\n",
        "\n",
        "The following code cell defines two functions:\n",
        "\n",
        "  * `build_model`, which defines the model's topography.\n",
        "  * `train_model`, which will ultimately train the model, outputting not only the loss value for the training set but also the loss value for the validation set. \n",
        "\n",
        "Since you don't need to understand model building code right now, we've hidden this code cell. As always, you must run hidden code cells."
      ]
    },
    {
      "cell_type": "code",
      "execution_count": 6,
      "metadata": {
        "cellView": "form",
        "colab": {},
        "colab_type": "code",
        "id": "bvonhK857msj"
      },
      "outputs": [
        {
          "name": "stdout",
          "output_type": "stream",
          "text": [
            "Defined the build_model and train_model functions.\n"
          ]
        }
      ],
      "source": [
        "#@title Define the functions that build and train a model\n",
        "def build_model(my_learning_rate):\n",
        "  \"\"\"Create and compile a simple linear regression model.\"\"\"\n",
        "  # Most simple tf.keras models are sequential.\n",
        "  model = tf.keras.models.Sequential()\n",
        "\n",
        "  # Add one linear layer to the model to yield a simple linear regressor.\n",
        "  model.add(tf.keras.layers.Dense(units=1, input_shape=(1,)))\n",
        "\n",
        "  # Compile the model topography into code that TensorFlow can efficiently\n",
        "  # execute. Configure training to minimize the model's mean squared error. \n",
        "  model.compile(optimizer=tf.keras.optimizers.RMSprop(lr=my_learning_rate),\n",
        "                loss=\"mean_squared_error\",\n",
        "                metrics=[tf.keras.metrics.RootMeanSquaredError()])\n",
        "\n",
        "  return model               \n",
        "\n",
        "\n",
        "def train_model(model, df, feature, label, my_epochs, \n",
        "                my_batch_size=None, my_validation_split=0.1):\n",
        "  \"\"\"Feed a dataset into the model in order to train it.\"\"\"\n",
        "\n",
        "  history = model.fit(x=df[feature],\n",
        "                      y=df[label],\n",
        "                      batch_size=my_batch_size,\n",
        "                      epochs=my_epochs,\n",
        "                      validation_split=my_validation_split)\n",
        "\n",
        "  # Gather the model's trained weight and bias.\n",
        "  trained_weight = model.get_weights()[0]\n",
        "  trained_bias = model.get_weights()[1]\n",
        "\n",
        "  # The list of epochs is stored separately from the \n",
        "  # rest of history.\n",
        "  epochs = history.epoch\n",
        "  \n",
        "  # Isolate the root mean squared error for each epoch.\n",
        "  hist = pd.DataFrame(history.history)\n",
        "  rmse = hist[\"root_mean_squared_error\"]\n",
        "\n",
        "  return epochs, rmse, history.history   \n",
        "\n",
        "print(\"Defined the build_model and train_model functions.\")"
      ]
    },
    {
      "cell_type": "markdown",
      "metadata": {
        "colab_type": "text",
        "id": "8gRu4Ri0D8tH"
      },
      "source": [
        "## Define plotting functions\n",
        "\n",
        "The `plot_the_loss_curve` function plots loss vs. epochs for both the training set and the validation set."
      ]
    },
    {
      "cell_type": "code",
      "execution_count": 7,
      "metadata": {
        "cellView": "form",
        "colab": {},
        "colab_type": "code",
        "id": "QA7hsqPZDvVM"
      },
      "outputs": [
        {
          "name": "stdout",
          "output_type": "stream",
          "text": [
            "Defined the plot_the_loss_curve function.\n"
          ]
        }
      ],
      "source": [
        "#@title Define the plotting function\n",
        "\n",
        "def plot_the_loss_curve(epochs, mae_training, mae_validation):\n",
        "  \"\"\"Plot a curve of loss vs. epoch.\"\"\"\n",
        "\n",
        "  plt.figure()\n",
        "  plt.xlabel(\"Epoch\")\n",
        "  plt.ylabel(\"Root Mean Squared Error\")\n",
        "\n",
        "  plt.plot(epochs[1:], mae_training[1:], label=\"Training Loss\")\n",
        "  plt.plot(epochs[1:], mae_validation[1:], label=\"Validation Loss\")\n",
        "  plt.legend()\n",
        "  \n",
        "  # We're not going to plot the first epoch, since the loss on the first epoch\n",
        "  # is often substantially greater than the loss for other epochs.\n",
        "  merged_mae_lists = mae_training[1:] + mae_validation[1:]\n",
        "  highest_loss = max(merged_mae_lists)\n",
        "  lowest_loss = min(merged_mae_lists)\n",
        "  delta = highest_loss - lowest_loss\n",
        "  print(delta)\n",
        "\n",
        "  top_of_y_axis = highest_loss + (delta * 0.05)\n",
        "  bottom_of_y_axis = lowest_loss - (delta * 0.05)\n",
        "   \n",
        "  plt.ylim([bottom_of_y_axis, top_of_y_axis])\n",
        "  plt.show()  \n",
        "\n",
        "print(\"Defined the plot_the_loss_curve function.\")"
      ]
    },
    {
      "cell_type": "markdown",
      "metadata": {
        "colab_type": "text",
        "id": "jipBqEQXlsN8"
      },
      "source": [
        "## Task 1: Experiment with the validation split\n",
        "\n",
        "In the following code cell, you'll see a variable named `validation_split`, which we've initialized at 0.2.  The `validation_split` variable specifies the proportion of the original training set that will serve as the validation set. The original training set contains 17,000 examples. Therefore, a `validation_split` of 0.2 means that:\n",
        "\n",
        "* 17,000 * 0.2 ~= 3,400 examples will become the validation set.\n",
        "* 17,000 * 0.8 ~= 13,600 examples will become the new training set.\n",
        "\n",
        "The following code builds a model, trains it on the training set, and evaluates the built model on both:\n",
        "\n",
        "* The training set.\n",
        "* And the validation set.\n",
        "\n",
        "If the data in the training set is similar to the data in the validation set, then the two loss curves and the final loss values should be almost identical. However, the loss curves and final loss values are **not** almost identical. Hmm, that's odd.  \n",
        "\n",
        "Experiment with two or three different values of `validation_split`.  Do different values of `validation_split` fix the problem? \n"
      ]
    },
    {
      "cell_type": "code",
      "execution_count": 10,
      "metadata": {
        "colab": {},
        "colab_type": "code",
        "id": "knP23Taoa00a"
      },
      "outputs": [
        {
          "name": "stdout",
          "output_type": "stream",
          "text": [
            "Epoch 1/30\n",
            "136/136 [==============================] - 0s 2ms/step - loss: 41276.8242 - root_mean_squared_error: 203.1670 - val_loss: 50080.3047 - val_root_mean_squared_error: 223.7863\n",
            "Epoch 2/30\n",
            "136/136 [==============================] - 0s 1ms/step - loss: 23919.8594 - root_mean_squared_error: 154.6605 - val_loss: 29467.1348 - val_root_mean_squared_error: 171.6599\n",
            "Epoch 3/30\n",
            "136/136 [==============================] - 0s 1ms/step - loss: 12793.7012 - root_mean_squared_error: 113.1092 - val_loss: 15979.0479 - val_root_mean_squared_error: 126.4083\n",
            "Epoch 4/30\n",
            "136/136 [==============================] - 0s 880us/step - loss: 7424.9810 - root_mean_squared_error: 86.1683 - val_loss: 9821.6562 - val_root_mean_squared_error: 99.1043\n",
            "Epoch 5/30\n",
            "136/136 [==============================] - 0s 967us/step - loss: 6519.5918 - root_mean_squared_error: 80.7440 - val_loss: 9301.3857 - val_root_mean_squared_error: 96.4437\n",
            "Epoch 6/30\n",
            "136/136 [==============================] - 0s 910us/step - loss: 6514.1851 - root_mean_squared_error: 80.7105 - val_loss: 9211.8154 - val_root_mean_squared_error: 95.9782\n",
            "Epoch 7/30\n",
            "136/136 [==============================] - 0s 916us/step - loss: 6512.7441 - root_mean_squared_error: 80.7016 - val_loss: 9413.8555 - val_root_mean_squared_error: 97.0250\n",
            "Epoch 8/30\n",
            "136/136 [==============================] - 0s 1ms/step - loss: 6514.1816 - root_mean_squared_error: 80.7105 - val_loss: 9373.8643 - val_root_mean_squared_error: 96.8187\n",
            "Epoch 9/30\n",
            "136/136 [==============================] - 0s 854us/step - loss: 6512.9307 - root_mean_squared_error: 80.7027 - val_loss: 9232.5127 - val_root_mean_squared_error: 96.0860\n",
            "Epoch 10/30\n",
            "136/136 [==============================] - 0s 959us/step - loss: 6513.4224 - root_mean_squared_error: 80.7058 - val_loss: 9236.2080 - val_root_mean_squared_error: 96.1052\n",
            "Epoch 11/30\n",
            "136/136 [==============================] - 0s 909us/step - loss: 6514.0391 - root_mean_squared_error: 80.7096 - val_loss: 9260.0791 - val_root_mean_squared_error: 96.2293\n",
            "Epoch 12/30\n",
            "136/136 [==============================] - 0s 925us/step - loss: 6512.7793 - root_mean_squared_error: 80.7018 - val_loss: 9276.0020 - val_root_mean_squared_error: 96.3120\n",
            "Epoch 13/30\n",
            "136/136 [==============================] - 0s 882us/step - loss: 6512.6372 - root_mean_squared_error: 80.7009 - val_loss: 9267.1045 - val_root_mean_squared_error: 96.2658\n",
            "Epoch 14/30\n",
            "136/136 [==============================] - 0s 1ms/step - loss: 6512.8623 - root_mean_squared_error: 80.7023 - val_loss: 9139.0547 - val_root_mean_squared_error: 95.5984\n",
            "Epoch 15/30\n",
            "136/136 [==============================] - 0s 969us/step - loss: 6513.8218 - root_mean_squared_error: 80.7083 - val_loss: 9260.5742 - val_root_mean_squared_error: 96.2319\n",
            "Epoch 16/30\n",
            "136/136 [==============================] - 0s 888us/step - loss: 6513.3296 - root_mean_squared_error: 80.7052 - val_loss: 9330.8623 - val_root_mean_squared_error: 96.5964\n",
            "Epoch 17/30\n",
            "136/136 [==============================] - 0s 887us/step - loss: 6514.3237 - root_mean_squared_error: 80.7114 - val_loss: 9238.7021 - val_root_mean_squared_error: 96.1182\n",
            "Epoch 18/30\n",
            "136/136 [==============================] - 0s 907us/step - loss: 6513.6123 - root_mean_squared_error: 80.7070 - val_loss: 9211.4775 - val_root_mean_squared_error: 95.9764\n",
            "Epoch 19/30\n",
            "136/136 [==============================] - 0s 864us/step - loss: 6512.6465 - root_mean_squared_error: 80.7010 - val_loss: 9306.0625 - val_root_mean_squared_error: 96.4679\n",
            "Epoch 20/30\n",
            "136/136 [==============================] - 0s 922us/step - loss: 6513.8638 - root_mean_squared_error: 80.7085 - val_loss: 9234.0811 - val_root_mean_squared_error: 96.0941\n",
            "Epoch 21/30\n",
            "136/136 [==============================] - 0s 947us/step - loss: 6513.8164 - root_mean_squared_error: 80.7082 - val_loss: 9362.5146 - val_root_mean_squared_error: 96.7601\n",
            "Epoch 22/30\n",
            "136/136 [==============================] - 0s 912us/step - loss: 6513.8330 - root_mean_squared_error: 80.7083 - val_loss: 9343.0869 - val_root_mean_squared_error: 96.6596\n",
            "Epoch 23/30\n",
            "136/136 [==============================] - 0s 930us/step - loss: 6513.8081 - root_mean_squared_error: 80.7082 - val_loss: 9310.7861 - val_root_mean_squared_error: 96.4924\n",
            "Epoch 24/30\n",
            "136/136 [==============================] - 0s 964us/step - loss: 6514.1548 - root_mean_squared_error: 80.7103 - val_loss: 9316.1914 - val_root_mean_squared_error: 96.5204\n",
            "Epoch 25/30\n",
            "136/136 [==============================] - 0s 1ms/step - loss: 6514.1689 - root_mean_squared_error: 80.7104 - val_loss: 9232.6240 - val_root_mean_squared_error: 96.0865\n",
            "Epoch 26/30\n",
            "136/136 [==============================] - 0s 1ms/step - loss: 6512.4243 - root_mean_squared_error: 80.6996 - val_loss: 9166.4473 - val_root_mean_squared_error: 95.7416\n",
            "Epoch 27/30\n",
            "136/136 [==============================] - 0s 894us/step - loss: 6513.3657 - root_mean_squared_error: 80.7054 - val_loss: 9409.5352 - val_root_mean_squared_error: 97.0028\n",
            "Epoch 28/30\n",
            "136/136 [==============================] - 0s 833us/step - loss: 6511.8066 - root_mean_squared_error: 80.6958 - val_loss: 9217.3838 - val_root_mean_squared_error: 96.0072\n",
            "Epoch 29/30\n",
            "136/136 [==============================] - 0s 860us/step - loss: 6514.3135 - root_mean_squared_error: 80.7113 - val_loss: 9347.1074 - val_root_mean_squared_error: 96.6804\n",
            "Epoch 30/30\n",
            "136/136 [==============================] - 0s 950us/step - loss: 6513.9287 - root_mean_squared_error: 80.7089 - val_loss: 9261.9580 - val_root_mean_squared_error: 96.2391\n",
            "90.96417999267578\n"
          ]
        },
        {
          "data": {
            "image/png": "[encoded data removed]",
            "text/plain": [
              "<Figure size 432x288 with 1 Axes>"
            ]
          },
          "metadata": {
            "needs_background": "light"
          },
          "output_type": "display_data"
        }
      ],
      "source": [
        "# The following variables are the hyperparameters.\n",
        "learning_rate = 0.08\n",
        "epochs = 30\n",
        "batch_size = 100\n",
        "\n",
        "# Split the original training set into a reduced training set and a\n",
        "# validation set. \n",
        "validation_split=0.2\n",
        "\n",
        "# Identify the feature and the label.\n",
        "my_feature=\"median_income\"  # the median income on a specific city block.\n",
        "my_label=\"median_house_value\" # the median value of a house on a specific city block.\n",
        "# That is, you're going to create a model that predicts house value based \n",
        "# solely on the neighborhood's median income.  \n",
        "\n",
        "# Discard any pre-existing version of the model.\n",
        "my_model = None\n",
        "\n",
        "# Invoke the functions to build and train the model.\n",
        "my_model = build_model(learning_rate)\n",
        "epochs, rmse, history = train_model(my_model, train_df, my_feature, \n",
        "                                    my_label, epochs, batch_size, \n",
        "                                    validation_split)\n",
        "\n",
        "plot_the_loss_curve(epochs, history[\"root_mean_squared_error\"], \n",
        "                    history[\"val_root_mean_squared_error\"])"
      ]
    },
    {
      "cell_type": "markdown",
      "metadata": {
        "colab_type": "text",
        "id": "TKa11JK4Pm3f"
      },
      "source": [
        "## Task 2: Determine **why** the loss curves differ\n",
        "\n",
        "No matter how you split the training set and the validation set, the loss curves differ significantly. Evidently, the data in the training set isn't similar enough to the data in the validation set. Counterintuitive? Yes, but this problem is actually pretty common in machine learning. \n",
        "\n",
        "Your task is to determine **why** the loss curves aren't highly similar. As with most issues in machine learning, the problem is rooted in the data itself. To solve this mystery of why the training set and validation set aren't almost identical, write a line or two of [pandas code](https://colab.research.google.com/drive/1gUeYFsYmoyqpQJWq7krrZZNUFvBPwrJf) in the following code cell.  Here are a couple of hints:\n",
        "\n",
        "  * The previous code cell split the original training set into:\n",
        "    * a reduced training set (the original training set - the validation set)\n",
        "    * the validation set \n",
        "  * By default, the pandas [`head`](https://pandas.pydata.org/pandas-docs/stable/reference/api/pandas.DataFrame.head.html) method outputs the *first* 5 rows of the DataFrame. To see more of the training set, specify the `n` argument to `head` and assign a large positive integer to `n`."
      ]
    },
    {
      "cell_type": "code",
      "execution_count": 13,
      "metadata": {
        "cellView": "form",
        "colab": {},
        "colab_type": "code",
        "id": "EnNvkFwwK8WY"
      },
      "outputs": [
        {
          "data": {
            "text/html": [
              "<div>\n",
              "<style scoped>\n",
              "    .dataframe tbody tr th:only-of-type {\n",
              "        vertical-align: middle;\n",
              "    }\n",
              "\n",
              "    .dataframe tbody tr th {\n",
              "        vertical-align: top;\n",
              "    }\n",
              "\n",
              "    .dataframe thead th {\n",
              "        text-align: right;\n",
              "    }\n",
              "</style>\n",
              "<table border=\"1\" class=\"dataframe\">\n",
              "  <thead>\n",
              "    <tr style=\"text-align: right;\">\n",
              "      <th></th>\n",
              "      <th>longitude</th>\n",
              "      <th>latitude</th>\n",
              "      <th>housing_median_age</th>\n",
              "      <th>total_rooms</th>\n",
              "      <th>total_bedrooms</th>\n",
              "      <th>population</th>\n",
              "      <th>households</th>\n",
              "      <th>median_income</th>\n",
              "      <th>median_house_value</th>\n",
              "    </tr>\n",
              "  </thead>\n",
              "  <tbody>\n",
              "    <tr>\n",
              "      <th>0</th>\n",
              "      <td>-114.3</td>\n",
              "      <td>34.2</td>\n",
              "      <td>15.0</td>\n",
              "      <td>5612.0</td>\n",
              "      <td>1283.0</td>\n",
              "      <td>1015.0</td>\n",
              "      <td>472.0</td>\n",
              "      <td>1.5</td>\n",
              "      <td>66.9</td>\n",
              "    </tr>\n",
              "    <tr>\n",
              "      <th>1</th>\n",
              "      <td>-114.5</td>\n",
              "      <td>34.4</td>\n",
              "      <td>19.0</td>\n",
              "      <td>7650.0</td>\n",
              "      <td>1901.0</td>\n",
              "      <td>1129.0</td>\n",
              "      <td>463.0</td>\n",
              "      <td>1.8</td>\n",
              "      <td>80.1</td>\n",
              "    </tr>\n",
              "    <tr>\n",
              "      <th>2</th>\n",
              "      <td>-114.6</td>\n",
              "      <td>33.7</td>\n",
              "      <td>17.0</td>\n",
              "      <td>720.0</td>\n",
              "      <td>174.0</td>\n",
              "      <td>333.0</td>\n",
              "      <td>117.0</td>\n",
              "      <td>1.7</td>\n",
              "      <td>85.7</td>\n",
              "    </tr>\n",
              "    <tr>\n",
              "      <th>3</th>\n",
              "      <td>-114.6</td>\n",
              "      <td>33.6</td>\n",
              "      <td>14.0</td>\n",
              "      <td>1501.0</td>\n",
              "      <td>337.0</td>\n",
              "      <td>515.0</td>\n",
              "      <td>226.0</td>\n",
              "      <td>3.2</td>\n",
              "      <td>73.4</td>\n",
              "    </tr>\n",
              "    <tr>\n",
              "      <th>4</th>\n",
              "      <td>-114.6</td>\n",
              "      <td>33.6</td>\n",
              "      <td>20.0</td>\n",
              "      <td>1454.0</td>\n",
              "      <td>326.0</td>\n",
              "      <td>624.0</td>\n",
              "      <td>262.0</td>\n",
              "      <td>1.9</td>\n",
              "      <td>65.5</td>\n",
              "    </tr>\n",
              "    <tr>\n",
              "      <th>5</th>\n",
              "      <td>-114.6</td>\n",
              "      <td>33.6</td>\n",
              "      <td>29.0</td>\n",
              "      <td>1387.0</td>\n",
              "      <td>236.0</td>\n",
              "      <td>671.0</td>\n",
              "      <td>239.0</td>\n",
              "      <td>3.3</td>\n",
              "      <td>74.0</td>\n",
              "    </tr>\n",
              "    <tr>\n",
              "      <th>6</th>\n",
              "      <td>-114.6</td>\n",
              "      <td>33.6</td>\n",
              "      <td>25.0</td>\n",
              "      <td>2907.0</td>\n",
              "      <td>680.0</td>\n",
              "      <td>1841.0</td>\n",
              "      <td>633.0</td>\n",
              "      <td>2.7</td>\n",
              "      <td>82.4</td>\n",
              "    </tr>\n",
              "    <tr>\n",
              "      <th>7</th>\n",
              "      <td>-114.6</td>\n",
              "      <td>34.8</td>\n",
              "      <td>41.0</td>\n",
              "      <td>812.0</td>\n",
              "      <td>168.0</td>\n",
              "      <td>375.0</td>\n",
              "      <td>158.0</td>\n",
              "      <td>1.7</td>\n",
              "      <td>48.5</td>\n",
              "    </tr>\n",
              "    <tr>\n",
              "      <th>8</th>\n",
              "      <td>-114.6</td>\n",
              "      <td>33.6</td>\n",
              "      <td>34.0</td>\n",
              "      <td>4789.0</td>\n",
              "      <td>1175.0</td>\n",
              "      <td>3134.0</td>\n",
              "      <td>1056.0</td>\n",
              "      <td>2.2</td>\n",
              "      <td>58.4</td>\n",
              "    </tr>\n",
              "    <tr>\n",
              "      <th>9</th>\n",
              "      <td>-114.6</td>\n",
              "      <td>34.8</td>\n",
              "      <td>46.0</td>\n",
              "      <td>1497.0</td>\n",
              "      <td>309.0</td>\n",
              "      <td>787.0</td>\n",
              "      <td>271.0</td>\n",
              "      <td>2.2</td>\n",
              "      <td>48.1</td>\n",
              "    </tr>\n",
              "  </tbody>\n",
              "</table>\n",
              "</div>"
            ],
            "text/plain": [
              "   longitude  latitude  housing_median_age  total_rooms  total_bedrooms  \\\n",
              "0     -114.3      34.2                15.0       5612.0          1283.0   \n",
              "1     -114.5      34.4                19.0       7650.0          1901.0   \n",
              "2     -114.6      33.7                17.0        720.0           174.0   \n",
              "3     -114.6      33.6                14.0       1501.0           337.0   \n",
              "4     -114.6      33.6                20.0       1454.0           326.0   \n",
              "5     -114.6      33.6                29.0       1387.0           236.0   \n",
              "6     -114.6      33.6                25.0       2907.0           680.0   \n",
              "7     -114.6      34.8                41.0        812.0           168.0   \n",
              "8     -114.6      33.6                34.0       4789.0          1175.0   \n",
              "9     -114.6      34.8                46.0       1497.0           309.0   \n",
              "\n",
              "   population  households  median_income  median_house_value  \n",
              "0      1015.0       472.0            1.5                66.9  \n",
              "1      1129.0       463.0            1.8                80.1  \n",
              "2       333.0       117.0            1.7                85.7  \n",
              "3       515.0       226.0            3.2                73.4  \n",
              "4       624.0       262.0            1.9                65.5  \n",
              "5       671.0       239.0            3.3                74.0  \n",
              "6      1841.0       633.0            2.7                82.4  \n",
              "7       375.0       158.0            1.7                48.5  \n",
              "8      3134.0      1056.0            2.2                58.4  \n",
              "9       787.0       271.0            2.2                48.1  "
            ]
          },
          "execution_count": 13,
          "metadata": {},
          "output_type": "execute_result"
        }
      ],
      "source": [
        "train_df.head(n=10)\n",
        "\n",
        "# The original training set is sorted by longitude. \n",
        "# Apparently, longitude influences the relationship of\n",
        "# total_rooms to median_house_value."
      ]
    },
    {
      "cell_type": "markdown",
      "metadata": {
        "colab_type": "text",
        "id": "rw4xI1ZEckI8"
      },
      "source": [
        "## Task 3. Fix the problem\n",
        "\n",
        "To fix the problem, shuffle the examples in the training set before splitting the examples into a training set and validation set. To do so, take the following steps:\n",
        "\n",
        "1. Shuffle the data in the training set by adding the following line anywhere before you call `train_model` (in the code cell associated with Task 1):\n",
        "\n",
        "```\n",
        "  shuffled_train_df = train_df.reindex(np.random.permutation(train_df.index))\n",
        "```                                    \n",
        "\n",
        "2. Pass `shuffled_train_df` (instead of `train_df`) as the second argument to `train_model` (in the code call associated with Task 1) so that the call becomes as follows:\n",
        "\n",
        "```\n",
        "  epochs, rmse, history = train_model(my_model, shuffled_train_df, my_feature, \n",
        "                                      my_label, epochs, batch_size, \n",
        "                                      validation_split)\n",
        "```"
      ]
    },
    {
      "cell_type": "code",
      "execution_count": 20,
      "metadata": {
        "cellView": "form",
        "colab": {},
        "colab_type": "code",
        "id": "ncODhpv0h-LG"
      },
      "outputs": [
        {
          "name": "stdout",
          "output_type": "stream",
          "text": [
            "Epoch 1/70\n",
            "136/136 [==============================] - 0s 2ms/step - loss: 42544.4180 - root_mean_squared_error: 206.2630 - val_loss: 32884.8164 - val_root_mean_squared_error: 181.3417\n",
            "Epoch 2/70\n",
            "136/136 [==============================] - 0s 1ms/step - loss: 24745.8848 - root_mean_squared_error: 157.3082 - val_loss: 18157.9922 - val_root_mean_squared_error: 134.7516\n",
            "Epoch 3/70\n",
            "136/136 [==============================] - 0s 991us/step - loss: 13305.1934 - root_mean_squared_error: 115.3481 - val_loss: 9702.3018 - val_root_mean_squared_error: 98.5003\n",
            "Epoch 4/70\n",
            "136/136 [==============================] - 0s 937us/step - loss: 7862.3555 - root_mean_squared_error: 88.6699 - val_loss: 7144.1289 - val_root_mean_squared_error: 84.5229\n",
            "Epoch 5/70\n",
            "136/136 [==============================] - 0s 948us/step - loss: 6991.6406 - root_mean_squared_error: 83.6160 - val_loss: 7120.9946 - val_root_mean_squared_error: 84.3860\n",
            "Epoch 6/70\n",
            "136/136 [==============================] - 0s 996us/step - loss: 6988.5493 - root_mean_squared_error: 83.5975 - val_loss: 7121.5889 - val_root_mean_squared_error: 84.3895\n",
            "Epoch 7/70\n",
            "136/136 [==============================] - 0s 879us/step - loss: 6987.5356 - root_mean_squared_error: 83.5915 - val_loss: 7120.9492 - val_root_mean_squared_error: 84.3857\n",
            "Epoch 8/70\n",
            "136/136 [==============================] - 0s 913us/step - loss: 6988.1831 - root_mean_squared_error: 83.5954 - val_loss: 7121.5322 - val_root_mean_squared_error: 84.3892\n",
            "Epoch 9/70\n",
            "136/136 [==============================] - 0s 893us/step - loss: 6986.2188 - root_mean_squared_error: 83.5836 - val_loss: 7123.3604 - val_root_mean_squared_error: 84.4000\n",
            "Epoch 10/70\n",
            "136/136 [==============================] - 0s 1ms/step - loss: 6987.3438 - root_mean_squared_error: 83.5903 - val_loss: 7121.4370 - val_root_mean_squared_error: 84.3886\n",
            "Epoch 11/70\n",
            "136/136 [==============================] - 0s 919us/step - loss: 6988.4155 - root_mean_squared_error: 83.5967 - val_loss: 7120.9248 - val_root_mean_squared_error: 84.3856\n",
            "Epoch 12/70\n",
            "136/136 [==============================] - 0s 875us/step - loss: 6987.2554 - root_mean_squared_error: 83.5898 - val_loss: 7121.8765 - val_root_mean_squared_error: 84.3912\n",
            "Epoch 13/70\n",
            "136/136 [==============================] - 0s 874us/step - loss: 6986.8408 - root_mean_squared_error: 83.5873 - val_loss: 7123.5635 - val_root_mean_squared_error: 84.4012\n",
            "Epoch 14/70\n",
            "136/136 [==============================] - 0s 955us/step - loss: 6987.7231 - root_mean_squared_error: 83.5926 - val_loss: 7125.5864 - val_root_mean_squared_error: 84.4132\n",
            "Epoch 15/70\n",
            "136/136 [==============================] - 0s 1ms/step - loss: 6987.8560 - root_mean_squared_error: 83.5934 - val_loss: 7121.9663 - val_root_mean_squared_error: 84.3917\n",
            "Epoch 16/70\n",
            "136/136 [==============================] - 0s 917us/step - loss: 6988.4365 - root_mean_squared_error: 83.5969 - val_loss: 7123.7124 - val_root_mean_squared_error: 84.4021\n",
            "Epoch 17/70\n",
            "136/136 [==============================] - 0s 941us/step - loss: 6987.4863 - root_mean_squared_error: 83.5912 - val_loss: 7121.8345 - val_root_mean_squared_error: 84.3910\n",
            "Epoch 18/70\n",
            "136/136 [==============================] - 0s 973us/step - loss: 6987.9780 - root_mean_squared_error: 83.5941 - val_loss: 7121.2144 - val_root_mean_squared_error: 84.3873\n",
            "Epoch 19/70\n",
            "136/136 [==============================] - 0s 857us/step - loss: 6988.2520 - root_mean_squared_error: 83.5958 - val_loss: 7123.4800 - val_root_mean_squared_error: 84.4007\n",
            "Epoch 20/70\n",
            "136/136 [==============================] - 0s 859us/step - loss: 6987.4263 - root_mean_squared_error: 83.5908 - val_loss: 7121.4214 - val_root_mean_squared_error: 84.3885\n",
            "Epoch 21/70\n",
            "136/136 [==============================] - 0s 879us/step - loss: 6988.2749 - root_mean_squared_error: 83.5959 - val_loss: 7122.5469 - val_root_mean_squared_error: 84.3952\n",
            "Epoch 22/70\n",
            "136/136 [==============================] - 0s 901us/step - loss: 6987.8086 - root_mean_squared_error: 83.5931 - val_loss: 7121.1094 - val_root_mean_squared_error: 84.3867\n",
            "Epoch 23/70\n",
            "136/136 [==============================] - 0s 860us/step - loss: 6987.5225 - root_mean_squared_error: 83.5914 - val_loss: 7124.1943 - val_root_mean_squared_error: 84.4049\n",
            "Epoch 24/70\n",
            "136/136 [==============================] - 0s 905us/step - loss: 6986.0322 - root_mean_squared_error: 83.5825 - val_loss: 7128.7163 - val_root_mean_squared_error: 84.4317\n",
            "Epoch 25/70\n",
            "136/136 [==============================] - 0s 881us/step - loss: 6987.6973 - root_mean_squared_error: 83.5924 - val_loss: 7121.1304 - val_root_mean_squared_error: 84.3868\n",
            "Epoch 26/70\n",
            "136/136 [==============================] - 0s 957us/step - loss: 6988.1665 - root_mean_squared_error: 83.5953 - val_loss: 7121.9702 - val_root_mean_squared_error: 84.3918\n",
            "Epoch 27/70\n",
            "136/136 [==============================] - 0s 1ms/step - loss: 6988.2383 - root_mean_squared_error: 83.5957 - val_loss: 7122.9907 - val_root_mean_squared_error: 84.3978\n",
            "Epoch 28/70\n",
            "136/136 [==============================] - 0s 1ms/step - loss: 6988.3037 - root_mean_squared_error: 83.5961 - val_loss: 7122.3237 - val_root_mean_squared_error: 84.3939\n",
            "Epoch 29/70\n",
            "136/136 [==============================] - 0s 746us/step - loss: 6988.0952 - root_mean_squared_error: 83.5948 - val_loss: 7123.4351 - val_root_mean_squared_error: 84.4004\n",
            "Epoch 30/70\n",
            "136/136 [==============================] - 0s 738us/step - loss: 6988.2202 - root_mean_squared_error: 83.5956 - val_loss: 7121.9258 - val_root_mean_squared_error: 84.3915\n",
            "Epoch 31/70\n",
            "136/136 [==============================] - 0s 1ms/step - loss: 6986.6782 - root_mean_squared_error: 83.5863 - val_loss: 7124.8047 - val_root_mean_squared_error: 84.4086\n",
            "Epoch 32/70\n",
            "136/136 [==============================] - 0s 882us/step - loss: 6986.3618 - root_mean_squared_error: 83.5845 - val_loss: 7125.6030 - val_root_mean_squared_error: 84.4133\n",
            "Epoch 33/70\n",
            "136/136 [==============================] - 0s 813us/step - loss: 6988.4805 - root_mean_squared_error: 83.5971 - val_loss: 7125.3413 - val_root_mean_squared_error: 84.4117\n",
            "Epoch 34/70\n",
            "136/136 [==============================] - 0s 1ms/step - loss: 6986.3682 - root_mean_squared_error: 83.5845 - val_loss: 7122.5693 - val_root_mean_squared_error: 84.3953\n",
            "Epoch 35/70\n",
            "136/136 [==============================] - 0s 750us/step - loss: 6987.0024 - root_mean_squared_error: 83.5883 - val_loss: 7121.1519 - val_root_mean_squared_error: 84.3869\n",
            "Epoch 36/70\n",
            "136/136 [==============================] - 0s 864us/step - loss: 6986.5835 - root_mean_squared_error: 83.5858 - val_loss: 7123.4487 - val_root_mean_squared_error: 84.4005\n",
            "Epoch 37/70\n",
            "136/136 [==============================] - 0s 735us/step - loss: 6987.5190 - root_mean_squared_error: 83.5914 - val_loss: 7123.2754 - val_root_mean_squared_error: 84.3995\n",
            "Epoch 38/70\n",
            "136/136 [==============================] - 0s 758us/step - loss: 6988.9834 - root_mean_squared_error: 83.6001 - val_loss: 7121.1006 - val_root_mean_squared_error: 84.3866\n",
            "Epoch 39/70\n",
            "136/136 [==============================] - 0s 765us/step - loss: 6988.1792 - root_mean_squared_error: 83.5953 - val_loss: 7120.9849 - val_root_mean_squared_error: 84.3859\n",
            "Epoch 40/70\n",
            "136/136 [==============================] - 0s 831us/step - loss: 6987.9092 - root_mean_squared_error: 83.5937 - val_loss: 7122.3682 - val_root_mean_squared_error: 84.3941\n",
            "Epoch 41/70\n",
            "136/136 [==============================] - 0s 834us/step - loss: 6988.5493 - root_mean_squared_error: 83.5975 - val_loss: 7121.0039 - val_root_mean_squared_error: 84.3860\n",
            "Epoch 42/70\n",
            "136/136 [==============================] - 0s 881us/step - loss: 6987.9307 - root_mean_squared_error: 83.5938 - val_loss: 7121.1099 - val_root_mean_squared_error: 84.3867\n",
            "Epoch 43/70\n",
            "136/136 [==============================] - 0s 885us/step - loss: 6988.2300 - root_mean_squared_error: 83.5956 - val_loss: 7121.2158 - val_root_mean_squared_error: 84.3873\n",
            "Epoch 44/70\n",
            "136/136 [==============================] - 0s 827us/step - loss: 6987.4902 - root_mean_squared_error: 83.5912 - val_loss: 7121.9980 - val_root_mean_squared_error: 84.3919\n",
            "Epoch 45/70\n",
            "136/136 [==============================] - 0s 730us/step - loss: 6987.0869 - root_mean_squared_error: 83.5888 - val_loss: 7122.7529 - val_root_mean_squared_error: 84.3964\n",
            "Epoch 46/70\n",
            "136/136 [==============================] - 0s 813us/step - loss: 6987.7329 - root_mean_squared_error: 83.5927 - val_loss: 7121.3560 - val_root_mean_squared_error: 84.3881\n",
            "Epoch 47/70\n",
            "136/136 [==============================] - 0s 831us/step - loss: 6988.3530 - root_mean_squared_error: 83.5964 - val_loss: 7122.0635 - val_root_mean_squared_error: 84.3923\n",
            "Epoch 48/70\n",
            "136/136 [==============================] - 0s 1ms/step - loss: 6986.1924 - root_mean_squared_error: 83.5834 - val_loss: 7126.0693 - val_root_mean_squared_error: 84.4160\n",
            "Epoch 49/70\n",
            "136/136 [==============================] - 0s 877us/step - loss: 6988.6426 - root_mean_squared_error: 83.5981 - val_loss: 7122.2388 - val_root_mean_squared_error: 84.3934\n",
            "Epoch 50/70\n",
            "136/136 [==============================] - 0s 807us/step - loss: 6986.5161 - root_mean_squared_error: 83.5854 - val_loss: 7121.9795 - val_root_mean_squared_error: 84.3918\n",
            "Epoch 51/70\n",
            "136/136 [==============================] - 0s 772us/step - loss: 6987.7480 - root_mean_squared_error: 83.5928 - val_loss: 7123.3188 - val_root_mean_squared_error: 84.3998\n",
            "Epoch 52/70\n",
            "136/136 [==============================] - 0s 751us/step - loss: 6988.1875 - root_mean_squared_error: 83.5954 - val_loss: 7121.1274 - val_root_mean_squared_error: 84.3868\n",
            "Epoch 53/70\n",
            "136/136 [==============================] - 0s 843us/step - loss: 6986.9551 - root_mean_squared_error: 83.5880 - val_loss: 7121.2769 - val_root_mean_squared_error: 84.3877\n",
            "Epoch 54/70\n",
            "136/136 [==============================] - 0s 786us/step - loss: 6988.2637 - root_mean_squared_error: 83.5958 - val_loss: 7122.1396 - val_root_mean_squared_error: 84.3928\n",
            "Epoch 55/70\n",
            "136/136 [==============================] - 0s 851us/step - loss: 6987.8257 - root_mean_squared_error: 83.5932 - val_loss: 7121.1782 - val_root_mean_squared_error: 84.3871\n",
            "Epoch 56/70\n",
            "136/136 [==============================] - 0s 787us/step - loss: 6986.4741 - root_mean_squared_error: 83.5851 - val_loss: 7123.3770 - val_root_mean_squared_error: 84.4001\n",
            "Epoch 57/70\n",
            "136/136 [==============================] - 0s 1ms/step - loss: 6984.8096 - root_mean_squared_error: 83.5752 - val_loss: 7122.0957 - val_root_mean_squared_error: 84.3925\n",
            "Epoch 58/70\n",
            "136/136 [==============================] - 0s 2ms/step - loss: 6988.0815 - root_mean_squared_error: 83.5947 - val_loss: 7121.0459 - val_root_mean_squared_error: 84.3863\n",
            "Epoch 59/70\n",
            "136/136 [==============================] - 0s 879us/step - loss: 6987.4033 - root_mean_squared_error: 83.5907 - val_loss: 7122.2637 - val_root_mean_squared_error: 84.3935\n",
            "Epoch 60/70\n",
            "136/136 [==============================] - 0s 715us/step - loss: 6986.3140 - root_mean_squared_error: 83.5842 - val_loss: 7128.0234 - val_root_mean_squared_error: 84.4276\n",
            "Epoch 61/70\n",
            "136/136 [==============================] - 0s 731us/step - loss: 6987.6387 - root_mean_squared_error: 83.5921 - val_loss: 7121.6465 - val_root_mean_squared_error: 84.3898\n",
            "Epoch 62/70\n",
            "136/136 [==============================] - 0s 722us/step - loss: 6985.8164 - root_mean_squared_error: 83.5812 - val_loss: 7125.1460 - val_root_mean_squared_error: 84.4106\n",
            "Epoch 63/70\n",
            "136/136 [==============================] - 0s 703us/step - loss: 6987.9854 - root_mean_squared_error: 83.5942 - val_loss: 7120.9805 - val_root_mean_squared_error: 84.3859\n",
            "Epoch 64/70\n",
            "136/136 [==============================] - 0s 718us/step - loss: 6988.0576 - root_mean_squared_error: 83.5946 - val_loss: 7124.6895 - val_root_mean_squared_error: 84.4079\n",
            "Epoch 65/70\n",
            "136/136 [==============================] - 0s 752us/step - loss: 6988.0469 - root_mean_squared_error: 83.5945 - val_loss: 7121.2979 - val_root_mean_squared_error: 84.3878\n",
            "Epoch 66/70\n",
            "136/136 [==============================] - 0s 712us/step - loss: 6987.8486 - root_mean_squared_error: 83.5934 - val_loss: 7121.3955 - val_root_mean_squared_error: 84.3884\n",
            "Epoch 67/70\n",
            "136/136 [==============================] - 0s 749us/step - loss: 6987.7202 - root_mean_squared_error: 83.5926 - val_loss: 7122.0952 - val_root_mean_squared_error: 84.3925\n",
            "Epoch 68/70\n",
            "136/136 [==============================] - 0s 834us/step - loss: 6988.0337 - root_mean_squared_error: 83.5945 - val_loss: 7121.1548 - val_root_mean_squared_error: 84.3869\n",
            "Epoch 69/70\n",
            "136/136 [==============================] - 0s 735us/step - loss: 6988.3535 - root_mean_squared_error: 83.5964 - val_loss: 7122.0684 - val_root_mean_squared_error: 84.3923\n",
            "Epoch 70/70\n",
            "136/136 [==============================] - 0s 734us/step - loss: 6987.7363 - root_mean_squared_error: 83.5927 - val_loss: 7121.2144 - val_root_mean_squared_error: 84.3873\n",
            "73.73307800292969\n"
          ]
        },
        {
          "data": {
            "image/png": "[encoded data removed]",
            "text/plain": [
              "<Figure size 432x288 with 1 Axes>"
            ]
          },
          "metadata": {
            "needs_background": "light"
          },
          "output_type": "display_data"
        }
      ],
      "source": [
        "# The following variables are the hyperparameters.\n",
        "learning_rate = 0.08\n",
        "epochs = 70\n",
        "batch_size = 100\n",
        "\n",
        "# Split the original training set into a reduced training set and a\n",
        "# validation set. \n",
        "validation_split=0.2\n",
        "\n",
        "# Identify the feature and the label.\n",
        "my_feature=\"median_income\"  # the median income on a specific city block.\n",
        "my_label=\"median_house_value\" # the median value of a house on a specific city block.\n",
        "# That is, you're going to create a model that predicts house value based \n",
        "# solely on the neighborhood's median income.  \n",
        "\n",
        "# Discard any pre-existing version of the model.\n",
        "my_model = None\n",
        "\n",
        "# Shuffle the examples.\n",
        "shuffled_train_df = train_df.reindex(np.random.permutation(train_df.index)) \n",
        "\n",
        "# Invoke the functions to build and train the model. Train on the shuffled\n",
        "# training set.\n",
        "my_model = build_model(learning_rate)\n",
        "epochs, rmse, history = train_model(my_model, shuffled_train_df, my_feature, \n",
        "                                    my_label, epochs, batch_size, \n",
        "                                    validation_split)\n",
        "\n",
        "plot_the_loss_curve(epochs, history[\"root_mean_squared_error\"], \n",
        "                    history[\"val_root_mean_squared_error\"])"
      ]
    },
    {
      "cell_type": "markdown",
      "metadata": {
        "colab_type": "text",
        "id": "tKN239_miW8C"
      },
      "source": [
        "Experiment with `validation_split` to answer the following questions:\n",
        "\n",
        "* With the training set shuffled, is the final loss for the training set closer to the final loss for the validation set?  \n",
        "* At what range of values of `validation_split` do the final loss values for the training set and validation set diverge meaningfully?  Why?"
      ]
    },
    {
      "cell_type": "code",
      "execution_count": null,
      "metadata": {
        "cellView": "form",
        "colab": {},
        "colab_type": "code",
        "id": "-UAJ3Q86iz31"
      },
      "outputs": [],
      "source": [
        "# Yes, after shuffling the original training set, \n",
        "# the final loss for the training set and the \n",
        "# validation set become much closer.\n",
        "\n",
        "# If validation_split < 0.15,\n",
        "# the final loss values for the training set and\n",
        "# validation set diverge meaningfully.  Apparently,\n",
        "# the validation set no longer contains enough examples. "
      ]
    },
    {
      "cell_type": "markdown",
      "metadata": {
        "colab_type": "text",
        "id": "1PP-O8TOZOeo"
      },
      "source": [
        "## Task 4: Use the Test Dataset to Evaluate Your Model's Performance\n",
        "\n",
        "The test set usually acts as the ultimate judge of a model's quality. The test set can serve as an impartial judge because its examples haven't been used in training the model. Run the following code cell to evaluate the model with the test set:"
      ]
    },
    {
      "cell_type": "code",
      "execution_count": 21,
      "metadata": {
        "colab": {},
        "colab_type": "code",
        "id": "nd_Sw2cygOip"
      },
      "outputs": [
        {
          "name": "stdout",
          "output_type": "stream",
          "text": [
            "30/30 [==============================] - 0s 749us/step - loss: 7011.7305 - root_mean_squared_error: 83.7361\n"
          ]
        }
      ],
      "source": [
        "x_test = test_df[my_feature]\n",
        "y_test = test_df[my_label]\n",
        "\n",
        "results = my_model.evaluate(x_test, y_test, batch_size=batch_size)"
      ]
    },
    {
      "cell_type": "markdown",
      "metadata": {
        "colab_type": "text",
        "id": "qoyQKvsjmV_A"
      },
      "source": [
        "Compare the root mean squared error of the model when evaluated on each of the three datasets:\n",
        "\n",
        "* training set: look for `root_mean_squared_error` in the final training epoch.\n",
        "* validation set: look for `val_root_mean_squared_error` in the final training epoch.\n",
        "* test set: run the preceding code cell and examine the `root_mean_squred_error`.\n",
        "\n",
        "Ideally, the root mean squared error of all three sets should be similar. Are they?"
      ]
    },
    {
      "cell_type": "code",
      "execution_count": 22,
      "metadata": {
        "cellView": "form",
        "colab": {},
        "colab_type": "code",
        "id": "FxXtp-aVdIgJ"
      },
      "outputs": [],
      "source": [
        "#@title Double-click for an answer\n",
        "\n",
        "# In our experiments, yes, the rmse values \n",
        "# were similar enough. "
      ]
    }
  ],
  "metadata": {
    "colab": {
      "collapsed_sections": [],
      "name": "Validation and Test Sets.ipynb",
      "private_outputs": true,
      "provenance": []
    },
    "kernelspec": {
      "display_name": "Python 3",
      "name": "python3"
    },
    "language_info": {
      "codemirror_mode": {
        "name": "ipython",
        "version": 3
      },
      "file_extension": ".py",
      "mimetype": "text/x-python",
      "name": "python",
      "nbconvert_exporter": "python",
      "pygments_lexer": "ipython3",
      "version": "3.8.10"
    }
  },
  "nbformat": 4,
  "nbformat_minor": 0
}
