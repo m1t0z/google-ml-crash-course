{
  "cells": [
    {
      "cell_type": "code",
      "execution_count": 1,
      "metadata": {
        "cellView": "form",
        "colab": {},
        "colab_type": "code",
        "id": "wDlWLbfkJtvu"
      },
      "outputs": [],
      "source": [
        "#@title Copyright 2020 Google LLC. Double-click for license information.\n",
        "# Licensed under the Apache License, Version 2.0 (the \"License\");\n",
        "# you may not use this file except in compliance with the License.\n",
        "# You may obtain a copy of the License at\n",
        "#\n",
        "# https://www.apache.org/licenses/LICENSE-2.0\n",
        "#\n",
        "# Unless required by applicable law or agreed to in writing, software\n",
        "# distributed under the License is distributed on an \"AS IS\" BASIS,\n",
        "# WITHOUT WARRANTIES OR CONDITIONS OF ANY KIND, either express or implied.\n",
        "# See the License for the specific language governing permissions and\n",
        "# limitations under the License."
      ]
    },
    {
      "cell_type": "markdown",
      "metadata": {
        "colab_type": "text",
        "id": "TL5y5fY9Jy_x"
      },
      "source": [
        "# Representation with a Feature Cross\n",
        "\n",
        "In this exercise, you'll experiment with different ways to represent features."
      ]
    },
    {
      "cell_type": "markdown",
      "metadata": {
        "colab_type": "text",
        "id": "RXWoPIezkzgI"
      },
      "source": [
        "## Learning Objectives:\n",
        "\n",
        "After doing this Colab, you'll know how to:\n",
        "\n",
        "  * Use [`tf.feature_column`](https://www.tensorflow.org/api_docs/python/tf/feature_column) methods to represent features in different ways.\n",
        "  * Represent features as [bins](https://developers.google.com/machine-learning/glossary/#bucketing). \n",
        "  * Cross bins to create a [feature cross](https://developers.google.com/machine-learning/glossary/#feature_cross). "
      ]
    },
    {
      "cell_type": "markdown",
      "metadata": {
        "colab_type": "text",
        "id": "lH_g3Hsfkzzb"
      },
      "source": [
        "## The Dataset\n",
        "  \n",
        "Like several of the previous Colabs, this exercise uses the [California Housing Dataset](https://developers.google.com/machine-learning/crash-course/california-housing-data-description)."
      ]
    },
    {
      "cell_type": "markdown",
      "metadata": {
        "colab_type": "text",
        "id": "xchnxAsaKKqO"
      },
      "source": [
        "## Use the right version of TensorFlow\n",
        "\n"
      ]
    },
    {
      "cell_type": "code",
      "execution_count": 2,
      "metadata": {
        "colab": {},
        "colab_type": "code",
        "id": "qBpGi_GD14-p"
      },
      "outputs": [
        {
          "name": "stderr",
          "output_type": "stream",
          "text": [
            "UsageError: Line magic function `%tensorflow_version` not found.\n"
          ]
        }
      ],
      "source": [
        "%tensorflow_version 2.x"
      ]
    },
    {
      "cell_type": "markdown",
      "metadata": {
        "colab_type": "text",
        "id": "5iuw6-JOGf7I"
      },
      "source": [
        "## Call the import statements\n",
        "\n",
        "The following code imports the necessary code to run the code in the rest of this Colaboratory."
      ]
    },
    {
      "cell_type": "code",
      "execution_count": 3,
      "metadata": {
        "cellView": "form",
        "colab": {},
        "colab_type": "code",
        "id": "9n9_cTveKmse"
      },
      "outputs": [
        {
          "name": "stdout",
          "output_type": "stream",
          "text": [
            "Imported the modules.\n"
          ]
        }
      ],
      "source": [
        "#@title Load the imports\n",
        "\n",
        "# from __future__ import absolute_import, division, print_function, unicode_literals\n",
        "\n",
        "import numpy as np\n",
        "import pandas as pd\n",
        "import tensorflow as tf\n",
        "from tensorflow import feature_column\n",
        "from tensorflow.keras import layers\n",
        "\n",
        "from matplotlib import pyplot as plt\n",
        "\n",
        "# The following lines adjust the granularity of reporting.\n",
        "pd.options.display.max_rows = 10\n",
        "pd.options.display.float_format = \"{:.1f}\".format\n",
        "\n",
        "tf.keras.backend.set_floatx('float32')\n",
        "\n",
        "print(\"Imported the modules.\")"
      ]
    },
    {
      "cell_type": "markdown",
      "metadata": {
        "colab_type": "text",
        "id": "X_TaJhU4KcuY"
      },
      "source": [
        "## Load, scale, and shuffle the examples\n",
        "\n",
        "The following code cell loads the separate .csv files and creates the following two pandas DataFrames:\n",
        "\n",
        "* `train_df`, which contains the training set\n",
        "* `test_df`, which contains the test set\n",
        "\n",
        "The code cell then scales the `median_house_value` to a more human-friendly range and then suffles the examples."
      ]
    },
    {
      "cell_type": "code",
      "execution_count": 4,
      "metadata": {
        "colab": {},
        "colab_type": "code",
        "id": "JZlvdpyYKx7V"
      },
      "outputs": [],
      "source": [
        "# Load the dataset\n",
        "train_df = pd.read_csv(\"https://download.mlcc.google.com/mledu-datasets/california_housing_train.csv\")\n",
        "test_df = pd.read_csv(\"https://download.mlcc.google.com/mledu-datasets/california_housing_test.csv\")\n",
        "\n",
        "# Scale the labels\n",
        "scale_factor = 1000.0\n",
        "# Scale the training set's label.\n",
        "train_df[\"median_house_value\"] /= scale_factor \n",
        "\n",
        "# Scale the test set's label\n",
        "test_df[\"median_house_value\"] /= scale_factor\n",
        "\n",
        "# Shuffle the examples\n",
        "train_df = train_df.reindex(np.random.permutation(train_df.index))"
      ]
    },
    {
      "cell_type": "markdown",
      "metadata": {
        "colab_type": "text",
        "id": "8kir8UTUXSV8"
      },
      "source": [
        "## Represent latitude and longitude as floating-point values\n",
        "\n",
        "Previous Colabs trained on only a single feature or a single synthetic feature. By contrast, this exercise trains on two features. Furthermore, this Colab introduces **feature columns**, which provide a sophisticated way to represent features.  \n",
        "\n",
        "You create feature columns as possible:\n",
        "\n",
        "  * Call a [`tf.feature_column`](https://www.tensorflow.org/api_docs/python/tf/feature_column) method to represent a single feature, single feature cross, or single synthetic feature in the desired way.  For example, to represent a certain feature as floating-point values, call [`tf.feature_column.numeric_column`](https://www.tensorflow.org/api_docs/python/tf/feature_column/numeric_column). To represent a certain feature as a series of buckets or bins, call [`tf.feature_column.bucketized_column`](https://www.tensorflow.org/api_docs/python/tf/feature_column/bucketized_column).\n",
        "  * Assemble the created representations into a Python list. \n",
        "\n",
        "A neighborhood's location is typically the most important feature in determining a house's value. The California Housing dataset provides two features, `latitude` and `longitude` that identify each neighborhood's location. \n",
        "\n",
        "The following code cell calls [`tf.feature_column.numeric_column`](https://www.tensorflow.org/api_docs/python/tf/feature_column/numeric_column) twice, first to represent `latitude` as floating-point value and a second time to represent `longitude` as floating-point values. \n",
        "\n",
        "This code cell specifies the features that you'll ultimately train the model on and how each of those features will be represented. The transformations (collected in `fp_feature_layer`) don't actually get applied until you pass a DataFrame to it, which will happen when we train the model. \n"
      ]
    },
    {
      "cell_type": "code",
      "execution_count": 5,
      "metadata": {
        "colab": {},
        "colab_type": "code",
        "id": "3tmmZIDw4JEC"
      },
      "outputs": [],
      "source": [
        "# Create an empty list that will eventually hold all feature columns.\n",
        "feature_columns = []\n",
        "\n",
        "# Create a numerical feature column to represent latitude.\n",
        "latitude = tf.feature_column.numeric_column(\"latitude\")\n",
        "feature_columns.append(latitude)\n",
        "\n",
        "# Create a numerical feature column to represent longitude.\n",
        "longitude = tf.feature_column.numeric_column(\"longitude\")\n",
        "feature_columns.append(longitude)\n",
        "\n",
        "# Convert the list of feature columns into a layer that will ultimately become\n",
        "# part of the model. Understanding layers is not important right now.\n",
        "fp_feature_layer = layers.DenseFeatures(feature_columns)"
      ]
    },
    {
      "cell_type": "markdown",
      "metadata": {
        "colab_type": "text",
        "id": "Q2x8sHKnAy3Q"
      },
      "source": [
        "When used, the layer processes the raw inputs, according to the transformations described by the feature columns, and packs the result into a numeric array.  (The model will train on this numeric array.) "
      ]
    },
    {
      "cell_type": "markdown",
      "metadata": {
        "colab_type": "text",
        "id": "3014ezH3C7jT"
      },
      "source": [
        "## Define functions that create and train a model, and a plotting function\n",
        "\n",
        "The following code defines three functions:\n",
        "\n",
        "  * `create_model`, which tells TensorFlow to build a linear regression model and to use the `feature_layer_as_fp` as the representation of the model's features.\n",
        "  * `train_model`, which will ultimately train the model from training set examples.\n",
        "  * `plot_the_loss_curve`, which generates a loss curve."
      ]
    },
    {
      "cell_type": "code",
      "execution_count": 6,
      "metadata": {
        "cellView": "form",
        "colab": {},
        "colab_type": "code",
        "id": "pedD5GhlDC-y"
      },
      "outputs": [
        {
          "name": "stdout",
          "output_type": "stream",
          "text": [
            "Defined the create_model, train_model, and plot_the_loss_curve functions.\n"
          ]
        }
      ],
      "source": [
        "#@title Define functions to create and train a model, and a plotting function\n",
        "def create_model(my_learning_rate, feature_layer):\n",
        "  \"\"\"Create and compile a simple linear regression model.\"\"\"\n",
        "  # Most simple tf.keras models are sequential.\n",
        "  model = tf.keras.models.Sequential()\n",
        "\n",
        "  # Add the layer containing the feature columns to the model.\n",
        "  model.add(feature_layer)\n",
        "\n",
        "  # Add one linear layer to the model to yield a simple linear regressor.\n",
        "  model.add(tf.keras.layers.Dense(units=1, input_shape=(1,)))\n",
        "\n",
        "  # Construct the layers into a model that TensorFlow can execute.\n",
        "  model.compile(optimizer=tf.keras.optimizers.RMSprop(lr=my_learning_rate),\n",
        "                loss=\"mean_squared_error\",\n",
        "                metrics=[tf.keras.metrics.RootMeanSquaredError()])\n",
        "\n",
        "  return model           \n",
        "\n",
        "\n",
        "def train_model(model, dataset, epochs, batch_size, label_name):\n",
        "  \"\"\"Feed a dataset into the model in order to train it.\"\"\"\n",
        "\n",
        "  features = {name:np.array(value) for name, value in dataset.items()}\n",
        "  label = np.array(features.pop(label_name))\n",
        "  history = model.fit(x=features, y=label, batch_size=batch_size,\n",
        "                      epochs=epochs, shuffle=True)\n",
        "\n",
        "  # The list of epochs is stored separately from the rest of history.\n",
        "  epochs = history.epoch\n",
        "  \n",
        "  # Isolate the mean absolute error for each epoch.\n",
        "  hist = pd.DataFrame(history.history)\n",
        "  rmse = hist[\"root_mean_squared_error\"]\n",
        "\n",
        "  return epochs, rmse   \n",
        "\n",
        "\n",
        "def plot_the_loss_curve(epochs, rmse):\n",
        "  \"\"\"Plot a curve of loss vs. epoch.\"\"\"\n",
        "\n",
        "  plt.figure()\n",
        "  plt.xlabel(\"Epoch\")\n",
        "  plt.ylabel(\"Root Mean Squared Error\")\n",
        "\n",
        "  plt.plot(epochs, rmse, label=\"Loss\")\n",
        "  plt.legend()\n",
        "  plt.ylim([rmse.min()*0.94, rmse.max()* 1.05])\n",
        "  plt.show()  \n",
        "\n",
        "print(\"Defined the create_model, train_model, and plot_the_loss_curve functions.\")"
      ]
    },
    {
      "cell_type": "markdown",
      "metadata": {
        "colab_type": "text",
        "id": "D-IXYVfvM4gD"
      },
      "source": [
        "## Train the model with floating-point representations\n",
        "\n",
        "The following code cell calls the functions you just created to train, plot, and evaluate a model."
      ]
    },
    {
      "cell_type": "code",
      "execution_count": 7,
      "metadata": {
        "cellView": "both",
        "colab": {},
        "colab_type": "code",
        "id": "nj3v5EKQFY8s"
      },
      "outputs": [
        {
          "name": "stdout",
          "output_type": "stream",
          "text": [
            "Epoch 1/30\n",
            "WARNING:tensorflow:Layers in a Sequential model should only have a single input tensor, but we receive a <class 'dict'> input: {'longitude': <tf.Tensor 'ExpandDims_3:0' shape=(100, 1) dtype=float32>, 'latitude': <tf.Tensor 'ExpandDims_2:0' shape=(100, 1) dtype=float32>, 'housing_median_age': <tf.Tensor 'ExpandDims_1:0' shape=(100, 1) dtype=float32>, 'total_rooms': <tf.Tensor 'ExpandDims_7:0' shape=(100, 1) dtype=float32>, 'total_bedrooms': <tf.Tensor 'ExpandDims_6:0' shape=(100, 1) dtype=float32>, 'population': <tf.Tensor 'ExpandDims_5:0' shape=(100, 1) dtype=float32>, 'households': <tf.Tensor 'ExpandDims:0' shape=(100, 1) dtype=float32>, 'median_income': <tf.Tensor 'ExpandDims_4:0' shape=(100, 1) dtype=float32>}\n",
            "Consider rewriting this model with the Functional API.\n"
          ]
        },
        {
          "name": "stderr",
          "output_type": "stream",
          "text": [
            "/home/sonya/.local/lib/python3.8/site-packages/keras/optimizer_v2/optimizer_v2.py:355: UserWarning: The `lr` argument is deprecated, use `learning_rate` instead.\n",
            "  warnings.warn(\n"
          ]
        },
        {
          "name": "stdout",
          "output_type": "stream",
          "text": [
            "WARNING:tensorflow:Layers in a Sequential model should only have a single input tensor, but we receive a <class 'dict'> input: {'longitude': <tf.Tensor 'ExpandDims_3:0' shape=(100, 1) dtype=float32>, 'latitude': <tf.Tensor 'ExpandDims_2:0' shape=(100, 1) dtype=float32>, 'housing_median_age': <tf.Tensor 'ExpandDims_1:0' shape=(100, 1) dtype=float32>, 'total_rooms': <tf.Tensor 'ExpandDims_7:0' shape=(100, 1) dtype=float32>, 'total_bedrooms': <tf.Tensor 'ExpandDims_6:0' shape=(100, 1) dtype=float32>, 'population': <tf.Tensor 'ExpandDims_5:0' shape=(100, 1) dtype=float32>, 'households': <tf.Tensor 'ExpandDims:0' shape=(100, 1) dtype=float32>, 'median_income': <tf.Tensor 'ExpandDims_4:0' shape=(100, 1) dtype=float32>}\n",
            "Consider rewriting this model with the Functional API.\n",
            "170/170 [==============================] - 0s 589us/step - loss: 16276.0713 - root_mean_squared_error: 127.5777\n",
            "Epoch 2/30\n",
            "170/170 [==============================] - 0s 559us/step - loss: 13672.4277 - root_mean_squared_error: 116.9292\n",
            "Epoch 3/30\n",
            "170/170 [==============================] - 0s 521us/step - loss: 13598.8750 - root_mean_squared_error: 116.6142\n",
            "Epoch 4/30\n",
            "170/170 [==============================] - 0s 518us/step - loss: 13555.3809 - root_mean_squared_error: 116.4276\n",
            "Epoch 5/30\n",
            "170/170 [==============================] - 0s 516us/step - loss: 13483.0215 - root_mean_squared_error: 116.1164\n",
            "Epoch 6/30\n",
            "170/170 [==============================] - 0s 565us/step - loss: 13453.6709 - root_mean_squared_error: 115.9900\n",
            "Epoch 7/30\n",
            "170/170 [==============================] - 0s 529us/step - loss: 13408.8232 - root_mean_squared_error: 115.7965\n",
            "Epoch 8/30\n",
            "170/170 [==============================] - 0s 532us/step - loss: 13364.7754 - root_mean_squared_error: 115.6061\n",
            "Epoch 9/30\n",
            "170/170 [==============================] - 0s 535us/step - loss: 13334.3379 - root_mean_squared_error: 115.4744\n",
            "Epoch 10/30\n",
            "170/170 [==============================] - 0s 524us/step - loss: 13273.2354 - root_mean_squared_error: 115.2095\n",
            "Epoch 11/30\n",
            "170/170 [==============================] - 0s 544us/step - loss: 13258.2324 - root_mean_squared_error: 115.1444\n",
            "Epoch 12/30\n",
            "170/170 [==============================] - 0s 520us/step - loss: 13214.0215 - root_mean_squared_error: 114.9523\n",
            "Epoch 13/30\n",
            "170/170 [==============================] - 0s 523us/step - loss: 13174.3682 - root_mean_squared_error: 114.7796\n",
            "Epoch 14/30\n",
            "170/170 [==============================] - 0s 531us/step - loss: 13131.9854 - root_mean_squared_error: 114.5949\n",
            "Epoch 15/30\n",
            "170/170 [==============================] - 0s 543us/step - loss: 13116.9199 - root_mean_squared_error: 114.5291\n",
            "Epoch 16/30\n",
            "170/170 [==============================] - 0s 535us/step - loss: 13081.2578 - root_mean_squared_error: 114.3733\n",
            "Epoch 17/30\n",
            "170/170 [==============================] - 0s 527us/step - loss: 13069.8965 - root_mean_squared_error: 114.3236\n",
            "Epoch 18/30\n",
            "170/170 [==============================] - 0s 540us/step - loss: 13054.8760 - root_mean_squared_error: 114.2579\n",
            "Epoch 19/30\n",
            "170/170 [==============================] - 0s 527us/step - loss: 13008.2686 - root_mean_squared_error: 114.0538\n",
            "Epoch 20/30\n",
            "170/170 [==============================] - 0s 575us/step - loss: 13006.1094 - root_mean_squared_error: 114.0443\n",
            "Epoch 21/30\n",
            "170/170 [==============================] - 0s 515us/step - loss: 12984.4805 - root_mean_squared_error: 113.9495\n",
            "Epoch 22/30\n",
            "170/170 [==============================] - 0s 529us/step - loss: 12969.0283 - root_mean_squared_error: 113.8816\n",
            "Epoch 23/30\n",
            "170/170 [==============================] - 0s 555us/step - loss: 12962.2227 - root_mean_squared_error: 113.8518\n",
            "Epoch 24/30\n",
            "170/170 [==============================] - 0s 1ms/step - loss: 12942.1445 - root_mean_squared_error: 113.7635\n",
            "Epoch 25/30\n",
            "170/170 [==============================] - 0s 1ms/step - loss: 12932.8486 - root_mean_squared_error: 113.7227\n",
            "Epoch 26/30\n",
            "170/170 [==============================] - 0s 1ms/step - loss: 12907.7871 - root_mean_squared_error: 113.6124\n",
            "Epoch 27/30\n",
            "170/170 [==============================] - 0s 1ms/step - loss: 12899.5947 - root_mean_squared_error: 113.5764\n",
            "Epoch 28/30\n",
            "170/170 [==============================] - 0s 1ms/step - loss: 12885.6270 - root_mean_squared_error: 113.5149\n",
            "Epoch 29/30\n",
            "170/170 [==============================] - 0s 617us/step - loss: 12869.9785 - root_mean_squared_error: 113.4459\n",
            "Epoch 30/30\n",
            "170/170 [==============================] - 0s 683us/step - loss: 12865.8525 - root_mean_squared_error: 113.4277\n"
          ]
        },
        {
          "data": {
            "image/png": "[encoded data removed]",
            "text/plain": [
              "<Figure size 432x288 with 1 Axes>"
            ]
          },
          "metadata": {
            "needs_background": "light"
          },
          "output_type": "display_data"
        },
        {
          "name": "stdout",
          "output_type": "stream",
          "text": [
            "\n",
            ": Evaluate the new model against the test set:\n",
            "WARNING:tensorflow:Layers in a Sequential model should only have a single input tensor, but we receive a <class 'dict'> input: {'longitude': <tf.Tensor 'ExpandDims_3:0' shape=(100, 1) dtype=float32>, 'latitude': <tf.Tensor 'ExpandDims_2:0' shape=(100, 1) dtype=float32>, 'housing_median_age': <tf.Tensor 'ExpandDims_1:0' shape=(100, 1) dtype=float32>, 'total_rooms': <tf.Tensor 'ExpandDims_7:0' shape=(100, 1) dtype=float32>, 'total_bedrooms': <tf.Tensor 'ExpandDims_6:0' shape=(100, 1) dtype=float32>, 'population': <tf.Tensor 'ExpandDims_5:0' shape=(100, 1) dtype=float32>, 'households': <tf.Tensor 'ExpandDims:0' shape=(100, 1) dtype=float32>, 'median_income': <tf.Tensor 'ExpandDims_4:0' shape=(100, 1) dtype=float32>}\n",
            "Consider rewriting this model with the Functional API.\n",
            "30/30 [==============================] - 0s 884us/step - loss: 12313.3574 - root_mean_squared_error: 110.9656\n"
          ]
        },
        {
          "data": {
            "text/plain": [
              "[12313.357421875, 110.965576171875]"
            ]
          },
          "execution_count": 7,
          "metadata": {},
          "output_type": "execute_result"
        }
      ],
      "source": [
        "# The following variables are the hyperparameters.\n",
        "learning_rate = 0.05\n",
        "epochs = 30\n",
        "batch_size = 100\n",
        "label_name = 'median_house_value'\n",
        "\n",
        "# Create and compile the model's topography.\n",
        "my_model = create_model(learning_rate, fp_feature_layer)\n",
        "\n",
        "# Train the model on the training set.\n",
        "epochs, rmse = train_model(my_model, train_df, epochs, batch_size, label_name)\n",
        "\n",
        "plot_the_loss_curve(epochs, rmse)\n",
        "\n",
        "print(\"\\n: Evaluate the new model against the test set:\")\n",
        "test_features = {name:np.array(value) for name, value in test_df.items()}\n",
        "test_label = np.array(test_features.pop(label_name))\n",
        "my_model.evaluate(x=test_features, y=test_label, batch_size=batch_size)"
      ]
    },
    {
      "cell_type": "markdown",
      "metadata": {
        "colab_type": "text",
        "id": "dbyWNS6T2fIT"
      },
      "source": [
        "## Task 1: Why aren't floating-point values a good way to represent latitude and longitude?\n",
        "\n",
        "Are floating-point values a good way to represent `latitude` and `longitude`? "
      ]
    },
    {
      "cell_type": "code",
      "execution_count": 8,
      "metadata": {
        "cellView": "form",
        "colab": {},
        "colab_type": "code",
        "id": "VJLDCu5M2hXX"
      },
      "outputs": [],
      "source": [
        "#@title Double-click to view an answer to Task 1.\n",
        "\n",
        "# No. Representing latitude and longitude as \n",
        "# floating-point values does not have much \n",
        "# predictive power. For example, neighborhoods at \n",
        "# latitude 35 are not 36/35 more valuable \n",
        "# (or 35/36 less valuable) than houses at \n",
        "# latitude 36.\n",
        "\n",
        "# Representing `latitude` and `longitude` as \n",
        "# floating-point values provides almost no \n",
        "# predictive power. We're only using the raw values \n",
        "# to establish a baseline for future experiments \n",
        "# with better representations."
      ]
    },
    {
      "cell_type": "markdown",
      "metadata": {
        "colab_type": "text",
        "id": "Na8TPoPYx-0k"
      },
      "source": [
        "## Represent latitude and longitude in buckets\n",
        "\n",
        "The following code cell represents latitude and longitude in buckets (bins). Each bin represents all the neighborhoods within a single degree. For example,\n",
        "neighborhoods at latitude 35.4 and 35.8 are in the same bucket, but neighborhoods in latitude 35.4 and 36.2 are in different buckets. \n",
        "\n",
        "The model will learn a separate weight for each bucket. For example, the model will learn one weight for all the neighborhoods in the \"35\" bin\", a different weight for neighborhoods in the \"36\" bin, and so on. This representation will create approximately 20 buckets:\n",
        " \n",
        "  * 10 buckets for `latitude`. \n",
        "  * 10 buckets for `longitude`. "
      ]
    },
    {
      "cell_type": "code",
      "execution_count": 9,
      "metadata": {
        "colab": {},
        "colab_type": "code",
        "id": "WLTUFiaUyIpx"
      },
      "outputs": [],
      "source": [
        "resolution_in_degrees = 1.0 \n",
        "\n",
        "# Create a new empty list that will eventually hold the generated feature column.\n",
        "feature_columns = []\n",
        "\n",
        "# Create a bucket feature column for latitude.\n",
        "latitude_as_a_numeric_column = tf.feature_column.numeric_column(\"latitude\")\n",
        "latitude_boundaries = list(np.arange(int(min(train_df['latitude'])), \n",
        "                                     int(max(train_df['latitude'])), \n",
        "                                     resolution_in_degrees))\n",
        "latitude = tf.feature_column.bucketized_column(latitude_as_a_numeric_column, \n",
        "                                               latitude_boundaries)\n",
        "feature_columns.append(latitude)\n",
        "\n",
        "# Create a bucket feature column for longitude.\n",
        "longitude_as_a_numeric_column = tf.feature_column.numeric_column(\"longitude\")\n",
        "longitude_boundaries = list(np.arange(int(min(train_df['longitude'])), \n",
        "                                      int(max(train_df['longitude'])), \n",
        "                                      resolution_in_degrees))\n",
        "longitude = tf.feature_column.bucketized_column(longitude_as_a_numeric_column, \n",
        "                                                longitude_boundaries)\n",
        "feature_columns.append(longitude)\n",
        "\n",
        "# Convert the list of feature columns into a layer that will ultimately become\n",
        "# part of the model. Understanding layers is not important right now.\n",
        "buckets_feature_layer = layers.DenseFeatures(feature_columns)"
      ]
    },
    {
      "cell_type": "markdown",
      "metadata": {
        "colab_type": "text",
        "id": "aZsFzoPQ4pFm"
      },
      "source": [
        "## Train the model with bucket representations\n",
        "\n",
        "Run the following code cell to train the model with bucket representations rather than floating-point representations:"
      ]
    },
    {
      "cell_type": "code",
      "execution_count": 10,
      "metadata": {
        "colab": {},
        "colab_type": "code",
        "id": "UnDrghxBzLvD"
      },
      "outputs": [
        {
          "name": "stdout",
          "output_type": "stream",
          "text": [
            "Epoch 1/35\n",
            "WARNING:tensorflow:Layers in a Sequential model should only have a single input tensor, but we receive a <class 'dict'> input: {'longitude': <tf.Tensor 'ExpandDims_3:0' shape=(100, 1) dtype=float32>, 'latitude': <tf.Tensor 'ExpandDims_2:0' shape=(100, 1) dtype=float32>, 'housing_median_age': <tf.Tensor 'ExpandDims_1:0' shape=(100, 1) dtype=float32>, 'total_rooms': <tf.Tensor 'ExpandDims_7:0' shape=(100, 1) dtype=float32>, 'total_bedrooms': <tf.Tensor 'ExpandDims_6:0' shape=(100, 1) dtype=float32>, 'population': <tf.Tensor 'ExpandDims_5:0' shape=(100, 1) dtype=float32>, 'households': <tf.Tensor 'ExpandDims:0' shape=(100, 1) dtype=float32>, 'median_income': <tf.Tensor 'ExpandDims_4:0' shape=(100, 1) dtype=float32>}\n",
            "Consider rewriting this model with the Functional API.\n",
            "WARNING:tensorflow:Layers in a Sequential model should only have a single input tensor, but we receive a <class 'dict'> input: {'longitude': <tf.Tensor 'ExpandDims_3:0' shape=(100, 1) dtype=float32>, 'latitude': <tf.Tensor 'ExpandDims_2:0' shape=(100, 1) dtype=float32>, 'housing_median_age': <tf.Tensor 'ExpandDims_1:0' shape=(100, 1) dtype=float32>, 'total_rooms': <tf.Tensor 'ExpandDims_7:0' shape=(100, 1) dtype=float32>, 'total_bedrooms': <tf.Tensor 'ExpandDims_6:0' shape=(100, 1) dtype=float32>, 'population': <tf.Tensor 'ExpandDims_5:0' shape=(100, 1) dtype=float32>, 'households': <tf.Tensor 'ExpandDims:0' shape=(100, 1) dtype=float32>, 'median_income': <tf.Tensor 'ExpandDims_4:0' shape=(100, 1) dtype=float32>}\n",
            "Consider rewriting this model with the Functional API.\n"
          ]
        },
        {
          "name": "stderr",
          "output_type": "stream",
          "text": [
            "/home/sonya/.local/lib/python3.8/site-packages/keras/optimizer_v2/optimizer_v2.py:355: UserWarning: The `lr` argument is deprecated, use `learning_rate` instead.\n",
            "  warnings.warn(\n"
          ]
        },
        {
          "name": "stdout",
          "output_type": "stream",
          "text": [
            "170/170 [==============================] - 0s 799us/step - loss: 52129.4219 - root_mean_squared_error: 228.3187\n",
            "Epoch 2/35\n",
            "170/170 [==============================] - 0s 580us/step - loss: 44727.9023 - root_mean_squared_error: 211.4897\n",
            "Epoch 3/35\n",
            "170/170 [==============================] - 0s 911us/step - loss: 38126.7109 - root_mean_squared_error: 195.2606\n",
            "Epoch 4/35\n",
            "170/170 [==============================] - 0s 705us/step - loss: 32311.4199 - root_mean_squared_error: 179.7538\n",
            "Epoch 5/35\n",
            "170/170 [==============================] - 0s 558us/step - loss: 27281.4629 - root_mean_squared_error: 165.1710\n",
            "Epoch 6/35\n",
            "170/170 [==============================] - 0s 563us/step - loss: 23028.7148 - root_mean_squared_error: 151.7522\n",
            "Epoch 7/35\n",
            "170/170 [==============================] - 0s 552us/step - loss: 19519.0195 - root_mean_squared_error: 139.7105\n",
            "Epoch 8/35\n",
            "170/170 [==============================] - 0s 986us/step - loss: 16717.7520 - root_mean_squared_error: 129.2971\n",
            "Epoch 9/35\n",
            "170/170 [==============================] - 0s 618us/step - loss: 14579.4355 - root_mean_squared_error: 120.7453\n",
            "Epoch 10/35\n",
            "170/170 [==============================] - 0s 952us/step - loss: 13007.9756 - root_mean_squared_error: 114.0525\n",
            "Epoch 11/35\n",
            "170/170 [==============================] - 0s 745us/step - loss: 11971.9824 - root_mean_squared_error: 109.4166\n",
            "Epoch 12/35\n",
            "170/170 [==============================] - 0s 701us/step - loss: 11343.6514 - root_mean_squared_error: 106.5066\n",
            "Epoch 13/35\n",
            "170/170 [==============================] - 0s 576us/step - loss: 11004.9600 - root_mean_squared_error: 104.9045\n",
            "Epoch 14/35\n",
            "170/170 [==============================] - 0s 913us/step - loss: 10806.6738 - root_mean_squared_error: 103.9551\n",
            "Epoch 15/35\n",
            "170/170 [==============================] - 0s 674us/step - loss: 10685.8750 - root_mean_squared_error: 103.3725\n",
            "Epoch 16/35\n",
            "170/170 [==============================] - 0s 1ms/step - loss: 10609.9824 - root_mean_squared_error: 103.0048\n",
            "Epoch 17/35\n",
            "170/170 [==============================] - 0s 967us/step - loss: 10557.1973 - root_mean_squared_error: 102.7482\n",
            "Epoch 18/35\n",
            "170/170 [==============================] - 0s 1ms/step - loss: 10522.4541 - root_mean_squared_error: 102.5790\n",
            "Epoch 19/35\n",
            "170/170 [==============================] - 0s 1ms/step - loss: 10498.3730 - root_mean_squared_error: 102.4616\n",
            "Epoch 20/35\n",
            "170/170 [==============================] - 0s 1ms/step - loss: 10479.9365 - root_mean_squared_error: 102.3716\n",
            "Epoch 21/35\n",
            "170/170 [==============================] - 0s 1ms/step - loss: 10464.8984 - root_mean_squared_error: 102.2981\n",
            "Epoch 22/35\n",
            "170/170 [==============================] - 0s 714us/step - loss: 10452.2451 - root_mean_squared_error: 102.2362\n",
            "Epoch 23/35\n",
            "170/170 [==============================] - 0s 1ms/step - loss: 10440.7344 - root_mean_squared_error: 102.1799\n",
            "Epoch 24/35\n",
            "170/170 [==============================] - 0s 658us/step - loss: 10430.1514 - root_mean_squared_error: 102.1281\n",
            "Epoch 25/35\n",
            "170/170 [==============================] - 0s 1ms/step - loss: 10420.2031 - root_mean_squared_error: 102.0794\n",
            "Epoch 26/35\n",
            "170/170 [==============================] - 0s 692us/step - loss: 10410.8887 - root_mean_squared_error: 102.0338\n",
            "Epoch 27/35\n",
            "170/170 [==============================] - 0s 970us/step - loss: 10401.7188 - root_mean_squared_error: 101.9888\n",
            "Epoch 28/35\n",
            "170/170 [==============================] - 0s 615us/step - loss: 10393.1924 - root_mean_squared_error: 101.9470\n",
            "Epoch 29/35\n",
            "170/170 [==============================] - 0s 549us/step - loss: 10384.7627 - root_mean_squared_error: 101.9057\n",
            "Epoch 30/35\n",
            "170/170 [==============================] - 0s 563us/step - loss: 10377.5254 - root_mean_squared_error: 101.8701\n",
            "Epoch 31/35\n",
            "170/170 [==============================] - 0s 1ms/step - loss: 10369.6123 - root_mean_squared_error: 101.8313\n",
            "Epoch 32/35\n",
            "170/170 [==============================] - 0s 709us/step - loss: 10362.6709 - root_mean_squared_error: 101.7972\n",
            "Epoch 33/35\n",
            "170/170 [==============================] - 0s 1ms/step - loss: 10355.9736 - root_mean_squared_error: 101.7643\n",
            "Epoch 34/35\n",
            "170/170 [==============================] - 0s 842us/step - loss: 10349.3535 - root_mean_squared_error: 101.7318\n",
            "Epoch 35/35\n",
            "170/170 [==============================] - 0s 558us/step - loss: 10342.5410 - root_mean_squared_error: 101.6983\n"
          ]
        },
        {
          "data": {
            "image/png": "[encoded data removed]",
            "text/plain": [
              "<Figure size 432x288 with 1 Axes>"
            ]
          },
          "metadata": {
            "needs_background": "light"
          },
          "output_type": "display_data"
        },
        {
          "name": "stdout",
          "output_type": "stream",
          "text": [
            "\n",
            ": Evaluate the new model against the test set:\n",
            "WARNING:tensorflow:Layers in a Sequential model should only have a single input tensor, but we receive a <class 'dict'> input: {'longitude': <tf.Tensor 'ExpandDims_3:0' shape=(100, 1) dtype=float32>, 'latitude': <tf.Tensor 'ExpandDims_2:0' shape=(100, 1) dtype=float32>, 'housing_median_age': <tf.Tensor 'ExpandDims_1:0' shape=(100, 1) dtype=float32>, 'total_rooms': <tf.Tensor 'ExpandDims_7:0' shape=(100, 1) dtype=float32>, 'total_bedrooms': <tf.Tensor 'ExpandDims_6:0' shape=(100, 1) dtype=float32>, 'population': <tf.Tensor 'ExpandDims_5:0' shape=(100, 1) dtype=float32>, 'households': <tf.Tensor 'ExpandDims:0' shape=(100, 1) dtype=float32>, 'median_income': <tf.Tensor 'ExpandDims_4:0' shape=(100, 1) dtype=float32>}\n",
            "Consider rewriting this model with the Functional API.\n",
            "30/30 [==============================] - 0s 642us/step - loss: 10200.4414 - root_mean_squared_error: 100.9972\n"
          ]
        },
        {
          "data": {
            "text/plain": [
              "[10200.44140625, 100.99723815917969]"
            ]
          },
          "execution_count": 10,
          "metadata": {},
          "output_type": "execute_result"
        }
      ],
      "source": [
        "# The following variables are the hyperparameters.\n",
        "learning_rate = 0.04\n",
        "epochs = 35\n",
        "\n",
        "# Build the model, this time passing in the buckets_feature_layer.\n",
        "my_model = create_model(learning_rate, buckets_feature_layer)\n",
        "\n",
        "# Train the model on the training set.\n",
        "epochs, rmse = train_model(my_model, train_df, epochs, batch_size, label_name)\n",
        "\n",
        "plot_the_loss_curve(epochs, rmse)\n",
        "\n",
        "print(\"\\n: Evaluate the new model against the test set:\")\n",
        "my_model.evaluate(x=test_features, y=test_label, batch_size=batch_size)"
      ]
    },
    {
      "cell_type": "markdown",
      "metadata": {
        "colab_type": "text",
        "id": "Wb-bIKsN5M48"
      },
      "source": [
        "## Task 2: Did buckets outperform floating-point representations?\n",
        "\n",
        "Compare the model's `root_mean_squared_error` values for the two representations (floating-point vs. buckets)?  Which model produced lower losses? "
      ]
    },
    {
      "cell_type": "code",
      "execution_count": 11,
      "metadata": {
        "cellView": "form",
        "colab": {},
        "colab_type": "code",
        "id": "6sUlX1335UCb"
      },
      "outputs": [],
      "source": [
        "#@title Double-click for an answer to Task 2.\n",
        "\n",
        "# Bucket representation outperformed \n",
        "# floating-point representations.  \n",
        "# However, you can still do far better."
      ]
    },
    {
      "cell_type": "markdown",
      "metadata": {
        "colab_type": "text",
        "id": "ab6-bhUvxbTL"
      },
      "source": [
        "## Task 3: What is a better way to represent location?\n",
        "\n",
        "Buckets are a big improvement over floating-point values. Can you identify an even better way to identify location with `latitude` and `longitude`?"
      ]
    },
    {
      "cell_type": "code",
      "execution_count": 12,
      "metadata": {
        "cellView": "form",
        "colab": {},
        "colab_type": "code",
        "id": "5no5X0OFCwf7"
      },
      "outputs": [],
      "source": [
        "#@title Double-click to view an answer to Task 3.\n",
        "\n",
        "# Representing location as a feature cross should \n",
        "# produce better results.\n",
        "\n",
        "# In Task 2, you represented latitude in \n",
        "# one-dimensional buckets and longitude in \n",
        "# another series of one-dimensional buckets. \n",
        "# Real-world locations, however, exist in \n",
        "# two dimension. Therefore, you should\n",
        "# represent location as a two-dimensional feature\n",
        "# cross. That is, you'll cross the 10 or so latitude \n",
        "# buckets with the 10 or so longitude buckets to \n",
        "# create a grid of 100 cells. \n",
        "\n",
        "# The model will learn separate weights for each \n",
        "# of the cells."
      ]
    },
    {
      "cell_type": "markdown",
      "metadata": {
        "colab_type": "text",
        "id": "T1ulCDiyGB6g"
      },
      "source": [
        "## Represent location as a feature cross\n",
        "\n",
        "The following code cell represents location as a feature cross. That is, the following code cell first creates buckets and then calls `tf.feature_column.crossed_column` to cross the buckets.\n",
        "\n"
      ]
    },
    {
      "cell_type": "code",
      "execution_count": 13,
      "metadata": {
        "cellView": "both",
        "colab": {},
        "colab_type": "code",
        "id": "HunsuEzqn21s"
      },
      "outputs": [],
      "source": [
        "resolution_in_degrees = 1.0 \n",
        "\n",
        "# Create a new empty list that will eventually hold the generated feature column.\n",
        "feature_columns = []\n",
        "\n",
        "# Create a bucket feature column for latitude.\n",
        "latitude_as_a_numeric_column = tf.feature_column.numeric_column(\"latitude\")\n",
        "latitude_boundaries = list(np.arange(int(min(train_df['latitude'])), int(max(train_df['latitude'])), resolution_in_degrees))\n",
        "latitude = tf.feature_column.bucketized_column(latitude_as_a_numeric_column, latitude_boundaries)\n",
        "\n",
        "# Create a bucket feature column for longitude.\n",
        "longitude_as_a_numeric_column = tf.feature_column.numeric_column(\"longitude\")\n",
        "longitude_boundaries = list(np.arange(int(min(train_df['longitude'])), int(max(train_df['longitude'])), resolution_in_degrees))\n",
        "longitude = tf.feature_column.bucketized_column(longitude_as_a_numeric_column, longitude_boundaries)\n",
        "\n",
        "# Create a feature cross of latitude and longitude.\n",
        "latitude_x_longitude = tf.feature_column.crossed_column([latitude, longitude], hash_bucket_size=100)\n",
        "crossed_feature = tf.feature_column.indicator_column(latitude_x_longitude)\n",
        "feature_columns.append(crossed_feature)\n",
        "\n",
        "# Convert the list of feature columns into a layer that will later be fed into\n",
        "# the model. \n",
        "feature_cross_feature_layer = layers.DenseFeatures(feature_columns)"
      ]
    },
    {
      "cell_type": "markdown",
      "metadata": {
        "colab_type": "text",
        "id": "akRgNnnH3VXJ"
      },
      "source": [
        "Invoke the following code cell to test your solution for Task 2. Please ignore the warning messages."
      ]
    },
    {
      "cell_type": "code",
      "execution_count": 14,
      "metadata": {
        "colab": {},
        "colab_type": "code",
        "id": "qn2PRDBEr5ni"
      },
      "outputs": [
        {
          "name": "stdout",
          "output_type": "stream",
          "text": [
            "Epoch 1/35\n",
            "WARNING:tensorflow:Layers in a Sequential model should only have a single input tensor, but we receive a <class 'dict'> input: {'longitude': <tf.Tensor 'ExpandDims_3:0' shape=(100, 1) dtype=float32>, 'latitude': <tf.Tensor 'ExpandDims_2:0' shape=(100, 1) dtype=float32>, 'housing_median_age': <tf.Tensor 'ExpandDims_1:0' shape=(100, 1) dtype=float32>, 'total_rooms': <tf.Tensor 'ExpandDims_7:0' shape=(100, 1) dtype=float32>, 'total_bedrooms': <tf.Tensor 'ExpandDims_6:0' shape=(100, 1) dtype=float32>, 'population': <tf.Tensor 'ExpandDims_5:0' shape=(100, 1) dtype=float32>, 'households': <tf.Tensor 'ExpandDims:0' shape=(100, 1) dtype=float32>, 'median_income': <tf.Tensor 'ExpandDims_4:0' shape=(100, 1) dtype=float32>}\n",
            "Consider rewriting this model with the Functional API.\n",
            "WARNING:tensorflow:Layers in a Sequential model should only have a single input tensor, but we receive a <class 'dict'> input: {'longitude': <tf.Tensor 'ExpandDims_3:0' shape=(100, 1) dtype=float32>, 'latitude': <tf.Tensor 'ExpandDims_2:0' shape=(100, 1) dtype=float32>, 'housing_median_age': <tf.Tensor 'ExpandDims_1:0' shape=(100, 1) dtype=float32>, 'total_rooms': <tf.Tensor 'ExpandDims_7:0' shape=(100, 1) dtype=float32>, 'total_bedrooms': <tf.Tensor 'ExpandDims_6:0' shape=(100, 1) dtype=float32>, 'population': <tf.Tensor 'ExpandDims_5:0' shape=(100, 1) dtype=float32>, 'households': <tf.Tensor 'ExpandDims:0' shape=(100, 1) dtype=float32>, 'median_income': <tf.Tensor 'ExpandDims_4:0' shape=(100, 1) dtype=float32>}\n",
            "Consider rewriting this model with the Functional API.\n"
          ]
        },
        {
          "name": "stderr",
          "output_type": "stream",
          "text": [
            "/home/sonya/.local/lib/python3.8/site-packages/keras/optimizer_v2/optimizer_v2.py:355: UserWarning: The `lr` argument is deprecated, use `learning_rate` instead.\n",
            "  warnings.warn(\n"
          ]
        },
        {
          "name": "stdout",
          "output_type": "stream",
          "text": [
            "170/170 [==============================] - 0s 744us/step - loss: 53528.1562 - root_mean_squared_error: 231.3615\n",
            "Epoch 2/35\n",
            "170/170 [==============================] - 0s 1ms/step - loss: 48511.3398 - root_mean_squared_error: 220.2529\n",
            "Epoch 3/35\n",
            "170/170 [==============================] - 0s 1ms/step - loss: 43814.6680 - root_mean_squared_error: 209.3195\n",
            "Epoch 4/35\n",
            "170/170 [==============================] - 0s 615us/step - loss: 39453.9805 - root_mean_squared_error: 198.6303\n",
            "Epoch 5/35\n",
            "170/170 [==============================] - 0s 621us/step - loss: 35440.8828 - root_mean_squared_error: 188.2575\n",
            "Epoch 6/35\n",
            "170/170 [==============================] - 0s 1ms/step - loss: 31756.3184 - root_mean_squared_error: 178.2030\n",
            "Epoch 7/35\n",
            "170/170 [==============================] - 0s 662us/step - loss: 28404.6152 - root_mean_squared_error: 168.5367\n",
            "Epoch 8/35\n",
            "170/170 [==============================] - 0s 1ms/step - loss: 25384.7676 - root_mean_squared_error: 159.3260\n",
            "Epoch 9/35\n",
            "170/170 [==============================] - 0s 1ms/step - loss: 22668.7773 - root_mean_squared_error: 150.5615\n",
            "Epoch 10/35\n",
            "170/170 [==============================] - 0s 727us/step - loss: 20263.1191 - root_mean_squared_error: 142.3486\n",
            "Epoch 11/35\n",
            "170/170 [==============================] - 0s 643us/step - loss: 18159.9004 - root_mean_squared_error: 134.7587\n",
            "Epoch 12/35\n",
            "170/170 [==============================] - 0s 676us/step - loss: 16347.0869 - root_mean_squared_error: 127.8557\n",
            "Epoch 13/35\n",
            "170/170 [==============================] - 0s 1ms/step - loss: 14803.0801 - root_mean_squared_error: 121.6679\n",
            "Epoch 14/35\n",
            "170/170 [==============================] - 0s 1ms/step - loss: 13510.7344 - root_mean_squared_error: 116.2357\n",
            "Epoch 15/35\n",
            "170/170 [==============================] - 0s 679us/step - loss: 12462.2637 - root_mean_squared_error: 111.6345\n",
            "Epoch 16/35\n",
            "170/170 [==============================] - 0s 950us/step - loss: 11640.0166 - root_mean_squared_error: 107.8889\n",
            "Epoch 17/35\n",
            "170/170 [==============================] - 0s 611us/step - loss: 11026.8740 - root_mean_squared_error: 105.0089\n",
            "Epoch 18/35\n",
            "170/170 [==============================] - 0s 655us/step - loss: 10600.3086 - root_mean_squared_error: 102.9578\n",
            "Epoch 19/35\n",
            "170/170 [==============================] - 0s 633us/step - loss: 10318.7158 - root_mean_squared_error: 101.5811\n",
            "Epoch 20/35\n",
            "170/170 [==============================] - 0s 619us/step - loss: 10136.5732 - root_mean_squared_error: 100.6805\n",
            "Epoch 21/35\n",
            "170/170 [==============================] - 0s 1ms/step - loss: 10007.9473 - root_mean_squared_error: 100.0397\n",
            "Epoch 22/35\n",
            "170/170 [==============================] - 0s 878us/step - loss: 9908.1621 - root_mean_squared_error: 99.5397\n",
            "Epoch 23/35\n",
            "170/170 [==============================] - 0s 723us/step - loss: 9831.4326 - root_mean_squared_error: 99.1536\n",
            "Epoch 24/35\n",
            "170/170 [==============================] - 0s 1ms/step - loss: 9774.3271 - root_mean_squared_error: 98.8652\n",
            "Epoch 25/35\n",
            "170/170 [==============================] - 0s 706us/step - loss: 9734.5088 - root_mean_squared_error: 98.6636\n",
            "Epoch 26/35\n",
            "170/170 [==============================] - 0s 819us/step - loss: 9704.0488 - root_mean_squared_error: 98.5091\n",
            "Epoch 27/35\n",
            "170/170 [==============================] - 0s 621us/step - loss: 9680.3711 - root_mean_squared_error: 98.3889\n",
            "Epoch 28/35\n",
            "170/170 [==============================] - 0s 1ms/step - loss: 9663.0000 - root_mean_squared_error: 98.3006\n",
            "Epoch 29/35\n",
            "170/170 [==============================] - 0s 650us/step - loss: 9650.4736 - root_mean_squared_error: 98.2368\n",
            "Epoch 30/35\n",
            "170/170 [==============================] - 0s 741us/step - loss: 9640.6260 - root_mean_squared_error: 98.1867\n",
            "Epoch 31/35\n",
            "170/170 [==============================] - 0s 965us/step - loss: 9633.5967 - root_mean_squared_error: 98.1509\n",
            "Epoch 32/35\n",
            "170/170 [==============================] - 0s 1ms/step - loss: 9627.9424 - root_mean_squared_error: 98.1221\n",
            "Epoch 33/35\n",
            "170/170 [==============================] - 0s 659us/step - loss: 9623.6670 - root_mean_squared_error: 98.1003\n",
            "Epoch 34/35\n",
            "170/170 [==============================] - 0s 695us/step - loss: 9620.5664 - root_mean_squared_error: 98.0845\n",
            "Epoch 35/35\n",
            "170/170 [==============================] - 0s 1ms/step - loss: 9617.9629 - root_mean_squared_error: 98.0712\n"
          ]
        },
        {
          "data": {
            "image/png": "[encoded data removed]",
            "text/plain": [
              "<Figure size 432x288 with 1 Axes>"
            ]
          },
          "metadata": {
            "needs_background": "light"
          },
          "output_type": "display_data"
        },
        {
          "name": "stdout",
          "output_type": "stream",
          "text": [
            "\n",
            ": Evaluate the new model against the test set:\n",
            "WARNING:tensorflow:Layers in a Sequential model should only have a single input tensor, but we receive a <class 'dict'> input: {'longitude': <tf.Tensor 'ExpandDims_3:0' shape=(100, 1) dtype=float32>, 'latitude': <tf.Tensor 'ExpandDims_2:0' shape=(100, 1) dtype=float32>, 'housing_median_age': <tf.Tensor 'ExpandDims_1:0' shape=(100, 1) dtype=float32>, 'total_rooms': <tf.Tensor 'ExpandDims_7:0' shape=(100, 1) dtype=float32>, 'total_bedrooms': <tf.Tensor 'ExpandDims_6:0' shape=(100, 1) dtype=float32>, 'population': <tf.Tensor 'ExpandDims_5:0' shape=(100, 1) dtype=float32>, 'households': <tf.Tensor 'ExpandDims:0' shape=(100, 1) dtype=float32>, 'median_income': <tf.Tensor 'ExpandDims_4:0' shape=(100, 1) dtype=float32>}\n",
            "Consider rewriting this model with the Functional API.\n",
            "30/30 [==============================] - 0s 624us/step - loss: 9522.4111 - root_mean_squared_error: 97.5828\n"
          ]
        },
        {
          "data": {
            "text/plain": [
              "[9522.4111328125, 97.58283996582031]"
            ]
          },
          "execution_count": 14,
          "metadata": {},
          "output_type": "execute_result"
        }
      ],
      "source": [
        "# The following variables are the hyperparameters.\n",
        "learning_rate = 0.04\n",
        "epochs = 35\n",
        "\n",
        "# Build the model, this time passing in the feature_cross_feature_layer: \n",
        "my_model = create_model(learning_rate, feature_cross_feature_layer)\n",
        "\n",
        "# Train the model on the training set.\n",
        "epochs, rmse = train_model(my_model, train_df, epochs, batch_size, label_name)\n",
        "\n",
        "plot_the_loss_curve(epochs, rmse)\n",
        "\n",
        "print(\"\\n: Evaluate the new model against the test set:\")\n",
        "my_model.evaluate(x=test_features, y=test_label, batch_size=batch_size)"
      ]
    },
    {
      "cell_type": "markdown",
      "metadata": {
        "colab_type": "text",
        "id": "bCT-l1GaWNQE"
      },
      "source": [
        "## Task 4: Did the feature cross outperform buckets?\n",
        "\n",
        "Compare the model's `root_mean_squared_error` values for the two representations (buckets vs. feature cross)?  Which model produced\n",
        "lower losses? "
      ]
    },
    {
      "cell_type": "code",
      "execution_count": 15,
      "metadata": {
        "cellView": "form",
        "colab": {},
        "colab_type": "code",
        "id": "HUzdWDcs5rCi"
      },
      "outputs": [],
      "source": [
        "#@title Double-click for an answer to this question.\n",
        "\n",
        "# Yes, representing these features as a feature \n",
        "# cross produced much lower loss values than \n",
        "# representing these features as buckets"
      ]
    },
    {
      "cell_type": "markdown",
      "metadata": {
        "colab_type": "text",
        "id": "J9Iw3ljfXqSQ"
      },
      "source": [
        "## Task 5: Adjust the resolution of the feature cross\n",
        "\n",
        "Return to the code cell in the \"Represent location as a feature cross\" section. Notice that `resolution_in_degrees` is set to 1.0. Therefore, each cell represents an area of 1.0 degree of latitude by 1.0 degree of longitude, which corresponds to a cell of 110 km by 90 km.  This resolution defines a rather large neighborhood. \n",
        "\n",
        "Experiment with `resolution_in_degrees` to answer the following questions:\n",
        "\n",
        "  1. What value of `resolution_in_degrees` produces the best results (lowest loss value)?\n",
        "  2. Why does loss increase when the value of `resolution_in_degrees` drops below a certain value?\n",
        "\n",
        "Finally, answer the following question:\n",
        "\n",
        "  3. What feature (that does not exist in the California Housing Dataset) would\n",
        "     be a better proxy for location than latitude X longitude."
      ]
    },
    {
      "cell_type": "code",
      "execution_count": 22,
      "metadata": {},
      "outputs": [
        {
          "name": "stdout",
          "output_type": "stream",
          "text": [
            "Epoch 1/35\n",
            "WARNING:tensorflow:Layers in a Sequential model should only have a single input tensor, but we receive a <class 'dict'> input: {'longitude': <tf.Tensor 'ExpandDims_3:0' shape=(100, 1) dtype=float32>, 'latitude': <tf.Tensor 'ExpandDims_2:0' shape=(100, 1) dtype=float32>, 'housing_median_age': <tf.Tensor 'ExpandDims_1:0' shape=(100, 1) dtype=float32>, 'total_rooms': <tf.Tensor 'ExpandDims_7:0' shape=(100, 1) dtype=float32>, 'total_bedrooms': <tf.Tensor 'ExpandDims_6:0' shape=(100, 1) dtype=float32>, 'population': <tf.Tensor 'ExpandDims_5:0' shape=(100, 1) dtype=float32>, 'households': <tf.Tensor 'ExpandDims:0' shape=(100, 1) dtype=float32>, 'median_income': <tf.Tensor 'ExpandDims_4:0' shape=(100, 1) dtype=float32>}\n",
            "Consider rewriting this model with the Functional API.\n"
          ]
        },
        {
          "name": "stderr",
          "output_type": "stream",
          "text": [
            "/home/sonya/.local/lib/python3.8/site-packages/keras/optimizer_v2/optimizer_v2.py:355: UserWarning: The `lr` argument is deprecated, use `learning_rate` instead.\n",
            "  warnings.warn(\n"
          ]
        },
        {
          "name": "stdout",
          "output_type": "stream",
          "text": [
            "WARNING:tensorflow:Layers in a Sequential model should only have a single input tensor, but we receive a <class 'dict'> input: {'longitude': <tf.Tensor 'ExpandDims_3:0' shape=(100, 1) dtype=float32>, 'latitude': <tf.Tensor 'ExpandDims_2:0' shape=(100, 1) dtype=float32>, 'housing_median_age': <tf.Tensor 'ExpandDims_1:0' shape=(100, 1) dtype=float32>, 'total_rooms': <tf.Tensor 'ExpandDims_7:0' shape=(100, 1) dtype=float32>, 'total_bedrooms': <tf.Tensor 'ExpandDims_6:0' shape=(100, 1) dtype=float32>, 'population': <tf.Tensor 'ExpandDims_5:0' shape=(100, 1) dtype=float32>, 'households': <tf.Tensor 'ExpandDims:0' shape=(100, 1) dtype=float32>, 'median_income': <tf.Tensor 'ExpandDims_4:0' shape=(100, 1) dtype=float32>}\n",
            "Consider rewriting this model with the Functional API.\n",
            "170/170 [==============================] - 0s 953us/step - loss: 53661.3320 - root_mean_squared_error: 231.6492\n",
            "Epoch 2/35\n",
            "170/170 [==============================] - 0s 1ms/step - loss: 48803.2852 - root_mean_squared_error: 220.9147\n",
            "Epoch 3/35\n",
            "170/170 [==============================] - 0s 1ms/step - loss: 44290.8281 - root_mean_squared_error: 210.4539\n",
            "Epoch 4/35\n",
            "170/170 [==============================] - 0s 955us/step - loss: 40079.7617 - root_mean_squared_error: 200.1993\n",
            "Epoch 5/35\n",
            "170/170 [==============================] - 0s 921us/step - loss: 36157.8906 - root_mean_squared_error: 190.1523\n",
            "Epoch 6/35\n",
            "170/170 [==============================] - 0s 1ms/step - loss: 32577.5957 - root_mean_squared_error: 180.4926\n",
            "Epoch 7/35\n",
            "170/170 [==============================] - 0s 1ms/step - loss: 29292.3418 - root_mean_squared_error: 171.1501\n",
            "Epoch 8/35\n",
            "170/170 [==============================] - 0s 1ms/step - loss: 26303.3613 - root_mean_squared_error: 162.1831\n",
            "Epoch 9/35\n",
            "170/170 [==============================] - 0s 1ms/step - loss: 23624.8262 - root_mean_squared_error: 153.7037\n",
            "Epoch 10/35\n",
            "170/170 [==============================] - 0s 1ms/step - loss: 21224.4824 - root_mean_squared_error: 145.6862\n",
            "Epoch 11/35\n",
            "170/170 [==============================] - 0s 1ms/step - loss: 19106.4141 - root_mean_squared_error: 138.2260\n",
            "Epoch 12/35\n",
            "170/170 [==============================] - 0s 968us/step - loss: 17256.1777 - root_mean_squared_error: 131.3628\n",
            "Epoch 13/35\n",
            "170/170 [==============================] - 0s 983us/step - loss: 15662.3691 - root_mean_squared_error: 125.1494\n",
            "Epoch 14/35\n",
            "170/170 [==============================] - 0s 1ms/step - loss: 14308.2568 - root_mean_squared_error: 119.6171\n",
            "Epoch 15/35\n",
            "170/170 [==============================] - 0s 954us/step - loss: 13176.6406 - root_mean_squared_error: 114.7896\n",
            "Epoch 16/35\n",
            "170/170 [==============================] - 0s 2ms/step - loss: 12254.3604 - root_mean_squared_error: 110.6994\n",
            "Epoch 17/35\n",
            "170/170 [==============================] - 0s 1ms/step - loss: 11522.7402 - root_mean_squared_error: 107.3440\n",
            "Epoch 18/35\n",
            "170/170 [==============================] - 0s 939us/step - loss: 10951.9229 - root_mean_squared_error: 104.6514\n",
            "Epoch 19/35\n",
            "170/170 [==============================] - 0s 785us/step - loss: 10530.1562 - root_mean_squared_error: 102.6165\n",
            "Epoch 20/35\n",
            "170/170 [==============================] - 0s 896us/step - loss: 10215.2041 - root_mean_squared_error: 101.0703\n",
            "Epoch 21/35\n",
            "170/170 [==============================] - 0s 1ms/step - loss: 9976.7168 - root_mean_squared_error: 99.8835\n",
            "Epoch 22/35\n",
            "170/170 [==============================] - 0s 1ms/step - loss: 9788.4248 - root_mean_squared_error: 98.9365\n",
            "Epoch 23/35\n",
            "170/170 [==============================] - 0s 835us/step - loss: 9628.3994 - root_mean_squared_error: 98.1244\n",
            "Epoch 24/35\n",
            "170/170 [==============================] - 0s 1ms/step - loss: 9488.9336 - root_mean_squared_error: 97.4112\n",
            "Epoch 25/35\n",
            "170/170 [==============================] - 0s 868us/step - loss: 9365.9404 - root_mean_squared_error: 96.7778\n",
            "Epoch 26/35\n",
            "170/170 [==============================] - 0s 832us/step - loss: 9259.0850 - root_mean_squared_error: 96.2241\n",
            "Epoch 27/35\n",
            "170/170 [==============================] - 0s 854us/step - loss: 9167.3555 - root_mean_squared_error: 95.7463\n",
            "Epoch 28/35\n",
            "170/170 [==============================] - 0s 840us/step - loss: 9087.7041 - root_mean_squared_error: 95.3295\n",
            "Epoch 29/35\n",
            "170/170 [==============================] - 0s 884us/step - loss: 9019.1816 - root_mean_squared_error: 94.9694\n",
            "Epoch 30/35\n",
            "170/170 [==============================] - 0s 844us/step - loss: 8961.4355 - root_mean_squared_error: 94.6649\n",
            "Epoch 31/35\n",
            "170/170 [==============================] - 0s 833us/step - loss: 8911.1465 - root_mean_squared_error: 94.3989\n",
            "Epoch 32/35\n",
            "170/170 [==============================] - 0s 874us/step - loss: 8869.0586 - root_mean_squared_error: 94.1757\n",
            "Epoch 33/35\n",
            "170/170 [==============================] - 0s 865us/step - loss: 8832.3359 - root_mean_squared_error: 93.9805\n",
            "Epoch 34/35\n",
            "170/170 [==============================] - 0s 897us/step - loss: 8800.8203 - root_mean_squared_error: 93.8127\n",
            "Epoch 35/35\n",
            "170/170 [==============================] - 0s 905us/step - loss: 8773.7812 - root_mean_squared_error: 93.6685\n"
          ]
        },
        {
          "data": {
            "image/png": "[encoded data removed]",
            "text/plain": [
              "<Figure size 432x288 with 1 Axes>"
            ]
          },
          "metadata": {
            "needs_background": "light"
          },
          "output_type": "display_data"
        },
        {
          "name": "stdout",
          "output_type": "stream",
          "text": [
            "\n",
            ": Evaluate the new model against the test set:\n",
            "WARNING:tensorflow:Layers in a Sequential model should only have a single input tensor, but we receive a <class 'dict'> input: {'longitude': <tf.Tensor 'ExpandDims_3:0' shape=(100, 1) dtype=float32>, 'latitude': <tf.Tensor 'ExpandDims_2:0' shape=(100, 1) dtype=float32>, 'housing_median_age': <tf.Tensor 'ExpandDims_1:0' shape=(100, 1) dtype=float32>, 'total_rooms': <tf.Tensor 'ExpandDims_7:0' shape=(100, 1) dtype=float32>, 'total_bedrooms': <tf.Tensor 'ExpandDims_6:0' shape=(100, 1) dtype=float32>, 'population': <tf.Tensor 'ExpandDims_5:0' shape=(100, 1) dtype=float32>, 'households': <tf.Tensor 'ExpandDims:0' shape=(100, 1) dtype=float32>, 'median_income': <tf.Tensor 'ExpandDims_4:0' shape=(100, 1) dtype=float32>}\n",
            "Consider rewriting this model with the Functional API.\n",
            "30/30 [==============================] - 0s 655us/step - loss: 8644.6855 - root_mean_squared_error: 92.9768\n"
          ]
        },
        {
          "data": {
            "text/plain": [
              "[8644.685546875, 92.976806640625]"
            ]
          },
          "execution_count": 22,
          "metadata": {},
          "output_type": "execute_result"
        }
      ],
      "source": [
        "resolution_in_degrees = 0.4\n",
        "\n",
        "# Create a new empty list that will eventually hold the generated feature column.\n",
        "feature_columns = []\n",
        "\n",
        "# Create a bucket feature column for latitude.\n",
        "latitude_as_a_numeric_column = tf.feature_column.numeric_column(\"latitude\")\n",
        "latitude_boundaries = list(np.arange(int(min(train_df['latitude'])), int(max(train_df['latitude'])), resolution_in_degrees))\n",
        "latitude = tf.feature_column.bucketized_column(latitude_as_a_numeric_column, latitude_boundaries)\n",
        "\n",
        "# Create a bucket feature column for longitude.\n",
        "longitude_as_a_numeric_column = tf.feature_column.numeric_column(\"longitude\")\n",
        "longitude_boundaries = list(np.arange(int(min(train_df['longitude'])), int(max(train_df['longitude'])), resolution_in_degrees))\n",
        "longitude = tf.feature_column.bucketized_column(longitude_as_a_numeric_column, longitude_boundaries)\n",
        "\n",
        "# Create a feature cross of latitude and longitude.\n",
        "latitude_x_longitude = tf.feature_column.crossed_column([latitude, longitude], hash_bucket_size=100)\n",
        "crossed_feature = tf.feature_column.indicator_column(latitude_x_longitude)\n",
        "feature_columns.append(crossed_feature)\n",
        "\n",
        "# Convert the list of feature columns into a layer that will later be fed into\n",
        "# the model. \n",
        "feature_cross_feature_layer = layers.DenseFeatures(feature_columns)\n",
        "\n",
        "# The following variables are the hyperparameters.\n",
        "learning_rate = 0.04\n",
        "epochs = 35\n",
        "\n",
        "# Build the model, this time passing in the feature_cross_feature_layer: \n",
        "my_model = create_model(learning_rate, feature_cross_feature_layer)\n",
        "\n",
        "# Train the model on the training set.\n",
        "epochs, rmse = train_model(my_model, train_df, epochs, batch_size, label_name)\n",
        "\n",
        "plot_the_loss_curve(epochs, rmse)\n",
        "\n",
        "print(\"\\n: Evaluate the new model against the test set:\")\n",
        "my_model.evaluate(x=test_features, y=test_label, batch_size=batch_size)\n"
      ]
    },
    {
      "cell_type": "code",
      "execution_count": 23,
      "metadata": {
        "cellView": "form",
        "colab": {},
        "colab_type": "code",
        "id": "71WWwlhx4h0X"
      },
      "outputs": [],
      "source": [
        "#@title Double-click for possible answers to Task 5.\n",
        "\n",
        "#1. A resolution of ~0.4 degree provides the best \n",
        "#   results.\n",
        "\n",
        "#2. Below ~0.4 degree, loss increases because the \n",
        "#   dataset does not contain enough examples in \n",
        "#   each cell to accurately predict prices for \n",
        "#   those cells.\n",
        "\n",
        "#3. Postal code would be a far better feature \n",
        "#   than latitude X longitude, assuming that \n",
        "#   the dataset contained sufficient examples \n",
        "#   in each postal code."
      ]
    }
  ],
  "metadata": {
    "colab": {
      "collapsed_sections": [],
      "name": "Representation with a Feature Cross.ipynb",
      "private_outputs": true,
      "provenance": []
    },
    "kernelspec": {
      "display_name": "Python 3",
      "name": "python3"
    },
    "language_info": {
      "codemirror_mode": {
        "name": "ipython",
        "version": 3
      },
      "file_extension": ".py",
      "mimetype": "text/x-python",
      "name": "python",
      "nbconvert_exporter": "python",
      "pygments_lexer": "ipython3",
      "version": "3.8.10"
    }
  },
  "nbformat": 4,
  "nbformat_minor": 0
}
